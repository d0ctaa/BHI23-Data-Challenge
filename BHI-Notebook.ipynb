{
 "cells": [
  {
   "cell_type": "code",
   "execution_count": 1,
   "metadata": {},
   "outputs": [],
   "source": [
    "%%capture\n",
    "\n",
    "import pandas as pd\n",
    "import numpy as np\n",
    "import datetime\n",
    "import pyspark as psk\n",
    "import itertools\n",
    "import matplotlib.pyplot as plt\n",
    "from pandas_profiling import ProfileReport\n",
    "from sklearn.model_selection import train_test_split\n",
    "from sklearn.metrics import mean_squared_error\n",
    "from statsmodels.tsa.stattools import adfuller #Check stationarity by running ADF Test\n",
    "from statsmodels.graphics.tsaplots import plot_acf #autoregressive correlation function for initial P value\n",
    "from statsmodels.graphics.tsaplots import plot_pacf #partial autoregressive correlation function for initial Q value\n",
    "import statsmodels.api as sm\n",
    "from statsmodels.tsa.api import VAR\n"
   ]
  },
  {
   "attachments": {},
   "cell_type": "markdown",
   "metadata": {},
   "source": [
    "## Goal of Challenge:\n",
    "- Predict the 7-day average of new COVID-19 cases and that of the positivity rate based on the historical public health data.\n",
    "\n",
    "#### <u> Report </u>: predictions for the 1-week prediction period (Sep. 27, 2021 – Oct. 4, 2021)\n",
    "\n",
    "1. Daily new cases for the 1-week prediction period \n",
    "2. 7-day average of daily new cases for every 7-day window ending on each day of the 1-week prediction period \n",
    "3. Daily positivity rate for the 1-week prediction period \n",
    "4. 7-day average of the positivity rate for every 7-day window ending on each day of the 1-week prediction period Along with these future predictions\n",
    "5. report how accurately trained models were able to fit the historical data for the 4-week period ending on the submission date (Aug. 30, 2021 – Sep. 26, 2021). \n",
    "\n",
    "##### <u> Evaluation </u>: \n",
    "1. How accurately is the predictive model able to model the trends in the past? \n",
    "2. How accurately can the model predict future trends for the next 1-week period?"
   ]
  },
  {
   "cell_type": "code",
   "execution_count": 34,
   "metadata": {},
   "outputs": [],
   "source": [
    "%%capture\n",
    "\n",
    "states = pd.DataFrame( pd.read_csv('states.csv') )\n",
    "cbsas = pd.DataFrame(pd.read_csv('cbsas.csv'))\n",
    "counties = pd.DataFrame(pd.read_csv('counties.csv'))\n",
    "\n",
    "#this additional Data was downloaded from the covid Act Now website\n",
    "state_historical = pd.DataFrame(pd.read_csv('states.timeseries.csv')) "
   ]
  },
  {
   "cell_type": "code",
   "execution_count": 4,
   "metadata": {},
   "outputs": [
    {
     "data": {
      "text/html": [
       "<div>\n",
       "<style scoped>\n",
       "    .dataframe tbody tr th:only-of-type {\n",
       "        vertical-align: middle;\n",
       "    }\n",
       "\n",
       "    .dataframe tbody tr th {\n",
       "        vertical-align: top;\n",
       "    }\n",
       "\n",
       "    .dataframe thead th {\n",
       "        text-align: right;\n",
       "    }\n",
       "</style>\n",
       "<table border=\"1\" class=\"dataframe\">\n",
       "  <thead>\n",
       "    <tr style=\"text-align: right;\">\n",
       "      <th></th>\n",
       "      <th>date</th>\n",
       "      <th>country</th>\n",
       "      <th>state</th>\n",
       "      <th>county</th>\n",
       "      <th>fips</th>\n",
       "      <th>lat</th>\n",
       "      <th>long</th>\n",
       "      <th>locationId</th>\n",
       "      <th>actuals.cases</th>\n",
       "      <th>actuals.deaths</th>\n",
       "      <th>...</th>\n",
       "      <th>actuals.hsaIcuBeds.currentUsageCovid</th>\n",
       "      <th>metrics.bedsWithCovidPatientsRatio</th>\n",
       "      <th>hsaName</th>\n",
       "      <th>actuals.hospitalBeds.weeklyCovidAdmissions</th>\n",
       "      <th>actuals.hsaHospitalBeds.weeklyCovidAdmissions</th>\n",
       "      <th>metrics.weeklyCovidAdmissionsPer100k</th>\n",
       "      <th>communityLevels.cdcCommunityLevel</th>\n",
       "      <th>communityLevels.canCommunityLevel</th>\n",
       "      <th>actuals.vaccinationsFall2022BivalentBooster</th>\n",
       "      <th>metrics.vaccinationsFall2022BivalentBoosterRatio</th>\n",
       "    </tr>\n",
       "  </thead>\n",
       "  <tbody>\n",
       "    <tr>\n",
       "      <th>0</th>\n",
       "      <td>2020-03-01</td>\n",
       "      <td>US</td>\n",
       "      <td>AK</td>\n",
       "      <td>NaN</td>\n",
       "      <td>2</td>\n",
       "      <td>NaN</td>\n",
       "      <td>NaN</td>\n",
       "      <td>iso1:us#iso2:us-ak</td>\n",
       "      <td>NaN</td>\n",
       "      <td>NaN</td>\n",
       "      <td>...</td>\n",
       "      <td>NaN</td>\n",
       "      <td>NaN</td>\n",
       "      <td>NaN</td>\n",
       "      <td>NaN</td>\n",
       "      <td>NaN</td>\n",
       "      <td>NaN</td>\n",
       "      <td>NaN</td>\n",
       "      <td>NaN</td>\n",
       "      <td>NaN</td>\n",
       "      <td>NaN</td>\n",
       "    </tr>\n",
       "    <tr>\n",
       "      <th>1</th>\n",
       "      <td>2020-03-02</td>\n",
       "      <td>US</td>\n",
       "      <td>AK</td>\n",
       "      <td>NaN</td>\n",
       "      <td>2</td>\n",
       "      <td>NaN</td>\n",
       "      <td>NaN</td>\n",
       "      <td>iso1:us#iso2:us-ak</td>\n",
       "      <td>NaN</td>\n",
       "      <td>NaN</td>\n",
       "      <td>...</td>\n",
       "      <td>NaN</td>\n",
       "      <td>NaN</td>\n",
       "      <td>NaN</td>\n",
       "      <td>NaN</td>\n",
       "      <td>NaN</td>\n",
       "      <td>NaN</td>\n",
       "      <td>NaN</td>\n",
       "      <td>NaN</td>\n",
       "      <td>NaN</td>\n",
       "      <td>NaN</td>\n",
       "    </tr>\n",
       "    <tr>\n",
       "      <th>2</th>\n",
       "      <td>2020-03-03</td>\n",
       "      <td>US</td>\n",
       "      <td>AK</td>\n",
       "      <td>NaN</td>\n",
       "      <td>2</td>\n",
       "      <td>NaN</td>\n",
       "      <td>NaN</td>\n",
       "      <td>iso1:us#iso2:us-ak</td>\n",
       "      <td>NaN</td>\n",
       "      <td>NaN</td>\n",
       "      <td>...</td>\n",
       "      <td>NaN</td>\n",
       "      <td>NaN</td>\n",
       "      <td>NaN</td>\n",
       "      <td>NaN</td>\n",
       "      <td>NaN</td>\n",
       "      <td>NaN</td>\n",
       "      <td>NaN</td>\n",
       "      <td>NaN</td>\n",
       "      <td>NaN</td>\n",
       "      <td>NaN</td>\n",
       "    </tr>\n",
       "    <tr>\n",
       "      <th>3</th>\n",
       "      <td>2020-03-04</td>\n",
       "      <td>US</td>\n",
       "      <td>AK</td>\n",
       "      <td>NaN</td>\n",
       "      <td>2</td>\n",
       "      <td>NaN</td>\n",
       "      <td>NaN</td>\n",
       "      <td>iso1:us#iso2:us-ak</td>\n",
       "      <td>NaN</td>\n",
       "      <td>NaN</td>\n",
       "      <td>...</td>\n",
       "      <td>NaN</td>\n",
       "      <td>NaN</td>\n",
       "      <td>NaN</td>\n",
       "      <td>NaN</td>\n",
       "      <td>NaN</td>\n",
       "      <td>NaN</td>\n",
       "      <td>NaN</td>\n",
       "      <td>NaN</td>\n",
       "      <td>NaN</td>\n",
       "      <td>NaN</td>\n",
       "    </tr>\n",
       "    <tr>\n",
       "      <th>4</th>\n",
       "      <td>2020-03-05</td>\n",
       "      <td>US</td>\n",
       "      <td>AK</td>\n",
       "      <td>NaN</td>\n",
       "      <td>2</td>\n",
       "      <td>NaN</td>\n",
       "      <td>NaN</td>\n",
       "      <td>iso1:us#iso2:us-ak</td>\n",
       "      <td>NaN</td>\n",
       "      <td>NaN</td>\n",
       "      <td>...</td>\n",
       "      <td>NaN</td>\n",
       "      <td>NaN</td>\n",
       "      <td>NaN</td>\n",
       "      <td>NaN</td>\n",
       "      <td>NaN</td>\n",
       "      <td>NaN</td>\n",
       "      <td>NaN</td>\n",
       "      <td>NaN</td>\n",
       "      <td>NaN</td>\n",
       "      <td>NaN</td>\n",
       "    </tr>\n",
       "  </tbody>\n",
       "</table>\n",
       "<p>5 rows × 61 columns</p>\n",
       "</div>"
      ],
      "text/plain": [
       "         date country state  county  fips  lat  long          locationId  \\\n",
       "0  2020-03-01      US    AK     NaN     2  NaN   NaN  iso1:us#iso2:us-ak   \n",
       "1  2020-03-02      US    AK     NaN     2  NaN   NaN  iso1:us#iso2:us-ak   \n",
       "2  2020-03-03      US    AK     NaN     2  NaN   NaN  iso1:us#iso2:us-ak   \n",
       "3  2020-03-04      US    AK     NaN     2  NaN   NaN  iso1:us#iso2:us-ak   \n",
       "4  2020-03-05      US    AK     NaN     2  NaN   NaN  iso1:us#iso2:us-ak   \n",
       "\n",
       "   actuals.cases  actuals.deaths  ...  actuals.hsaIcuBeds.currentUsageCovid  \\\n",
       "0            NaN             NaN  ...                                   NaN   \n",
       "1            NaN             NaN  ...                                   NaN   \n",
       "2            NaN             NaN  ...                                   NaN   \n",
       "3            NaN             NaN  ...                                   NaN   \n",
       "4            NaN             NaN  ...                                   NaN   \n",
       "\n",
       "   metrics.bedsWithCovidPatientsRatio  hsaName  \\\n",
       "0                                 NaN      NaN   \n",
       "1                                 NaN      NaN   \n",
       "2                                 NaN      NaN   \n",
       "3                                 NaN      NaN   \n",
       "4                                 NaN      NaN   \n",
       "\n",
       "   actuals.hospitalBeds.weeklyCovidAdmissions  \\\n",
       "0                                         NaN   \n",
       "1                                         NaN   \n",
       "2                                         NaN   \n",
       "3                                         NaN   \n",
       "4                                         NaN   \n",
       "\n",
       "   actuals.hsaHospitalBeds.weeklyCovidAdmissions  \\\n",
       "0                                            NaN   \n",
       "1                                            NaN   \n",
       "2                                            NaN   \n",
       "3                                            NaN   \n",
       "4                                            NaN   \n",
       "\n",
       "   metrics.weeklyCovidAdmissionsPer100k  communityLevels.cdcCommunityLevel  \\\n",
       "0                                   NaN                                NaN   \n",
       "1                                   NaN                                NaN   \n",
       "2                                   NaN                                NaN   \n",
       "3                                   NaN                                NaN   \n",
       "4                                   NaN                                NaN   \n",
       "\n",
       "   communityLevels.canCommunityLevel  \\\n",
       "0                                NaN   \n",
       "1                                NaN   \n",
       "2                                NaN   \n",
       "3                                NaN   \n",
       "4                                NaN   \n",
       "\n",
       "   actuals.vaccinationsFall2022BivalentBooster  \\\n",
       "0                                          NaN   \n",
       "1                                          NaN   \n",
       "2                                          NaN   \n",
       "3                                          NaN   \n",
       "4                                          NaN   \n",
       "\n",
       "   metrics.vaccinationsFall2022BivalentBoosterRatio  \n",
       "0                                               NaN  \n",
       "1                                               NaN  \n",
       "2                                               NaN  \n",
       "3                                               NaN  \n",
       "4                                               NaN  \n",
       "\n",
       "[5 rows x 61 columns]"
      ]
     },
     "execution_count": 4,
     "metadata": {},
     "output_type": "execute_result"
    }
   ],
   "source": [
    "state_historical.head(5)"
   ]
  },
  {
   "cell_type": "code",
   "execution_count": 5,
   "metadata": {},
   "outputs": [],
   "source": [
    "%%capture\n",
    "# I created a function that lets me profile the data and observe corelations\n",
    "\n",
    "def file_prof(fileX, htmlX):\n",
    "    filex_profile = ProfileReport(fileX)\n",
    "    html_name = f\"{htmlX}.html\"\n",
    "    filex_profile.to_file(html_name)"
   ]
  },
  {
   "cell_type": "code",
   "execution_count": 6,
   "metadata": {},
   "outputs": [],
   "source": [
    "%%capture\n",
    "\n",
    "#This cell ran, will provile the CSV files to an interactive html\n",
    "'''file_prof(states, 'state_prof')\n",
    "file_prof(cbsas, 'cbsas_prof')\n",
    "file_prof(gmr, 'gmr_prof')\n",
    "file_prof(counties, 'counties_prof')'''\n"
   ]
  },
  {
   "cell_type": "code",
   "execution_count": 8,
   "metadata": {},
   "outputs": [],
   "source": [
    "#convert date column to dtype: datetime. \n",
    "state_historical['date']= state_historical['date'].astype('datetime64[ns]')"
   ]
  },
  {
   "attachments": {},
   "cell_type": "markdown",
   "metadata": {},
   "source": [
    "# Vector AutoRegression"
   ]
  },
  {
   "attachments": {},
   "cell_type": "markdown",
   "metadata": {},
   "source": [
    "##### I used the VAR model due to the  multivariate nature of the curated data\n",
    "\n",
    "* The data used to train is a combination of data from the global modility rate file and the historical state file.\n",
    "* I preprocessed both files, filtered them for the state of colorado and merged them together.\n"
   ]
  },
  {
   "cell_type": "code",
   "execution_count": 9,
   "metadata": {},
   "outputs": [],
   "source": [
    "\n",
    "sample_historical = state_historical[['date', 'country','state','metrics.infectionRate','actuals.newCases']]\n"
   ]
  },
  {
   "cell_type": "code",
   "execution_count": 10,
   "metadata": {},
   "outputs": [],
   "source": [
    "#Here the data is filtered for the dates given\n",
    "\n",
    "sample_historical = sample_historical[(sample_historical['date'] >= '2021-08-30') & (sample_historical['date']<= '2021-09-26')]\n"
   ]
  },
  {
   "cell_type": "code",
   "execution_count": 11,
   "metadata": {},
   "outputs": [],
   "source": [
    "#here the data is filtered for the the state of Colorado\n",
    "sample_historical_co = sample_historical[sample_historical['state']=='CO']"
   ]
  },
  {
   "cell_type": "code",
   "execution_count": 12,
   "metadata": {},
   "outputs": [
    {
     "data": {
      "text/html": [
       "<div>\n",
       "<style scoped>\n",
       "    .dataframe tbody tr th:only-of-type {\n",
       "        vertical-align: middle;\n",
       "    }\n",
       "\n",
       "    .dataframe tbody tr th {\n",
       "        vertical-align: top;\n",
       "    }\n",
       "\n",
       "    .dataframe thead th {\n",
       "        text-align: right;\n",
       "    }\n",
       "</style>\n",
       "<table border=\"1\" class=\"dataframe\">\n",
       "  <thead>\n",
       "    <tr style=\"text-align: right;\">\n",
       "      <th></th>\n",
       "      <th>date</th>\n",
       "      <th>country</th>\n",
       "      <th>state</th>\n",
       "      <th>metrics.infectionRate</th>\n",
       "      <th>actuals.newCases</th>\n",
       "    </tr>\n",
       "  </thead>\n",
       "  <tbody>\n",
       "    <tr>\n",
       "      <th>7109</th>\n",
       "      <td>2021-08-30</td>\n",
       "      <td>US</td>\n",
       "      <td>CO</td>\n",
       "      <td>1.10</td>\n",
       "      <td>3076.0</td>\n",
       "    </tr>\n",
       "    <tr>\n",
       "      <th>7110</th>\n",
       "      <td>2021-08-31</td>\n",
       "      <td>US</td>\n",
       "      <td>CO</td>\n",
       "      <td>1.09</td>\n",
       "      <td>2104.0</td>\n",
       "    </tr>\n",
       "    <tr>\n",
       "      <th>7111</th>\n",
       "      <td>2021-09-01</td>\n",
       "      <td>US</td>\n",
       "      <td>CO</td>\n",
       "      <td>1.08</td>\n",
       "      <td>1604.0</td>\n",
       "    </tr>\n",
       "    <tr>\n",
       "      <th>7112</th>\n",
       "      <td>2021-09-02</td>\n",
       "      <td>US</td>\n",
       "      <td>CO</td>\n",
       "      <td>1.08</td>\n",
       "      <td>2873.0</td>\n",
       "    </tr>\n",
       "    <tr>\n",
       "      <th>7113</th>\n",
       "      <td>2021-09-03</td>\n",
       "      <td>US</td>\n",
       "      <td>CO</td>\n",
       "      <td>1.07</td>\n",
       "      <td>2118.0</td>\n",
       "    </tr>\n",
       "    <tr>\n",
       "      <th>7114</th>\n",
       "      <td>2021-09-04</td>\n",
       "      <td>US</td>\n",
       "      <td>CO</td>\n",
       "      <td>1.06</td>\n",
       "      <td>NaN</td>\n",
       "    </tr>\n",
       "    <tr>\n",
       "      <th>7115</th>\n",
       "      <td>2021-09-05</td>\n",
       "      <td>US</td>\n",
       "      <td>CO</td>\n",
       "      <td>1.05</td>\n",
       "      <td>928.0</td>\n",
       "    </tr>\n",
       "    <tr>\n",
       "      <th>7116</th>\n",
       "      <td>2021-09-06</td>\n",
       "      <td>US</td>\n",
       "      <td>CO</td>\n",
       "      <td>1.04</td>\n",
       "      <td>3578.0</td>\n",
       "    </tr>\n",
       "    <tr>\n",
       "      <th>7117</th>\n",
       "      <td>2021-09-07</td>\n",
       "      <td>US</td>\n",
       "      <td>CO</td>\n",
       "      <td>1.04</td>\n",
       "      <td>1930.0</td>\n",
       "    </tr>\n",
       "    <tr>\n",
       "      <th>7118</th>\n",
       "      <td>2021-09-08</td>\n",
       "      <td>US</td>\n",
       "      <td>CO</td>\n",
       "      <td>1.03</td>\n",
       "      <td>2083.0</td>\n",
       "    </tr>\n",
       "    <tr>\n",
       "      <th>7119</th>\n",
       "      <td>2021-09-09</td>\n",
       "      <td>US</td>\n",
       "      <td>CO</td>\n",
       "      <td>1.02</td>\n",
       "      <td>1827.0</td>\n",
       "    </tr>\n",
       "    <tr>\n",
       "      <th>7120</th>\n",
       "      <td>2021-09-10</td>\n",
       "      <td>US</td>\n",
       "      <td>CO</td>\n",
       "      <td>1.01</td>\n",
       "      <td>1721.0</td>\n",
       "    </tr>\n",
       "    <tr>\n",
       "      <th>7121</th>\n",
       "      <td>2021-09-11</td>\n",
       "      <td>US</td>\n",
       "      <td>CO</td>\n",
       "      <td>1.01</td>\n",
       "      <td>0.0</td>\n",
       "    </tr>\n",
       "    <tr>\n",
       "      <th>7122</th>\n",
       "      <td>2021-09-12</td>\n",
       "      <td>US</td>\n",
       "      <td>CO</td>\n",
       "      <td>1.00</td>\n",
       "      <td>1137.0</td>\n",
       "    </tr>\n",
       "    <tr>\n",
       "      <th>7123</th>\n",
       "      <td>2021-09-13</td>\n",
       "      <td>US</td>\n",
       "      <td>CO</td>\n",
       "      <td>0.99</td>\n",
       "      <td>4326.0</td>\n",
       "    </tr>\n",
       "    <tr>\n",
       "      <th>7124</th>\n",
       "      <td>2021-09-14</td>\n",
       "      <td>US</td>\n",
       "      <td>CO</td>\n",
       "      <td>0.99</td>\n",
       "      <td>2517.0</td>\n",
       "    </tr>\n",
       "    <tr>\n",
       "      <th>7125</th>\n",
       "      <td>2021-09-15</td>\n",
       "      <td>US</td>\n",
       "      <td>CO</td>\n",
       "      <td>0.99</td>\n",
       "      <td>1594.0</td>\n",
       "    </tr>\n",
       "    <tr>\n",
       "      <th>7126</th>\n",
       "      <td>2021-09-16</td>\n",
       "      <td>US</td>\n",
       "      <td>CO</td>\n",
       "      <td>0.98</td>\n",
       "      <td>2123.0</td>\n",
       "    </tr>\n",
       "    <tr>\n",
       "      <th>7127</th>\n",
       "      <td>2021-09-17</td>\n",
       "      <td>US</td>\n",
       "      <td>CO</td>\n",
       "      <td>0.98</td>\n",
       "      <td>2145.0</td>\n",
       "    </tr>\n",
       "    <tr>\n",
       "      <th>7128</th>\n",
       "      <td>2021-09-18</td>\n",
       "      <td>US</td>\n",
       "      <td>CO</td>\n",
       "      <td>0.98</td>\n",
       "      <td>0.0</td>\n",
       "    </tr>\n",
       "    <tr>\n",
       "      <th>7129</th>\n",
       "      <td>2021-09-19</td>\n",
       "      <td>US</td>\n",
       "      <td>CO</td>\n",
       "      <td>0.98</td>\n",
       "      <td>1320.0</td>\n",
       "    </tr>\n",
       "    <tr>\n",
       "      <th>7130</th>\n",
       "      <td>2021-09-20</td>\n",
       "      <td>US</td>\n",
       "      <td>CO</td>\n",
       "      <td>0.98</td>\n",
       "      <td>4007.0</td>\n",
       "    </tr>\n",
       "    <tr>\n",
       "      <th>7131</th>\n",
       "      <td>2021-09-21</td>\n",
       "      <td>US</td>\n",
       "      <td>CO</td>\n",
       "      <td>0.99</td>\n",
       "      <td>1804.0</td>\n",
       "    </tr>\n",
       "    <tr>\n",
       "      <th>7132</th>\n",
       "      <td>2021-09-22</td>\n",
       "      <td>US</td>\n",
       "      <td>CO</td>\n",
       "      <td>0.99</td>\n",
       "      <td>1311.0</td>\n",
       "    </tr>\n",
       "    <tr>\n",
       "      <th>7133</th>\n",
       "      <td>2021-09-23</td>\n",
       "      <td>US</td>\n",
       "      <td>CO</td>\n",
       "      <td>0.99</td>\n",
       "      <td>2428.0</td>\n",
       "    </tr>\n",
       "    <tr>\n",
       "      <th>7134</th>\n",
       "      <td>2021-09-24</td>\n",
       "      <td>US</td>\n",
       "      <td>CO</td>\n",
       "      <td>1.00</td>\n",
       "      <td>1559.0</td>\n",
       "    </tr>\n",
       "    <tr>\n",
       "      <th>7135</th>\n",
       "      <td>2021-09-25</td>\n",
       "      <td>US</td>\n",
       "      <td>CO</td>\n",
       "      <td>1.01</td>\n",
       "      <td>386.0</td>\n",
       "    </tr>\n",
       "    <tr>\n",
       "      <th>7136</th>\n",
       "      <td>2021-09-26</td>\n",
       "      <td>US</td>\n",
       "      <td>CO</td>\n",
       "      <td>1.01</td>\n",
       "      <td>386.0</td>\n",
       "    </tr>\n",
       "  </tbody>\n",
       "</table>\n",
       "</div>"
      ],
      "text/plain": [
       "           date country state  metrics.infectionRate  actuals.newCases\n",
       "7109 2021-08-30      US    CO                   1.10            3076.0\n",
       "7110 2021-08-31      US    CO                   1.09            2104.0\n",
       "7111 2021-09-01      US    CO                   1.08            1604.0\n",
       "7112 2021-09-02      US    CO                   1.08            2873.0\n",
       "7113 2021-09-03      US    CO                   1.07            2118.0\n",
       "7114 2021-09-04      US    CO                   1.06               NaN\n",
       "7115 2021-09-05      US    CO                   1.05             928.0\n",
       "7116 2021-09-06      US    CO                   1.04            3578.0\n",
       "7117 2021-09-07      US    CO                   1.04            1930.0\n",
       "7118 2021-09-08      US    CO                   1.03            2083.0\n",
       "7119 2021-09-09      US    CO                   1.02            1827.0\n",
       "7120 2021-09-10      US    CO                   1.01            1721.0\n",
       "7121 2021-09-11      US    CO                   1.01               0.0\n",
       "7122 2021-09-12      US    CO                   1.00            1137.0\n",
       "7123 2021-09-13      US    CO                   0.99            4326.0\n",
       "7124 2021-09-14      US    CO                   0.99            2517.0\n",
       "7125 2021-09-15      US    CO                   0.99            1594.0\n",
       "7126 2021-09-16      US    CO                   0.98            2123.0\n",
       "7127 2021-09-17      US    CO                   0.98            2145.0\n",
       "7128 2021-09-18      US    CO                   0.98               0.0\n",
       "7129 2021-09-19      US    CO                   0.98            1320.0\n",
       "7130 2021-09-20      US    CO                   0.98            4007.0\n",
       "7131 2021-09-21      US    CO                   0.99            1804.0\n",
       "7132 2021-09-22      US    CO                   0.99            1311.0\n",
       "7133 2021-09-23      US    CO                   0.99            2428.0\n",
       "7134 2021-09-24      US    CO                   1.00            1559.0\n",
       "7135 2021-09-25      US    CO                   1.01             386.0\n",
       "7136 2021-09-26      US    CO                   1.01             386.0"
      ]
     },
     "execution_count": 12,
     "metadata": {},
     "output_type": "execute_result"
    }
   ],
   "source": [
    "#View of our Data\n",
    "\n",
    "sample_historical_co"
   ]
  },
  {
   "cell_type": "code",
   "execution_count": 13,
   "metadata": {},
   "outputs": [],
   "source": [
    "#Reading the Global Mobility data for 2021\n",
    "gmr_2021 = pd.DataFrame(pd.read_csv('2021_US_Region_Mobility_Report.csv'))"
   ]
  },
  {
   "cell_type": "code",
   "execution_count": 14,
   "metadata": {},
   "outputs": [],
   "source": [
    "#filtering global molity data for the state of Colorado\n",
    "gmr_2021_CO = gmr_2021[gmr_2021['iso_3166_2_code']=='US-CO']"
   ]
  },
  {
   "cell_type": "code",
   "execution_count": 15,
   "metadata": {},
   "outputs": [],
   "source": [
    "%%capture\n",
    "\n",
    "#PReprocessing the column. Changing the sting from 'US-CO to 'CO''\n",
    "gmr_2021_CO['iso_3166_2_code'] = gmr_2021_CO['iso_3166_2_code'].str.split('-').str[-1]"
   ]
  },
  {
   "cell_type": "code",
   "execution_count": 16,
   "metadata": {},
   "outputs": [],
   "source": [
    "#Selecting the features we need\n",
    "gmr_2021_CO = gmr_2021_CO[['country_region_code','iso_3166_2_code','date','retail_and_recreation_percent_change_from_baseline','grocery_and_pharmacy_percent_change_from_baseline','parks_percent_change_from_baseline','transit_stations_percent_change_from_baseline','workplaces_percent_change_from_baseline','residential_percent_change_from_baseline']]"
   ]
  },
  {
   "cell_type": "code",
   "execution_count": 17,
   "metadata": {},
   "outputs": [],
   "source": [
    "%%capture\n",
    "#Converting to dtype: datetime\n",
    "gmr_2021_CO['date'] = gmr_2021_CO['date'].astype('datetime64[ns]')"
   ]
  },
  {
   "cell_type": "code",
   "execution_count": 18,
   "metadata": {},
   "outputs": [],
   "source": [
    "%%capture\n",
    "\n",
    "#Changing the name of a column to prefered one for joinning the data togehter\n",
    "gmr_2021_CO.rename(columns={'iso_3166_2_code':'state'}, inplace=True)"
   ]
  },
  {
   "cell_type": "code",
   "execution_count": 19,
   "metadata": {},
   "outputs": [],
   "source": [
    "#Merge Global mobility data with historical Date\n",
    "\n",
    "CO_data = pd.merge(sample_historical_co,gmr_2021_CO, on=['date','state'])\n",
    "train_data_co = CO_data.copy()\n"
   ]
  },
  {
   "cell_type": "code",
   "execution_count": 20,
   "metadata": {},
   "outputs": [
    {
     "name": "stdout",
     "output_type": "stream",
     "text": [
      "<class 'pandas.core.frame.DataFrame'>\n",
      "RangeIndex: 28 entries, 0 to 27\n",
      "Data columns (total 12 columns):\n",
      " #   Column                                              Non-Null Count  Dtype         \n",
      "---  ------                                              --------------  -----         \n",
      " 0   date                                                28 non-null     datetime64[ns]\n",
      " 1   country                                             28 non-null     object        \n",
      " 2   state                                               28 non-null     object        \n",
      " 3   metrics.infectionRate                               28 non-null     float64       \n",
      " 4   actuals.newCases                                    27 non-null     float64       \n",
      " 5   country_region_code                                 28 non-null     object        \n",
      " 6   retail_and_recreation_percent_change_from_baseline  28 non-null     float64       \n",
      " 7   grocery_and_pharmacy_percent_change_from_baseline   28 non-null     float64       \n",
      " 8   parks_percent_change_from_baseline                  28 non-null     float64       \n",
      " 9   transit_stations_percent_change_from_baseline       28 non-null     float64       \n",
      " 10  workplaces_percent_change_from_baseline             28 non-null     float64       \n",
      " 11  residential_percent_change_from_baseline            28 non-null     float64       \n",
      "dtypes: datetime64[ns](1), float64(8), object(3)\n",
      "memory usage: 2.8+ KB\n"
     ]
    }
   ],
   "source": [
    "#Details on the Feature Engineered dataframe\n",
    "train_data_co.info()"
   ]
  },
  {
   "cell_type": "code",
   "execution_count": 25,
   "metadata": {},
   "outputs": [],
   "source": [
    "#Fixing NaNs\n",
    "train_data_co['actuals.newCases'].fillna(0, inplace=True)"
   ]
  },
  {
   "cell_type": "code",
   "execution_count": null,
   "metadata": {},
   "outputs": [],
   "source": [
    "#Changing the index to date column\n",
    "train_data_co = train_data_co.set_index('date')"
   ]
  },
  {
   "attachments": {},
   "cell_type": "markdown",
   "metadata": {},
   "source": [
    "### Final Feature engineering\n",
    "\n",
    "###### Columns to predict on :\n",
    "        - retail_and_recreation_percent_change_from_baseline\n",
    "        - grocery_and_pharmacy_percent_change_from_baseline\n",
    "        - parks_percent_change_from_baseline\n",
    "        - transit_stations_percent_change_from_baseline\n",
    "        - workplaces_percent_change_from_baseline\n",
    "        - residential_percent_change_from_baseline\n",
    "        - Infection Rate\n",
    "        - New Cases'"
   ]
  },
  {
   "cell_type": "code",
   "execution_count": 27,
   "metadata": {},
   "outputs": [],
   "source": [
    "#Colorado Data Frame is filtered to keep only continious data\n",
    "co_cont_data = train_data_co[['retail_and_recreation_percent_change_from_baseline','grocery_and_pharmacy_percent_change_from_baseline','parks_percent_change_from_baseline','transit_stations_percent_change_from_baseline','workplaces_percent_change_from_baseline','residential_percent_change_from_baseline','metrics.infectionRate','actuals.newCases']] #All Continious data"
   ]
  },
  {
   "attachments": {},
   "cell_type": "markdown",
   "metadata": {},
   "source": [
    "### Model Training with historical data from the period of: Aug. 30, 2021 – Sep. 26, 2021"
   ]
  },
  {
   "cell_type": "code",
   "execution_count": 28,
   "metadata": {},
   "outputs": [],
   "source": [
    "%%capture\n",
    "#Setting Initial Parameters for the VAR Model\n",
    "\n",
    "lag_order = 2 #The lag order is randomly select for a first try\n",
    "var_model = VAR(co_cont_data)\n",
    "trained_var = var_model.fit(lag_order)\n"
   ]
  },
  {
   "attachments": {},
   "cell_type": "markdown",
   "metadata": {},
   "source": [
    "### Predicting for the period of [ Sep. 27, 2021 – Oct. 4, 2021 ]"
   ]
  },
  {
   "cell_type": "code",
   "execution_count": 29,
   "metadata": {},
   "outputs": [],
   "source": [
    "#Forcasting for the 7 day period\n",
    "seven_day_forecast = trained_var.forecast(co_cont_data.values[-lag_order:], steps=7)\n",
    "\n",
    "#slicing and saving the forcated data\n",
    "new_cases_forecasts = seven_day_forecast[:, co_cont_data.columns.get_loc('actuals.newCases')]\n",
    "\n",
    "#round the result to 2 point decimal\n",
    "new_cases_forecasts = np.round(new_cases_forecasts,2)"
   ]
  },
  {
   "attachments": {},
   "cell_type": "markdown",
   "metadata": {},
   "source": [
    "### Model Evaluation"
   ]
  },
  {
   "cell_type": "code",
   "execution_count": 30,
   "metadata": {},
   "outputs": [],
   "source": [
    "#Curating an evaluation data set. \n",
    "prediction_test = state_historical[['date', 'country','state','metrics.infectionRate','actuals.newCases']]\n",
    "\n",
    "#Date Filtering\n",
    "prediction_test_date = prediction_test[(prediction_test['date'] >= '2021-09-27') & (prediction_test['date']< '2021-10-04')]\n",
    "\n",
    "#State Filtering\n",
    "prediction_test_date_co = prediction_test_date[prediction_test_date['state']=='CO']\n",
    "\n",
    "#Index Setting\n",
    "prediction_test_date_co = prediction_test_date_co.set_index('date')\n",
    "\n",
    "#Adding predicted Value to the evaluation dataset\n",
    "prediction_test_date_co['predicted']= new_cases_forecasts"
   ]
  },
  {
   "cell_type": "code",
   "execution_count": 35,
   "metadata": {},
   "outputs": [],
   "source": [
    "prediction_test_date_co.to_csv('prediction.csv')"
   ]
  },
  {
   "attachments": {},
   "cell_type": "markdown",
   "metadata": {},
   "source": [
    "##### Metrics Calculation"
   ]
  },
  {
   "cell_type": "code",
   "execution_count": 31,
   "metadata": {},
   "outputs": [],
   "source": [
    "pred_rsme = round(np.sqrt(mean_squared_error(prediction_test_date_co['actuals.newCases'],prediction_test_date_co['predicted'])),2)"
   ]
  },
  {
   "attachments": {},
   "cell_type": "markdown",
   "metadata": {},
   "source": [
    "## Root Mean Square Error: "
   ]
  },
  {
   "cell_type": "code",
   "execution_count": 32,
   "metadata": {},
   "outputs": [
    {
     "data": {
      "text/plain": [
       "1023.63"
      ]
     },
     "execution_count": 32,
     "metadata": {},
     "output_type": "execute_result"
    }
   ],
   "source": [
    "pred_rsme"
   ]
  },
  {
   "attachments": {},
   "cell_type": "markdown",
   "metadata": {},
   "source": [
    "### Visualize the Actual and Predicted Values"
   ]
  },
  {
   "cell_type": "code",
   "execution_count": 33,
   "metadata": {},
   "outputs": [
    {
     "data": {
      "image/png": "[encoded data removed]",
      "text/plain": [
       "<Figure size 1200x600 with 1 Axes>"
      ]
     },
     "metadata": {},
     "output_type": "display_data"
    }
   ],
   "source": [
    "plt.figure(figsize=(12,6))\n",
    "\n",
    "plt.plot(prediction_test_date_co['actuals.newCases'], label='Actual')\n",
    "plt.plot(prediction_test_date_co['predicted'], color='red', label='Predicted')\n",
    "plt.legend()\n",
    "plt.show()"
   ]
  },
  {
   "attachments": {},
   "cell_type": "markdown",
   "metadata": {},
   "source": [
    "###  Lag and VAR Model Optimization"
   ]
  },
  {
   "cell_type": "code",
   "execution_count": 45,
   "metadata": {},
   "outputs": [],
   "source": [
    "from statsmodels.tsa.api import VAR\n",
    "from statsmodels.tools.eval_measures import aic\n",
    "''' We use Akaike Information Criterion (AIC) to determine the most suitable lag order for our VAR model.\n",
    "Bayesian Information Criterion (BIC) can also be used. The choice depends on the user's preference. '''\n",
    "\n",
    "#Defining a function to find the optimal lag for VAR\n",
    "\n",
    "def optimal_lag_var (x,data_x):\n",
    "\n",
    "    aic_final_values = []\n",
    "\n",
    "    for i in range(1, x+1):    \n",
    "\n",
    "        #fitting a VAR model for every number the given range\n",
    "        model_evaluation = VAR(data_x)\n",
    "        model_evaluation_fited = model_evaluation.fit(i)\n",
    "\n",
    "        #calcution of aic for every lag in the given range\n",
    "        aic_score = model_evaluation_fited.aic\n",
    "\n",
    "        #store the lag order with its respective aic value\n",
    "\n",
    "        aic_final_values.append((i, aic_score))\n",
    "    \n",
    "    return aic_final_values\n"
   ]
  },
  {
   "cell_type": "code",
   "execution_count": 51,
   "metadata": {},
   "outputs": [],
   "source": [
    "%%capture\n",
    "#run the function to choose the best lag oder in a range of 1 to 10 incluse\n",
    "\n",
    "aic_results = optimal_lag_var(10,co_cont_data)"
   ]
  },
  {
   "cell_type": "code",
   "execution_count": 121,
   "metadata": {},
   "outputs": [],
   "source": [
    "#Write a function to choose the best lag order\n",
    "def lag_finder(result_x):\n",
    "    b = [] #empty list for storing the lag order we want\n",
    "    for i in result_x:\n",
    "        if i[1]> 0:\n",
    "            b.append(i)\n",
    "    return min(b[1])\n"
   ]
  },
  {
   "cell_type": "code",
   "execution_count": 124,
   "metadata": {},
   "outputs": [
    {
     "data": {
      "text/plain": [
       "2"
      ]
     },
     "execution_count": 124,
     "metadata": {},
     "output_type": "execute_result"
    }
   ],
   "source": [
    "#run the function to give us the lag\n",
    "optimized_lag = lag_finder(aic_results)\n",
    "optimized_lag\n"
   ]
  },
  {
   "attachments": {},
   "cell_type": "markdown",
   "metadata": {},
   "source": [
    "The Optimal Lag number in this case is the same as what i used when runing the first prediction. No futher change to the model is required at this point. "
   ]
  }
 ],
 "metadata": {
  "kernelspec": {
   "display_name": "Python 3",
   "language": "python",
   "name": "python3"
  },
  "language_info": {
   "codemirror_mode": {
    "name": "ipython",
    "version": 3
   },
   "file_extension": ".py",
   "mimetype": "text/x-python",
   "name": "python",
   "nbconvert_exporter": "python",
   "pygments_lexer": "ipython3",
   "version": "3.10.0"
  },
  "orig_nbformat": 4,
  "vscode": {
   "interpreter": {
    "hash": "7e1998ff7f8aa20ada591c520b972326324e5ea05489af9e422744c7c09f6dad"
   }
  }
 },
 "nbformat": 4,
 "nbformat_minor": 2
}

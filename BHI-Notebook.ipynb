{
 "cells": [
  {
   "cell_type": "code",
   "execution_count": 3,
   "metadata": {},
   "outputs": [],
   "source": [
    "%%capture\n",
    "\n",
    "import pandas as pd\n",
    "import numpy as np\n",
    "import datetime\n",
    "import pyspark as psk\n",
    "import itertools\n",
    "import matplotlib.pyplot as plt\n",
    "from pandas_profiling import ProfileReport\n",
    "from sklearn.model_selection import train_test_split\n",
    "from sklearn.metrics import mean_squared_error\n",
    "from sklearn.metrics import mean_absolute_error\n",
    "from statsmodels.tsa.stattools import adfuller #Check stationarity by running ADF Test\n",
    "from statsmodels.graphics.tsaplots import plot_acf #autoregressive correlation function for initial P value\n",
    "from statsmodels.graphics.tsaplots import plot_pacf #partial autoregressive correlation function for initial Q value\n",
    "import statsmodels.api as sm\n",
    "from statsmodels.tsa.api import VAR\n"
   ]
  },
  {
   "attachments": {},
   "cell_type": "markdown",
   "metadata": {},
   "source": [
    "## Goal of Challenge:\n",
    "- Predict the 7-day average of new COVID-19 cases and that of the positivity rate based on the historical public health data.\n",
    "\n",
    "#### <u> Report </u>: predictions for the 1-week prediction period (Sep. 27, 2021 – Oct. 4, 2021)\n",
    "\n",
    "1. Daily new cases for the 1-week prediction period\n",
    "2. 7-day average of daily new cases for every 7-day window ending on each day of the 1-week prediction period \n",
    "3. Daily positivity rate for the 1-week prediction period \n",
    "4. 7-day average of the positivity rate for every 7-day window ending on each day of the 1-week prediction period Along with these future predictions\n",
    "5. report how accurately trained models were able to fit the historical data for the 4-week period ending on the submission date (Aug. 30, 2021 – Sep. 26, 2021). \n",
    "\n",
    "##### <u> Evaluation </u>: \n",
    "1. How accurately is the predictive model able to model the trends in the past? \n",
    "2. How accurately can the model predict future trends for the next 1-week period?"
   ]
  },
  {
   "attachments": {},
   "cell_type": "markdown",
   "metadata": {},
   "source": [
    "# <b><u>1. Prediction for Daily new cases for the 1-week prediction period </u></b>"
   ]
  },
  {
   "cell_type": "code",
   "execution_count": 4,
   "metadata": {},
   "outputs": [],
   "source": [
    "%%capture\n",
    "\n",
    "states = pd.DataFrame( pd.read_csv('states.csv') )\n",
    "cbsas = pd.DataFrame(pd.read_csv('cbsas.csv'))\n",
    "counties = pd.DataFrame(pd.read_csv('counties.csv'))\n",
    "\n",
    "#this additional Data was downloaded from the covid Act Now website\n",
    "state_historical = pd.DataFrame(pd.read_csv('states.timeseries.csv')) "
   ]
  },
  {
   "cell_type": "code",
   "execution_count": 5,
   "metadata": {},
   "outputs": [
    {
     "data": {
      "text/html": [
       "<div>\n",
       "<style scoped>\n",
       "    .dataframe tbody tr th:only-of-type {\n",
       "        vertical-align: middle;\n",
       "    }\n",
       "\n",
       "    .dataframe tbody tr th {\n",
       "        vertical-align: top;\n",
       "    }\n",
       "\n",
       "    .dataframe thead th {\n",
       "        text-align: right;\n",
       "    }\n",
       "</style>\n",
       "<table border=\"1\" class=\"dataframe\">\n",
       "  <thead>\n",
       "    <tr style=\"text-align: right;\">\n",
       "      <th></th>\n",
       "      <th>date</th>\n",
       "      <th>country</th>\n",
       "      <th>state</th>\n",
       "      <th>county</th>\n",
       "      <th>fips</th>\n",
       "      <th>lat</th>\n",
       "      <th>long</th>\n",
       "      <th>locationId</th>\n",
       "      <th>actuals.cases</th>\n",
       "      <th>actuals.deaths</th>\n",
       "      <th>...</th>\n",
       "      <th>actuals.hsaIcuBeds.currentUsageCovid</th>\n",
       "      <th>metrics.bedsWithCovidPatientsRatio</th>\n",
       "      <th>hsaName</th>\n",
       "      <th>actuals.hospitalBeds.weeklyCovidAdmissions</th>\n",
       "      <th>actuals.hsaHospitalBeds.weeklyCovidAdmissions</th>\n",
       "      <th>metrics.weeklyCovidAdmissionsPer100k</th>\n",
       "      <th>communityLevels.cdcCommunityLevel</th>\n",
       "      <th>communityLevels.canCommunityLevel</th>\n",
       "      <th>actuals.vaccinationsFall2022BivalentBooster</th>\n",
       "      <th>metrics.vaccinationsFall2022BivalentBoosterRatio</th>\n",
       "    </tr>\n",
       "  </thead>\n",
       "  <tbody>\n",
       "    <tr>\n",
       "      <th>0</th>\n",
       "      <td>2020-03-01</td>\n",
       "      <td>US</td>\n",
       "      <td>AK</td>\n",
       "      <td>NaN</td>\n",
       "      <td>2</td>\n",
       "      <td>NaN</td>\n",
       "      <td>NaN</td>\n",
       "      <td>iso1:us#iso2:us-ak</td>\n",
       "      <td>NaN</td>\n",
       "      <td>NaN</td>\n",
       "      <td>...</td>\n",
       "      <td>NaN</td>\n",
       "      <td>NaN</td>\n",
       "      <td>NaN</td>\n",
       "      <td>NaN</td>\n",
       "      <td>NaN</td>\n",
       "      <td>NaN</td>\n",
       "      <td>NaN</td>\n",
       "      <td>NaN</td>\n",
       "      <td>NaN</td>\n",
       "      <td>NaN</td>\n",
       "    </tr>\n",
       "    <tr>\n",
       "      <th>1</th>\n",
       "      <td>2020-03-02</td>\n",
       "      <td>US</td>\n",
       "      <td>AK</td>\n",
       "      <td>NaN</td>\n",
       "      <td>2</td>\n",
       "      <td>NaN</td>\n",
       "      <td>NaN</td>\n",
       "      <td>iso1:us#iso2:us-ak</td>\n",
       "      <td>NaN</td>\n",
       "      <td>NaN</td>\n",
       "      <td>...</td>\n",
       "      <td>NaN</td>\n",
       "      <td>NaN</td>\n",
       "      <td>NaN</td>\n",
       "      <td>NaN</td>\n",
       "      <td>NaN</td>\n",
       "      <td>NaN</td>\n",
       "      <td>NaN</td>\n",
       "      <td>NaN</td>\n",
       "      <td>NaN</td>\n",
       "      <td>NaN</td>\n",
       "    </tr>\n",
       "    <tr>\n",
       "      <th>2</th>\n",
       "      <td>2020-03-03</td>\n",
       "      <td>US</td>\n",
       "      <td>AK</td>\n",
       "      <td>NaN</td>\n",
       "      <td>2</td>\n",
       "      <td>NaN</td>\n",
       "      <td>NaN</td>\n",
       "      <td>iso1:us#iso2:us-ak</td>\n",
       "      <td>NaN</td>\n",
       "      <td>NaN</td>\n",
       "      <td>...</td>\n",
       "      <td>NaN</td>\n",
       "      <td>NaN</td>\n",
       "      <td>NaN</td>\n",
       "      <td>NaN</td>\n",
       "      <td>NaN</td>\n",
       "      <td>NaN</td>\n",
       "      <td>NaN</td>\n",
       "      <td>NaN</td>\n",
       "      <td>NaN</td>\n",
       "      <td>NaN</td>\n",
       "    </tr>\n",
       "    <tr>\n",
       "      <th>3</th>\n",
       "      <td>2020-03-04</td>\n",
       "      <td>US</td>\n",
       "      <td>AK</td>\n",
       "      <td>NaN</td>\n",
       "      <td>2</td>\n",
       "      <td>NaN</td>\n",
       "      <td>NaN</td>\n",
       "      <td>iso1:us#iso2:us-ak</td>\n",
       "      <td>NaN</td>\n",
       "      <td>NaN</td>\n",
       "      <td>...</td>\n",
       "      <td>NaN</td>\n",
       "      <td>NaN</td>\n",
       "      <td>NaN</td>\n",
       "      <td>NaN</td>\n",
       "      <td>NaN</td>\n",
       "      <td>NaN</td>\n",
       "      <td>NaN</td>\n",
       "      <td>NaN</td>\n",
       "      <td>NaN</td>\n",
       "      <td>NaN</td>\n",
       "    </tr>\n",
       "    <tr>\n",
       "      <th>4</th>\n",
       "      <td>2020-03-05</td>\n",
       "      <td>US</td>\n",
       "      <td>AK</td>\n",
       "      <td>NaN</td>\n",
       "      <td>2</td>\n",
       "      <td>NaN</td>\n",
       "      <td>NaN</td>\n",
       "      <td>iso1:us#iso2:us-ak</td>\n",
       "      <td>NaN</td>\n",
       "      <td>NaN</td>\n",
       "      <td>...</td>\n",
       "      <td>NaN</td>\n",
       "      <td>NaN</td>\n",
       "      <td>NaN</td>\n",
       "      <td>NaN</td>\n",
       "      <td>NaN</td>\n",
       "      <td>NaN</td>\n",
       "      <td>NaN</td>\n",
       "      <td>NaN</td>\n",
       "      <td>NaN</td>\n",
       "      <td>NaN</td>\n",
       "    </tr>\n",
       "  </tbody>\n",
       "</table>\n",
       "<p>5 rows × 61 columns</p>\n",
       "</div>"
      ],
      "text/plain": [
       "         date country state  county  fips  lat  long          locationId  \\\n",
       "0  2020-03-01      US    AK     NaN     2  NaN   NaN  iso1:us#iso2:us-ak   \n",
       "1  2020-03-02      US    AK     NaN     2  NaN   NaN  iso1:us#iso2:us-ak   \n",
       "2  2020-03-03      US    AK     NaN     2  NaN   NaN  iso1:us#iso2:us-ak   \n",
       "3  2020-03-04      US    AK     NaN     2  NaN   NaN  iso1:us#iso2:us-ak   \n",
       "4  2020-03-05      US    AK     NaN     2  NaN   NaN  iso1:us#iso2:us-ak   \n",
       "\n",
       "   actuals.cases  actuals.deaths  ...  actuals.hsaIcuBeds.currentUsageCovid  \\\n",
       "0            NaN             NaN  ...                                   NaN   \n",
       "1            NaN             NaN  ...                                   NaN   \n",
       "2            NaN             NaN  ...                                   NaN   \n",
       "3            NaN             NaN  ...                                   NaN   \n",
       "4            NaN             NaN  ...                                   NaN   \n",
       "\n",
       "   metrics.bedsWithCovidPatientsRatio  hsaName  \\\n",
       "0                                 NaN      NaN   \n",
       "1                                 NaN      NaN   \n",
       "2                                 NaN      NaN   \n",
       "3                                 NaN      NaN   \n",
       "4                                 NaN      NaN   \n",
       "\n",
       "   actuals.hospitalBeds.weeklyCovidAdmissions  \\\n",
       "0                                         NaN   \n",
       "1                                         NaN   \n",
       "2                                         NaN   \n",
       "3                                         NaN   \n",
       "4                                         NaN   \n",
       "\n",
       "   actuals.hsaHospitalBeds.weeklyCovidAdmissions  \\\n",
       "0                                            NaN   \n",
       "1                                            NaN   \n",
       "2                                            NaN   \n",
       "3                                            NaN   \n",
       "4                                            NaN   \n",
       "\n",
       "   metrics.weeklyCovidAdmissionsPer100k  communityLevels.cdcCommunityLevel  \\\n",
       "0                                   NaN                                NaN   \n",
       "1                                   NaN                                NaN   \n",
       "2                                   NaN                                NaN   \n",
       "3                                   NaN                                NaN   \n",
       "4                                   NaN                                NaN   \n",
       "\n",
       "   communityLevels.canCommunityLevel  \\\n",
       "0                                NaN   \n",
       "1                                NaN   \n",
       "2                                NaN   \n",
       "3                                NaN   \n",
       "4                                NaN   \n",
       "\n",
       "   actuals.vaccinationsFall2022BivalentBooster  \\\n",
       "0                                          NaN   \n",
       "1                                          NaN   \n",
       "2                                          NaN   \n",
       "3                                          NaN   \n",
       "4                                          NaN   \n",
       "\n",
       "   metrics.vaccinationsFall2022BivalentBoosterRatio  \n",
       "0                                               NaN  \n",
       "1                                               NaN  \n",
       "2                                               NaN  \n",
       "3                                               NaN  \n",
       "4                                               NaN  \n",
       "\n",
       "[5 rows x 61 columns]"
      ]
     },
     "execution_count": 5,
     "metadata": {},
     "output_type": "execute_result"
    }
   ],
   "source": [
    "state_historical.head(5)"
   ]
  },
  {
   "cell_type": "code",
   "execution_count": 6,
   "metadata": {},
   "outputs": [],
   "source": [
    "%%capture\n",
    "# I created a function that lets me profile the data and observe corelations\n",
    "\n",
    "def file_prof(fileX, htmlX):\n",
    "    filex_profile = ProfileReport(fileX)\n",
    "    html_name = f\"{htmlX}.html\"\n",
    "    filex_profile.to_file(html_name)"
   ]
  },
  {
   "cell_type": "code",
   "execution_count": 6,
   "metadata": {},
   "outputs": [],
   "source": [
    "%%capture\n",
    "\n",
    "#This cell ran, will provile the CSV files to an interactive html\n",
    "'''file_prof(states, 'state_prof')\n",
    "file_prof(cbsas, 'cbsas_prof')\n",
    "file_prof(gmr, 'gmr_prof')\n",
    "file_prof(counties, 'counties_prof')'''\n"
   ]
  },
  {
   "cell_type": "code",
   "execution_count": 7,
   "metadata": {},
   "outputs": [],
   "source": [
    "#convert date column to dtype: datetime. \n",
    "state_historical['date']= state_historical['date'].astype('datetime64[ns]')"
   ]
  },
  {
   "attachments": {},
   "cell_type": "markdown",
   "metadata": {},
   "source": [
    "# Vector AutoRegression"
   ]
  },
  {
   "attachments": {},
   "cell_type": "markdown",
   "metadata": {},
   "source": [
    "##### I used the VAR model due to the  multivariate nature of the curated data\n",
    "\n",
    "* The data used to train is a combination of data from the global modility rate file and the historical state file.\n",
    "* I preprocessed both files, filtered them for the state of colorado and merged them together.\n"
   ]
  },
  {
   "cell_type": "code",
   "execution_count": 8,
   "metadata": {},
   "outputs": [],
   "source": [
    "\n",
    "sample_historical = state_historical[['date', 'country','state','metrics.infectionRate','actuals.newCases']]\n"
   ]
  },
  {
   "cell_type": "code",
   "execution_count": 9,
   "metadata": {},
   "outputs": [],
   "source": [
    "#Here the data is filtered for the dates given\n",
    "\n",
    "sample_historical = sample_historical[(sample_historical['date'] >= '2021-08-30') & (sample_historical['date']<= '2021-09-26')]\n"
   ]
  },
  {
   "cell_type": "code",
   "execution_count": 10,
   "metadata": {},
   "outputs": [],
   "source": [
    "#here the data is filtered for the the state of Colorado\n",
    "sample_historical_co = sample_historical[sample_historical['state']=='CO']"
   ]
  },
  {
   "cell_type": "code",
   "execution_count": 11,
   "metadata": {},
   "outputs": [
    {
     "data": {
      "text/html": [
       "<div>\n",
       "<style scoped>\n",
       "    .dataframe tbody tr th:only-of-type {\n",
       "        vertical-align: middle;\n",
       "    }\n",
       "\n",
       "    .dataframe tbody tr th {\n",
       "        vertical-align: top;\n",
       "    }\n",
       "\n",
       "    .dataframe thead th {\n",
       "        text-align: right;\n",
       "    }\n",
       "</style>\n",
       "<table border=\"1\" class=\"dataframe\">\n",
       "  <thead>\n",
       "    <tr style=\"text-align: right;\">\n",
       "      <th></th>\n",
       "      <th>date</th>\n",
       "      <th>country</th>\n",
       "      <th>state</th>\n",
       "      <th>metrics.infectionRate</th>\n",
       "      <th>actuals.newCases</th>\n",
       "    </tr>\n",
       "  </thead>\n",
       "  <tbody>\n",
       "    <tr>\n",
       "      <th>7109</th>\n",
       "      <td>2021-08-30</td>\n",
       "      <td>US</td>\n",
       "      <td>CO</td>\n",
       "      <td>1.10</td>\n",
       "      <td>3076.0</td>\n",
       "    </tr>\n",
       "    <tr>\n",
       "      <th>7110</th>\n",
       "      <td>2021-08-31</td>\n",
       "      <td>US</td>\n",
       "      <td>CO</td>\n",
       "      <td>1.09</td>\n",
       "      <td>2104.0</td>\n",
       "    </tr>\n",
       "    <tr>\n",
       "      <th>7111</th>\n",
       "      <td>2021-09-01</td>\n",
       "      <td>US</td>\n",
       "      <td>CO</td>\n",
       "      <td>1.08</td>\n",
       "      <td>1604.0</td>\n",
       "    </tr>\n",
       "    <tr>\n",
       "      <th>7112</th>\n",
       "      <td>2021-09-02</td>\n",
       "      <td>US</td>\n",
       "      <td>CO</td>\n",
       "      <td>1.08</td>\n",
       "      <td>2873.0</td>\n",
       "    </tr>\n",
       "    <tr>\n",
       "      <th>7113</th>\n",
       "      <td>2021-09-03</td>\n",
       "      <td>US</td>\n",
       "      <td>CO</td>\n",
       "      <td>1.07</td>\n",
       "      <td>2118.0</td>\n",
       "    </tr>\n",
       "  </tbody>\n",
       "</table>\n",
       "</div>"
      ],
      "text/plain": [
       "           date country state  metrics.infectionRate  actuals.newCases\n",
       "7109 2021-08-30      US    CO                   1.10            3076.0\n",
       "7110 2021-08-31      US    CO                   1.09            2104.0\n",
       "7111 2021-09-01      US    CO                   1.08            1604.0\n",
       "7112 2021-09-02      US    CO                   1.08            2873.0\n",
       "7113 2021-09-03      US    CO                   1.07            2118.0"
      ]
     },
     "execution_count": 11,
     "metadata": {},
     "output_type": "execute_result"
    }
   ],
   "source": [
    "#View of our Data\n",
    "\n",
    "sample_historical_co.head()"
   ]
  },
  {
   "cell_type": "code",
   "execution_count": 12,
   "metadata": {},
   "outputs": [],
   "source": [
    "#Reading the Global Mobility data for 2021\n",
    "gmr_2021 = pd.DataFrame(pd.read_csv('2021_US_Region_Mobility_Report.csv'))"
   ]
  },
  {
   "cell_type": "code",
   "execution_count": 13,
   "metadata": {},
   "outputs": [],
   "source": [
    "#filtering global molity data for the state of Colorado\n",
    "gmr_2021_CO = gmr_2021[gmr_2021['iso_3166_2_code']=='US-CO']"
   ]
  },
  {
   "cell_type": "code",
   "execution_count": 14,
   "metadata": {},
   "outputs": [],
   "source": [
    "%%capture\n",
    "\n",
    "#PReprocessing the column. Changing the sting from 'US-CO to 'CO''\n",
    "gmr_2021_CO['iso_3166_2_code'] = gmr_2021_CO['iso_3166_2_code'].str.split('-').str[-1]"
   ]
  },
  {
   "cell_type": "code",
   "execution_count": 15,
   "metadata": {},
   "outputs": [],
   "source": [
    "#Selecting the features we need\n",
    "gmr_2021_CO = gmr_2021_CO[['country_region_code','iso_3166_2_code','date','retail_and_recreation_percent_change_from_baseline','grocery_and_pharmacy_percent_change_from_baseline','parks_percent_change_from_baseline','transit_stations_percent_change_from_baseline','workplaces_percent_change_from_baseline','residential_percent_change_from_baseline']]"
   ]
  },
  {
   "cell_type": "code",
   "execution_count": 16,
   "metadata": {},
   "outputs": [],
   "source": [
    "%%capture\n",
    "#Converting to dtype: datetime\n",
    "gmr_2021_CO['date'] = gmr_2021_CO['date'].astype('datetime64[ns]')"
   ]
  },
  {
   "cell_type": "code",
   "execution_count": 17,
   "metadata": {},
   "outputs": [],
   "source": [
    "%%capture\n",
    "\n",
    "#Changing the name of a column to prefered one for joinning the data togehter\n",
    "gmr_2021_CO.rename(columns={'iso_3166_2_code':'state'}, inplace=True)"
   ]
  },
  {
   "cell_type": "code",
   "execution_count": 18,
   "metadata": {},
   "outputs": [],
   "source": [
    "#Merge Global mobility data with historical Date\n",
    "\n",
    "CO_data = pd.merge(sample_historical_co,gmr_2021_CO, on=['date','state'])\n",
    "train_data_co = CO_data.copy()\n"
   ]
  },
  {
   "cell_type": "code",
   "execution_count": 19,
   "metadata": {},
   "outputs": [
    {
     "name": "stdout",
     "output_type": "stream",
     "text": [
      "<class 'pandas.core.frame.DataFrame'>\n",
      "RangeIndex: 28 entries, 0 to 27\n",
      "Data columns (total 12 columns):\n",
      " #   Column                                              Non-Null Count  Dtype         \n",
      "---  ------                                              --------------  -----         \n",
      " 0   date                                                28 non-null     datetime64[ns]\n",
      " 1   country                                             28 non-null     object        \n",
      " 2   state                                               28 non-null     object        \n",
      " 3   metrics.infectionRate                               28 non-null     float64       \n",
      " 4   actuals.newCases                                    27 non-null     float64       \n",
      " 5   country_region_code                                 28 non-null     object        \n",
      " 6   retail_and_recreation_percent_change_from_baseline  28 non-null     float64       \n",
      " 7   grocery_and_pharmacy_percent_change_from_baseline   28 non-null     float64       \n",
      " 8   parks_percent_change_from_baseline                  28 non-null     float64       \n",
      " 9   transit_stations_percent_change_from_baseline       28 non-null     float64       \n",
      " 10  workplaces_percent_change_from_baseline             28 non-null     float64       \n",
      " 11  residential_percent_change_from_baseline            28 non-null     float64       \n",
      "dtypes: datetime64[ns](1), float64(8), object(3)\n",
      "memory usage: 2.8+ KB\n"
     ]
    }
   ],
   "source": [
    "#Details on the Feature Engineered dataframe\n",
    "train_data_co.info()"
   ]
  },
  {
   "cell_type": "code",
   "execution_count": 20,
   "metadata": {},
   "outputs": [],
   "source": [
    "#Fixing NaNs\n",
    "train_data_co['actuals.newCases'].fillna(0, inplace=True)"
   ]
  },
  {
   "cell_type": "code",
   "execution_count": 21,
   "metadata": {},
   "outputs": [],
   "source": [
    "#Changing the index to date column\n",
    "train_data_co = train_data_co.set_index('date')"
   ]
  },
  {
   "attachments": {},
   "cell_type": "markdown",
   "metadata": {},
   "source": [
    "### Final Feature engineering\n",
    "\n",
    "###### Columns to predict on :\n",
    "        - retail_and_recreation_percent_change_from_baseline\n",
    "        - grocery_and_pharmacy_percent_change_from_baseline\n",
    "        - parks_percent_change_from_baseline\n",
    "        - transit_stations_percent_change_from_baseline\n",
    "        - workplaces_percent_change_from_baseline\n",
    "        - residential_percent_change_from_baseline\n",
    "        - Infection Rate\n",
    "        - New Cases'"
   ]
  },
  {
   "cell_type": "code",
   "execution_count": 22,
   "metadata": {},
   "outputs": [],
   "source": [
    "#Colorado Data Frame is filtered to keep only continious data\n",
    "co_cont_data = train_data_co[['retail_and_recreation_percent_change_from_baseline','grocery_and_pharmacy_percent_change_from_baseline','parks_percent_change_from_baseline','transit_stations_percent_change_from_baseline','workplaces_percent_change_from_baseline','residential_percent_change_from_baseline','metrics.infectionRate','actuals.newCases']] #All Continious data"
   ]
  },
  {
   "attachments": {},
   "cell_type": "markdown",
   "metadata": {},
   "source": [
    "### Model Training with historical data from the period of: Aug. 30, 2021 – Sep. 26, 2021"
   ]
  },
  {
   "cell_type": "code",
   "execution_count": 23,
   "metadata": {},
   "outputs": [],
   "source": [
    "%%capture\n",
    "#Setting Initial Parameters for the VAR Model\n",
    "\n",
    "lag_order = 2 #The lag order is randomly select for a first try\n",
    "var_model = VAR(co_cont_data)\n",
    "trained_var = var_model.fit(lag_order)\n"
   ]
  },
  {
   "attachments": {},
   "cell_type": "markdown",
   "metadata": {},
   "source": [
    "### Predicting New Covid Cases for the period of [ Sep. 27, 2021 – Oct. 4, 2021 ]"
   ]
  },
  {
   "cell_type": "code",
   "execution_count": 24,
   "metadata": {},
   "outputs": [],
   "source": [
    "#Forcasting for the 7 day period\n",
    "seven_day_forecast = trained_var.forecast(co_cont_data.values[-lag_order:], steps=7)\n",
    "\n",
    "#slicing and saving the forcated data\n",
    "new_cases_forecasts = seven_day_forecast[:, co_cont_data.columns.get_loc('actuals.newCases')]\n",
    "\n",
    "#round the result to 2 point decimal\n",
    "new_cases_forecasts = np.round(new_cases_forecasts,2)"
   ]
  },
  {
   "attachments": {},
   "cell_type": "markdown",
   "metadata": {},
   "source": [
    "### Model Evaluation"
   ]
  },
  {
   "cell_type": "code",
   "execution_count": 25,
   "metadata": {},
   "outputs": [],
   "source": [
    "#Curating an evaluation data set. \n",
    "prediction_test = state_historical[['date', 'country','state','metrics.infectionRate','actuals.newCases']]\n",
    "\n",
    "#Date Filtering\n",
    "prediction_test_date = prediction_test[(prediction_test['date'] >= '2021-09-27') & (prediction_test['date']< '2021-10-04')]\n",
    "\n",
    "#State Filtering\n",
    "prediction_test_date_co = prediction_test_date[prediction_test_date['state']=='CO']\n",
    "\n",
    "#Index Setting\n",
    "prediction_test_date_co = prediction_test_date_co.set_index('date')\n",
    "\n",
    "#Adding predicted Value to the evaluation dataset\n",
    "prediction_test_date_co['predicted']= new_cases_forecasts"
   ]
  },
  {
   "cell_type": "code",
   "execution_count": 26,
   "metadata": {},
   "outputs": [],
   "source": [
    "#prediction_test_date_co.to_csv('prediction.csv')"
   ]
  },
  {
   "attachments": {},
   "cell_type": "markdown",
   "metadata": {},
   "source": [
    "## Metrics Calculation"
   ]
  },
  {
   "cell_type": "code",
   "execution_count": 31,
   "metadata": {},
   "outputs": [],
   "source": [
    "pred_rsme = round(np.sqrt(mean_squared_error(prediction_test_date_co['actuals.newCases'],prediction_test_date_co['predicted'])),2)"
   ]
  },
  {
   "attachments": {},
   "cell_type": "markdown",
   "metadata": {},
   "source": [
    "> <b> Root Mean Square Error: </b>"
   ]
  },
  {
   "cell_type": "code",
   "execution_count": 32,
   "metadata": {},
   "outputs": [
    {
     "data": {
      "text/plain": [
       "1023.63"
      ]
     },
     "execution_count": 32,
     "metadata": {},
     "output_type": "execute_result"
    }
   ],
   "source": [
    "pred_rsme"
   ]
  },
  {
   "attachments": {},
   "cell_type": "markdown",
   "metadata": {},
   "source": [
    "> <b> Mean Absolute Error </b>"
   ]
  },
  {
   "cell_type": "code",
   "execution_count": 29,
   "metadata": {},
   "outputs": [],
   "source": [
    "pred_mae = round(mean_absolute_error(prediction_test_date_co['actuals.newCases'],prediction_test_date_co['predicted']),2)"
   ]
  },
  {
   "cell_type": "code",
   "execution_count": 30,
   "metadata": {},
   "outputs": [
    {
     "data": {
      "text/plain": [
       "812.73"
      ]
     },
     "execution_count": 30,
     "metadata": {},
     "output_type": "execute_result"
    }
   ],
   "source": [
    "pred_mae"
   ]
  },
  {
   "attachments": {},
   "cell_type": "markdown",
   "metadata": {},
   "source": [
    "### Visualize the Actual and Predicted Values"
   ]
  },
  {
   "cell_type": "code",
   "execution_count": 31,
   "metadata": {},
   "outputs": [
    {
     "data": {
      "image/png": "[encoded data removed]",
      "text/plain": [
       "<Figure size 1200x600 with 1 Axes>"
      ]
     },
     "metadata": {},
     "output_type": "display_data"
    }
   ],
   "source": [
    "plt.figure(figsize=(12,6))\n",
    "\n",
    "plt.plot(prediction_test_date_co['actuals.newCases'], label='Actual')\n",
    "plt.plot(prediction_test_date_co['predicted'], color='red', label='Predicted')\n",
    "plt.legend()\n",
    "plt.show()"
   ]
  },
  {
   "attachments": {},
   "cell_type": "markdown",
   "metadata": {},
   "source": [
    "###  Lag and VAR Model Optimization"
   ]
  },
  {
   "cell_type": "code",
   "execution_count": 32,
   "metadata": {},
   "outputs": [],
   "source": [
    "%%capture\n",
    "from statsmodels.tools.eval_measures import aic\n",
    "''' We use Akaike Information Criterion (AIC) to determine the most suitable lag order for our VAR model.\n",
    "Bayesian Information Criterion (BIC) can also be used. The choice depends on the user's preference. '''\n",
    "\n",
    "#Defining a function to find the optimal lag for VAR\n",
    "\n",
    "def optimal_lag_var (x,data_x):\n",
    "\n",
    "    aic_final_values = []\n",
    "\n",
    "    for i in range(1, x+1):    \n",
    "\n",
    "        #fitting a VAR model for every number the given range\n",
    "        model_evaluation = VAR(data_x)\n",
    "        model_evaluation_fited = model_evaluation.fit(i)\n",
    "\n",
    "        #calcution of aic for every lag in the given range\n",
    "        aic_score = model_evaluation_fited.aic\n",
    "\n",
    "        #store the lag order with its respective aic value\n",
    "\n",
    "        aic_final_values.append((i, aic_score))\n",
    "    \n",
    "    return aic_final_values\n"
   ]
  },
  {
   "cell_type": "code",
   "execution_count": 33,
   "metadata": {},
   "outputs": [],
   "source": [
    "%%capture\n",
    "#run the function to choose the best lag oder in a range of 1 to 10 incluse\n",
    "\n",
    "aic_results = optimal_lag_var(10,co_cont_data)"
   ]
  },
  {
   "cell_type": "code",
   "execution_count": 34,
   "metadata": {},
   "outputs": [],
   "source": [
    "#Write a function to choose the best lag order\n",
    "def lag_finder(result_x):\n",
    "    b = [] #empty list for storing the lag order we want\n",
    "    for i in result_x:\n",
    "        if i[1]> 0:\n",
    "            b.append(i)\n",
    "    return min(b[1])\n"
   ]
  },
  {
   "cell_type": "code",
   "execution_count": 35,
   "metadata": {},
   "outputs": [
    {
     "data": {
      "text/plain": [
       "2"
      ]
     },
     "execution_count": 35,
     "metadata": {},
     "output_type": "execute_result"
    }
   ],
   "source": [
    "#run the function to give us the lag\n",
    "optimized_lag = lag_finder(aic_results)\n",
    "optimized_lag\n"
   ]
  },
  {
   "attachments": {},
   "cell_type": "markdown",
   "metadata": {},
   "source": [
    "### Observation for 1st Prediction: "
   ]
  },
  {
   "attachments": {},
   "cell_type": "markdown",
   "metadata": {},
   "source": [
    "> The Optimal Lag number in this case is the same as what i used when runing the first prediction. No futher change to the model is required at this point. "
   ]
  },
  {
   "attachments": {},
   "cell_type": "markdown",
   "metadata": {},
   "source": [
    "# <b><u>3. Predicting Positivity Rate for the 7 Days: </b></u>"
   ]
  },
  {
   "attachments": {},
   "cell_type": "markdown",
   "metadata": {},
   "source": [
    "### A. Preprocessing and Feature Engineering"
   ]
  },
  {
   "cell_type": "code",
   "execution_count": 36,
   "metadata": {},
   "outputs": [],
   "source": [
    "# Featured Engineered Historical Data\n",
    "new_colorado_data = state_historical[['date','state','metrics.testPositivityRatio']]\n"
   ]
  },
  {
   "cell_type": "code",
   "execution_count": 37,
   "metadata": {},
   "outputs": [],
   "source": [
    "#historical data filtered by state to extract colorado data\n",
    "fltrd_co_data = new_colorado_data[new_colorado_data['state']=='CO']\n",
    "\n",
    "#historical data filtered by date for the required period\n",
    "fltrd_co_data = fltrd_co_data[(fltrd_co_data['date']>= '2021-08-30')&(fltrd_co_data['date']<= '2021-09-26')]\n",
    "\n"
   ]
  },
  {
   "cell_type": "code",
   "execution_count": 256,
   "metadata": {},
   "outputs": [],
   "source": [
    "#Change the index for box data sets\n",
    "\n",
    "#fltrd_co_data.set_index('date',inplace=True)"
   ]
  },
  {
   "cell_type": "code",
   "execution_count": 40,
   "metadata": {},
   "outputs": [],
   "source": [
    "#Get Rid of non continious data\n",
    "fltrd_co_data.drop( 'state', inplace=True, axis=1)"
   ]
  },
  {
   "cell_type": "code",
   "execution_count": 47,
   "metadata": {},
   "outputs": [],
   "source": [
    "#Create copy of data for training\n",
    "prophet_train_data = fltrd_co_data.copy()\n",
    "\n",
    "#change the name of columns in preparing for training with prophet model\n",
    "prophet_train_data.rename(columns={'date':'ds', 'metrics.testPositivityRatio':'y'},inplace=True)"
   ]
  },
  {
   "attachments": {},
   "cell_type": "markdown",
   "metadata": {},
   "source": [
    "### B. Train The Model"
   ]
  },
  {
   "attachments": {},
   "cell_type": "markdown",
   "metadata": {},
   "source": [
    "##### Training with prohet"
   ]
  },
  {
   "cell_type": "markdown",
   "metadata": {},
   "source": []
  },
  {
   "cell_type": "code",
   "execution_count": 42,
   "metadata": {},
   "outputs": [],
   "source": [
    "%%capture\n",
    "from prophet import Prophet"
   ]
  },
  {
   "attachments": {},
   "cell_type": "markdown",
   "metadata": {},
   "source": [
    "> Model Instance"
   ]
  },
  {
   "cell_type": "code",
   "execution_count": 43,
   "metadata": {},
   "outputs": [],
   "source": [
    "#Create an insance of prophet model\n",
    "prophet_model = Prophet()\n"
   ]
  },
  {
   "attachments": {},
   "cell_type": "markdown",
   "metadata": {},
   "source": [
    "> Model Training"
   ]
  },
  {
   "cell_type": "code",
   "execution_count": 48,
   "metadata": {},
   "outputs": [
    {
     "name": "stderr",
     "output_type": "stream",
     "text": [
      "11:20:26 - cmdstanpy - INFO - Chain [1] start processing\n",
      "11:20:27 - cmdstanpy - INFO - Chain [1] done processing\n"
     ]
    },
    {
     "data": {
      "text/plain": [
       "<prophet.forecaster.Prophet at 0x131705030>"
      ]
     },
     "execution_count": 48,
     "metadata": {},
     "output_type": "execute_result"
    }
   ],
   "source": [
    "#train the model \n",
    "prophet_model.fit(prophet_train_data)"
   ]
  },
  {
   "attachments": {},
   "cell_type": "markdown",
   "metadata": {},
   "source": [
    "> Prediction"
   ]
  },
  {
   "cell_type": "code",
   "execution_count": 154,
   "metadata": {},
   "outputs": [],
   "source": [
    "#define how many days we're predicting for \n",
    "prediction_len = prophet_model.make_future_dataframe(periods=7)\n",
    "\n",
    "#make the prediction\n",
    "prophet_forcast = prophet_model.predict(prediction_len)"
   ]
  },
  {
   "attachments": {},
   "cell_type": "markdown",
   "metadata": {},
   "source": [
    "> Filtering result"
   ]
  },
  {
   "cell_type": "code",
   "execution_count": 155,
   "metadata": {},
   "outputs": [],
   "source": [
    "#select the two columns needed\n",
    "filtered_forcast = prophet_forcast[['ds','yhat']]\n",
    "\n",
    "#select the dates we predicted\n",
    "forcasted_dates = filtered_forcast.iloc[28:, :]\n",
    "\n",
    "#rounding\n",
    "forcasted_dates.iloc[:,1:] = round(forcasted_dates.iloc[:,1:],3)"
   ]
  },
  {
   "attachments": {},
   "cell_type": "markdown",
   "metadata": {},
   "source": [
    "### C. Model Evaluation"
   ]
  },
  {
   "attachments": {},
   "cell_type": "markdown",
   "metadata": {},
   "source": [
    "> create dataset from actual data"
   ]
  },
  {
   "cell_type": "code",
   "execution_count": 213,
   "metadata": {},
   "outputs": [],
   "source": [
    "%%capture\n",
    "#Itinial Data\n",
    "eval_data = state_historical[['date','state','metrics.testPositivityRatio']]\n",
    "\n",
    "#historical data filtered by state to extract colorado data\n",
    "fltrd_eval_data = new_colorado_data[new_colorado_data['state']=='CO']\n",
    "\n",
    "#historical data filtered by date for the required period\n",
    "fltrd_eval_data = fltrd_eval_data[(fltrd_eval_data['date']>='2021-09-27')&(fltrd_eval_data['date']<= '2021-10-03')]\n",
    "\n",
    "#drop state column\n",
    "fltrd_eval_data.drop( 'state', inplace=True, axis=1)\n",
    "\n",
    "#change column name\n",
    "fltrd_eval_data.rename(columns = {'date':'ds','metrics.testPositivityRatio':'true_values'}, inplace =True)\n",
    "\n",
    "\n"
   ]
  },
  {
   "cell_type": "code",
   "execution_count": 156,
   "metadata": {},
   "outputs": [
    {
     "data": {
      "text/html": [
       "<div>\n",
       "<style scoped>\n",
       "    .dataframe tbody tr th:only-of-type {\n",
       "        vertical-align: middle;\n",
       "    }\n",
       "\n",
       "    .dataframe tbody tr th {\n",
       "        vertical-align: top;\n",
       "    }\n",
       "\n",
       "    .dataframe thead th {\n",
       "        text-align: right;\n",
       "    }\n",
       "</style>\n",
       "<table border=\"1\" class=\"dataframe\">\n",
       "  <thead>\n",
       "    <tr style=\"text-align: right;\">\n",
       "      <th></th>\n",
       "      <th>ds</th>\n",
       "      <th>yhat</th>\n",
       "    </tr>\n",
       "  </thead>\n",
       "  <tbody>\n",
       "    <tr>\n",
       "      <th>28</th>\n",
       "      <td>2021-09-27</td>\n",
       "      <td>0.069</td>\n",
       "    </tr>\n",
       "    <tr>\n",
       "      <th>29</th>\n",
       "      <td>2021-09-28</td>\n",
       "      <td>0.069</td>\n",
       "    </tr>\n",
       "    <tr>\n",
       "      <th>30</th>\n",
       "      <td>2021-09-29</td>\n",
       "      <td>0.068</td>\n",
       "    </tr>\n",
       "    <tr>\n",
       "      <th>31</th>\n",
       "      <td>2021-09-30</td>\n",
       "      <td>0.068</td>\n",
       "    </tr>\n",
       "    <tr>\n",
       "      <th>32</th>\n",
       "      <td>2021-10-01</td>\n",
       "      <td>0.067</td>\n",
       "    </tr>\n",
       "    <tr>\n",
       "      <th>33</th>\n",
       "      <td>2021-10-02</td>\n",
       "      <td>0.067</td>\n",
       "    </tr>\n",
       "    <tr>\n",
       "      <th>34</th>\n",
       "      <td>2021-10-03</td>\n",
       "      <td>0.067</td>\n",
       "    </tr>\n",
       "  </tbody>\n",
       "</table>\n",
       "</div>"
      ],
      "text/plain": [
       "           ds   yhat\n",
       "28 2021-09-27  0.069\n",
       "29 2021-09-28  0.069\n",
       "30 2021-09-29  0.068\n",
       "31 2021-09-30  0.068\n",
       "32 2021-10-01  0.067\n",
       "33 2021-10-02  0.067\n",
       "34 2021-10-03  0.067"
      ]
     },
     "execution_count": 156,
     "metadata": {},
     "output_type": "execute_result"
    }
   ],
   "source": [
    "forcasted_dates"
   ]
  },
  {
   "attachments": {},
   "cell_type": "markdown",
   "metadata": {},
   "source": [
    "> #Set index for evaluation data and prediction results"
   ]
  },
  {
   "cell_type": "code",
   "execution_count": 157,
   "metadata": {},
   "outputs": [],
   "source": [
    "#Prediction data \n",
    "forcasted_dates.set_index('ds', inplace=True)\n",
    "\n",
    "#Evaluation data\n",
    "fltrd_eval_data.set_index('ds', inplace=True)\n"
   ]
  },
  {
   "attachments": {},
   "cell_type": "markdown",
   "metadata": {},
   "source": [
    "> Create a data frame containing both predicted values and true values"
   ]
  },
  {
   "cell_type": "code",
   "execution_count": 158,
   "metadata": {},
   "outputs": [],
   "source": [
    "fltrd_eval_data['prediction'] = forcasted_dates['yhat']"
   ]
  },
  {
   "cell_type": "code",
   "execution_count": 212,
   "metadata": {},
   "outputs": [
    {
     "data": {
      "text/html": [
       "<div>\n",
       "<style scoped>\n",
       "    .dataframe tbody tr th:only-of-type {\n",
       "        vertical-align: middle;\n",
       "    }\n",
       "\n",
       "    .dataframe tbody tr th {\n",
       "        vertical-align: top;\n",
       "    }\n",
       "\n",
       "    .dataframe thead th {\n",
       "        text-align: right;\n",
       "    }\n",
       "</style>\n",
       "<table border=\"1\" class=\"dataframe\">\n",
       "  <thead>\n",
       "    <tr style=\"text-align: right;\">\n",
       "      <th></th>\n",
       "      <th>true_values</th>\n",
       "      <th>prediction</th>\n",
       "    </tr>\n",
       "    <tr>\n",
       "      <th>ds</th>\n",
       "      <th></th>\n",
       "      <th></th>\n",
       "    </tr>\n",
       "  </thead>\n",
       "  <tbody>\n",
       "    <tr>\n",
       "      <th>2021-09-27</th>\n",
       "      <td>0.265647</td>\n",
       "      <td>0.069</td>\n",
       "    </tr>\n",
       "    <tr>\n",
       "      <th>2021-09-28</th>\n",
       "      <td>0.265648</td>\n",
       "      <td>0.069</td>\n",
       "    </tr>\n",
       "    <tr>\n",
       "      <th>2021-09-29</th>\n",
       "      <td>0.263759</td>\n",
       "      <td>0.068</td>\n",
       "    </tr>\n",
       "    <tr>\n",
       "      <th>2021-09-30</th>\n",
       "      <td>0.261856</td>\n",
       "      <td>0.068</td>\n",
       "    </tr>\n",
       "    <tr>\n",
       "      <th>2021-10-01</th>\n",
       "      <td>0.259940</td>\n",
       "      <td>0.067</td>\n",
       "    </tr>\n",
       "    <tr>\n",
       "      <th>2021-10-02</th>\n",
       "      <td>0.259940</td>\n",
       "      <td>0.067</td>\n",
       "    </tr>\n",
       "    <tr>\n",
       "      <th>2021-10-03</th>\n",
       "      <td>0.259940</td>\n",
       "      <td>0.067</td>\n",
       "    </tr>\n",
       "  </tbody>\n",
       "</table>\n",
       "</div>"
      ],
      "text/plain": [
       "            true_values  prediction\n",
       "ds                                 \n",
       "2021-09-27     0.265647       0.069\n",
       "2021-09-28     0.265648       0.069\n",
       "2021-09-29     0.263759       0.068\n",
       "2021-09-30     0.261856       0.068\n",
       "2021-10-01     0.259940       0.067\n",
       "2021-10-02     0.259940       0.067\n",
       "2021-10-03     0.259940       0.067"
      ]
     },
     "execution_count": 212,
     "metadata": {},
     "output_type": "execute_result"
    }
   ],
   "source": [
    "fltrd_eval_data"
   ]
  },
  {
   "attachments": {},
   "cell_type": "markdown",
   "metadata": {},
   "source": [
    "> Mean Asbsolute Error"
   ]
  },
  {
   "cell_type": "code",
   "execution_count": 120,
   "metadata": {},
   "outputs": [],
   "source": [
    "metrics_mae = round(mean_absolute_error(fltrd_eval_data['true_values'], fltrd_eval_data['prrediction']),2)\n"
   ]
  },
  {
   "cell_type": "code",
   "execution_count": 121,
   "metadata": {},
   "outputs": [
    {
     "data": {
      "text/plain": [
       "0.01"
      ]
     },
     "execution_count": 121,
     "metadata": {},
     "output_type": "execute_result"
    }
   ],
   "source": [
    "metrics_mae"
   ]
  },
  {
   "attachments": {},
   "cell_type": "markdown",
   "metadata": {},
   "source": [
    "> Mean Squared Error"
   ]
  },
  {
   "cell_type": "code",
   "execution_count": 124,
   "metadata": {},
   "outputs": [],
   "source": [
    "metrics_rmse = round(np.sqrt(mean_squared_error(fltrd_eval_data['true_values'], fltrd_eval_data['prrediction'])),2)"
   ]
  },
  {
   "cell_type": "code",
   "execution_count": 125,
   "metadata": {},
   "outputs": [
    {
     "data": {
      "text/plain": [
       "0.01"
      ]
     },
     "execution_count": 125,
     "metadata": {},
     "output_type": "execute_result"
    }
   ],
   "source": [
    "metrics_rmse"
   ]
  },
  {
   "cell_type": "code",
   "execution_count": 129,
   "metadata": {},
   "outputs": [
    {
     "data": {
      "text/plain": [
       "0.05"
      ]
     },
     "execution_count": 129,
     "metadata": {},
     "output_type": "execute_result"
    }
   ],
   "source": [
    "prophet_model.changepoint_prior_scale"
   ]
  },
  {
   "attachments": {},
   "cell_type": "markdown",
   "metadata": {},
   "source": [
    "### D. Visualization of Result"
   ]
  },
  {
   "cell_type": "code",
   "execution_count": 133,
   "metadata": {},
   "outputs": [
    {
     "data": {
      "image/png": "[encoded data removed]",
      "text/plain": [
       "<Figure size 1200x600 with 1 Axes>"
      ]
     },
     "metadata": {},
     "output_type": "display_data"
    }
   ],
   "source": [
    "plt.figure(figsize=(12,6))\n",
    "\n",
    "plt.plot(fltrd_eval_data['prrediction'], label='Predicted')\n",
    "plt.plot(fltrd_eval_data['true_values'], color='red', label='Actual')\n",
    "plt.legend()\n",
    "plt.show()"
   ]
  },
  {
   "attachments": {},
   "cell_type": "markdown",
   "metadata": {},
   "source": [
    "### E. Model Optimization"
   ]
  },
  {
   "attachments": {},
   "cell_type": "markdown",
   "metadata": {},
   "source": [
    "> Finding optimal parameters"
   ]
  },
  {
   "cell_type": "code",
   "execution_count": 229,
   "metadata": {},
   "outputs": [],
   "source": [
    "#Experiment data\n",
    "test_dx = fltrd_eval_data['true_values']\n",
    "train_d = prophet_train_data"
   ]
  },
  {
   "cell_type": "code",
   "execution_count": 230,
   "metadata": {},
   "outputs": [],
   "source": [
    "#Change point prior scale\n",
    "\n",
    "def optimal_prophet_params(cpps):\n",
    "    \n",
    "    exp_model = Prophet(changepoint_prior_scale=cpps)            #set params\n",
    "    exp_model_fit = exp_model.fit(train_d)                       #fit the data\n",
    "\n",
    "    exp_days = exp_model.make_future_dataframe(periods=7)        #set number of day predicting for \n",
    "    exp_forecast = exp_model_fit.predict(exp_days)               #make the forecast\n",
    "\n",
    "    pred_d = exp_forecast['yhat'].tail(7)                        #selected predicted data\n",
    "\n",
    "    rmse = np.sqrt(mean_squared_error(pred_d,test_dx))                       #caluclate the mse\n",
    "\n",
    "    return rmse                                                  #Return rMSE value"
   ]
  },
  {
   "cell_type": "code",
   "execution_count": 241,
   "metadata": {},
   "outputs": [
    {
     "name": "stderr",
     "output_type": "stream",
     "text": [
      "14:53:41 - cmdstanpy - INFO - Chain [1] start processing\n",
      "14:53:41 - cmdstanpy - INFO - Chain [1] done processing\n",
      "14:53:41 - cmdstanpy - INFO - Chain [1] start processing\n",
      "14:53:41 - cmdstanpy - INFO - Chain [1] done processing\n",
      "14:53:41 - cmdstanpy - INFO - Chain [1] start processing\n",
      "14:53:43 - cmdstanpy - INFO - Chain [1] done processing\n",
      "14:53:43 - cmdstanpy - INFO - Chain [1] start processing\n",
      "14:53:45 - cmdstanpy - INFO - Chain [1] done processing\n"
     ]
    }
   ],
   "source": [
    "%%capture\n",
    "# run function and search for optiomal param\n",
    "\n",
    "optimal_change_pt = None\n",
    "optimal_rmse = float('inf')\n",
    "\n",
    "change_point_data = [0.01, 0.1, 0.5, 1.0]\n",
    "\n",
    "for cpd in change_point_data:\n",
    "    exp_rmse =optimal_prophet_params(cpd)\n",
    "\n",
    "    if exp_rmse < optimal_rmse:\n",
    "        optimal_rmse = round(exp_rmse,4)\n",
    "        optimal_change_pt = cpd"
   ]
  },
  {
   "attachments": {},
   "cell_type": "markdown",
   "metadata": {},
   "source": [
    "> Retrain and predict with final model using optimal params"
   ]
  },
  {
   "cell_type": "code",
   "execution_count": 243,
   "metadata": {},
   "outputs": [
    {
     "name": "stderr",
     "output_type": "stream",
     "text": [
      "14:53:52 - cmdstanpy - INFO - Chain [1] start processing\n",
      "14:53:52 - cmdstanpy - INFO - Chain [1] done processing\n"
     ]
    }
   ],
   "source": [
    "final_prophet_model = Prophet(changepoint_prior_scale=optimal_change_pt)\n",
    "final_prophet_model_fit = final_prophet_model.fit(prophet_train_data)\n",
    "\n",
    "final_future_days = final_prophet_model.make_future_dataframe(periods=7)\n",
    "final_prophet_prediction = final_prophet_model_fit.predict(final_future_days)"
   ]
  },
  {
   "attachments": {},
   "cell_type": "markdown",
   "metadata": {},
   "source": [
    "> Final R-Mean Squared Error Metric:"
   ]
  },
  {
   "cell_type": "code",
   "execution_count": 244,
   "metadata": {},
   "outputs": [
    {
     "data": {
      "text/plain": [
       "0.0046"
      ]
     },
     "execution_count": 244,
     "metadata": {},
     "output_type": "execute_result"
    }
   ],
   "source": [
    "final_rmse = round(np.sqrt(mean_squared_error(test_dx, final_prophet_prediction['yhat'].tail(7))),4)\n",
    "final_rmse"
   ]
  },
  {
   "attachments": {},
   "cell_type": "markdown",
   "metadata": {},
   "source": [
    "> Final Mean Absolute Error Metric:"
   ]
  },
  {
   "cell_type": "code",
   "execution_count": 245,
   "metadata": {},
   "outputs": [
    {
     "data": {
      "text/plain": [
       "0.06"
      ]
     },
     "execution_count": 245,
     "metadata": {},
     "output_type": "execute_result"
    }
   ],
   "source": [
    "final_mae = round(np.sqrt(mean_absolute_error(test_dx, final_prophet_prediction['yhat'].tail(7))),2)\n",
    "final_mae"
   ]
  },
  {
   "cell_type": "code",
   "execution_count": 246,
   "metadata": {},
   "outputs": [],
   "source": [
    "#create data for visualization\n",
    "pred_viz_data = final_prophet_prediction[['ds','yhat']].tail(7)"
   ]
  },
  {
   "cell_type": "code",
   "execution_count": 256,
   "metadata": {},
   "outputs": [],
   "source": [
    "#prepare data for vizualization\n",
    "pred_viz_data['yhat']=round(pred_viz_data['yhat'],4)\n",
    "pred_viz_data.set_index('ds', inplace=True)\n",
    "\n",
    "true_viz_data= fltrd_eval_data\n",
    "true_viz_data.set_index('ds', inplace=True)"
   ]
  },
  {
   "cell_type": "code",
   "execution_count": 257,
   "metadata": {},
   "outputs": [
    {
     "data": {
      "image/png": "[encoded data removed]",
      "text/plain": [
       "<Figure size 1200x600 with 1 Axes>"
      ]
     },
     "metadata": {},
     "output_type": "display_data"
    }
   ],
   "source": [
    "plt.figure(figsize=(12,6))\n",
    "\n",
    "plt.plot(pred_viz_data['yhat'], label='Predicted')\n",
    "plt.plot(true_viz_data['true_values'], color='red', label='Actual')\n",
    "plt.legend()\n",
    "plt.show()"
   ]
  },
  {
   "cell_type": "code",
   "execution_count": 252,
   "metadata": {},
   "outputs": [
    {
     "data": {
      "text/html": [
       "<div>\n",
       "<style scoped>\n",
       "    .dataframe tbody tr th:only-of-type {\n",
       "        vertical-align: middle;\n",
       "    }\n",
       "\n",
       "    .dataframe tbody tr th {\n",
       "        vertical-align: top;\n",
       "    }\n",
       "\n",
       "    .dataframe thead th {\n",
       "        text-align: right;\n",
       "    }\n",
       "</style>\n",
       "<table border=\"1\" class=\"dataframe\">\n",
       "  <thead>\n",
       "    <tr style=\"text-align: right;\">\n",
       "      <th></th>\n",
       "      <th>yhat</th>\n",
       "    </tr>\n",
       "    <tr>\n",
       "      <th>ds</th>\n",
       "      <th></th>\n",
       "    </tr>\n",
       "  </thead>\n",
       "  <tbody>\n",
       "    <tr>\n",
       "      <th>2021-09-27</th>\n",
       "      <td>0.0702</td>\n",
       "    </tr>\n",
       "    <tr>\n",
       "      <th>2021-09-28</th>\n",
       "      <td>0.0702</td>\n",
       "    </tr>\n",
       "    <tr>\n",
       "      <th>2021-09-29</th>\n",
       "      <td>0.0697</td>\n",
       "    </tr>\n",
       "    <tr>\n",
       "      <th>2021-09-30</th>\n",
       "      <td>0.0700</td>\n",
       "    </tr>\n",
       "    <tr>\n",
       "      <th>2021-10-01</th>\n",
       "      <td>0.0692</td>\n",
       "    </tr>\n",
       "    <tr>\n",
       "      <th>2021-10-02</th>\n",
       "      <td>0.0697</td>\n",
       "    </tr>\n",
       "    <tr>\n",
       "      <th>2021-10-03</th>\n",
       "      <td>0.0697</td>\n",
       "    </tr>\n",
       "  </tbody>\n",
       "</table>\n",
       "</div>"
      ],
      "text/plain": [
       "              yhat\n",
       "ds                \n",
       "2021-09-27  0.0702\n",
       "2021-09-28  0.0702\n",
       "2021-09-29  0.0697\n",
       "2021-09-30  0.0700\n",
       "2021-10-01  0.0692\n",
       "2021-10-02  0.0697\n",
       "2021-10-03  0.0697"
      ]
     },
     "execution_count": 252,
     "metadata": {},
     "output_type": "execute_result"
    }
   ],
   "source": [
    "pred_viz_data"
   ]
  },
  {
   "cell_type": "code",
   "execution_count": null,
   "metadata": {},
   "outputs": [],
   "source": []
  }
 ],
 "metadata": {
  "kernelspec": {
   "display_name": "Python 3",
   "language": "python",
   "name": "python3"
  },
  "language_info": {
   "codemirror_mode": {
    "name": "ipython",
    "version": 3
   },
   "file_extension": ".py",
   "mimetype": "text/x-python",
   "name": "python",
   "nbconvert_exporter": "python",
   "pygments_lexer": "ipython3",
   "version": "3.10.0"
  },
  "orig_nbformat": 4,
  "vscode": {
   "interpreter": {
    "hash": "7e1998ff7f8aa20ada591c520b972326324e5ea05489af9e422744c7c09f6dad"
   }
  }
 },
 "nbformat": 4,
 "nbformat_minor": 2
}

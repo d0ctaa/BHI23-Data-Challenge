{
 "cells": [
  {
   "cell_type": "code",
   "execution_count": 3,
   "metadata": {},
   "outputs": [],
   "source": [
    "%%capture\n",
    "\n",
    "import pandas as pd\n",
    "import numpy as np\n",
    "import datetime\n",
    "import pyspark as psk\n",
    "import itertools\n",
    "import matplotlib.pyplot as plt\n",
    "from pandas_profiling import ProfileReport\n",
    "from sklearn.model_selection import train_test_split\n",
    "from sklearn.metrics import mean_squared_error\n",
    "from sklearn.metrics import mean_absolute_error\n",
    "from statsmodels.tsa.stattools import adfuller #Check stationarity by running ADF Test\n",
    "from statsmodels.graphics.tsaplots import plot_acf #autoregressive correlation function for initial P value\n",
    "from statsmodels.graphics.tsaplots import plot_pacf #partial autoregressive correlation function for initial Q value\n",
    "import statsmodels.api as sm\n",
    "from statsmodels.tsa.api import VAR\n"
   ]
  },
  {
   "attachments": {},
   "cell_type": "markdown",
   "metadata": {},
   "source": [
    "## Goal of Challenge:\n",
    "- Predict the 7-day average of new COVID-19 cases and that of the positivity rate based on the historical public health data.\n",
    "\n",
    "#### <u> Report </u>: predictions for the 1-week prediction period (Sep. 27, 2021 – Oct. 4, 2021)\n",
    "\n",
    "1. Daily new cases for the 1-week prediction period\n",
    "2. 7-day average of daily new cases for every 7-day window ending on each day of the 1-week prediction period \n",
    "3. Daily positivity rate for the 1-week prediction period \n",
    "4. 7-day average of the positivity rate for every 7-day window ending on each day of the 1-week prediction period Along with these future predictions\n",
    "5. report how accurately trained models were able to fit the historical data for the 4-week period ending on the submission date (Aug. 30, 2021 – Sep. 26, 2021). \n",
    "\n",
    "##### <u> Evaluation </u>: \n",
    "1. How accurately is the predictive model able to model the trends in the past? \n",
    "2. How accurately can the model predict future trends for the next 1-week period?"
   ]
  },
  {
   "attachments": {},
   "cell_type": "markdown",
   "metadata": {},
   "source": [
    "# <b><u>1. Prediction for Daily new cases for the 1-week prediction period </u></b>"
   ]
  },
  {
   "cell_type": "code",
   "execution_count": 4,
   "metadata": {},
   "outputs": [],
   "source": [
    "%%capture\n",
    "\n",
    "states = pd.DataFrame( pd.read_csv('states.csv') )\n",
    "cbsas = pd.DataFrame(pd.read_csv('cbsas.csv'))\n",
    "counties = pd.DataFrame(pd.read_csv('counties.csv'))\n",
    "\n",
    "#this additional Data was downloaded from the covid Act Now website\n",
    "state_historical = pd.DataFrame(pd.read_csv('states.timeseries.csv')) "
   ]
  },
  {
   "cell_type": "code",
   "execution_count": 5,
   "metadata": {},
   "outputs": [
    {
     "data": {
      "text/html": [
       "<div>\n",
       "<style scoped>\n",
       "    .dataframe tbody tr th:only-of-type {\n",
       "        vertical-align: middle;\n",
       "    }\n",
       "\n",
       "    .dataframe tbody tr th {\n",
       "        vertical-align: top;\n",
       "    }\n",
       "\n",
       "    .dataframe thead th {\n",
       "        text-align: right;\n",
       "    }\n",
       "</style>\n",
       "<table border=\"1\" class=\"dataframe\">\n",
       "  <thead>\n",
       "    <tr style=\"text-align: right;\">\n",
       "      <th></th>\n",
       "      <th>date</th>\n",
       "      <th>country</th>\n",
       "      <th>state</th>\n",
       "      <th>county</th>\n",
       "      <th>fips</th>\n",
       "      <th>lat</th>\n",
       "      <th>long</th>\n",
       "      <th>locationId</th>\n",
       "      <th>actuals.cases</th>\n",
       "      <th>actuals.deaths</th>\n",
       "      <th>...</th>\n",
       "      <th>actuals.hsaIcuBeds.currentUsageCovid</th>\n",
       "      <th>metrics.bedsWithCovidPatientsRatio</th>\n",
       "      <th>hsaName</th>\n",
       "      <th>actuals.hospitalBeds.weeklyCovidAdmissions</th>\n",
       "      <th>actuals.hsaHospitalBeds.weeklyCovidAdmissions</th>\n",
       "      <th>metrics.weeklyCovidAdmissionsPer100k</th>\n",
       "      <th>communityLevels.cdcCommunityLevel</th>\n",
       "      <th>communityLevels.canCommunityLevel</th>\n",
       "      <th>actuals.vaccinationsFall2022BivalentBooster</th>\n",
       "      <th>metrics.vaccinationsFall2022BivalentBoosterRatio</th>\n",
       "    </tr>\n",
       "  </thead>\n",
       "  <tbody>\n",
       "    <tr>\n",
       "      <th>0</th>\n",
       "      <td>2020-03-01</td>\n",
       "      <td>US</td>\n",
       "      <td>AK</td>\n",
       "      <td>NaN</td>\n",
       "      <td>2</td>\n",
       "      <td>NaN</td>\n",
       "      <td>NaN</td>\n",
       "      <td>iso1:us#iso2:us-ak</td>\n",
       "      <td>NaN</td>\n",
       "      <td>NaN</td>\n",
       "      <td>...</td>\n",
       "      <td>NaN</td>\n",
       "      <td>NaN</td>\n",
       "      <td>NaN</td>\n",
       "      <td>NaN</td>\n",
       "      <td>NaN</td>\n",
       "      <td>NaN</td>\n",
       "      <td>NaN</td>\n",
       "      <td>NaN</td>\n",
       "      <td>NaN</td>\n",
       "      <td>NaN</td>\n",
       "    </tr>\n",
       "    <tr>\n",
       "      <th>1</th>\n",
       "      <td>2020-03-02</td>\n",
       "      <td>US</td>\n",
       "      <td>AK</td>\n",
       "      <td>NaN</td>\n",
       "      <td>2</td>\n",
       "      <td>NaN</td>\n",
       "      <td>NaN</td>\n",
       "      <td>iso1:us#iso2:us-ak</td>\n",
       "      <td>NaN</td>\n",
       "      <td>NaN</td>\n",
       "      <td>...</td>\n",
       "      <td>NaN</td>\n",
       "      <td>NaN</td>\n",
       "      <td>NaN</td>\n",
       "      <td>NaN</td>\n",
       "      <td>NaN</td>\n",
       "      <td>NaN</td>\n",
       "      <td>NaN</td>\n",
       "      <td>NaN</td>\n",
       "      <td>NaN</td>\n",
       "      <td>NaN</td>\n",
       "    </tr>\n",
       "    <tr>\n",
       "      <th>2</th>\n",
       "      <td>2020-03-03</td>\n",
       "      <td>US</td>\n",
       "      <td>AK</td>\n",
       "      <td>NaN</td>\n",
       "      <td>2</td>\n",
       "      <td>NaN</td>\n",
       "      <td>NaN</td>\n",
       "      <td>iso1:us#iso2:us-ak</td>\n",
       "      <td>NaN</td>\n",
       "      <td>NaN</td>\n",
       "      <td>...</td>\n",
       "      <td>NaN</td>\n",
       "      <td>NaN</td>\n",
       "      <td>NaN</td>\n",
       "      <td>NaN</td>\n",
       "      <td>NaN</td>\n",
       "      <td>NaN</td>\n",
       "      <td>NaN</td>\n",
       "      <td>NaN</td>\n",
       "      <td>NaN</td>\n",
       "      <td>NaN</td>\n",
       "    </tr>\n",
       "    <tr>\n",
       "      <th>3</th>\n",
       "      <td>2020-03-04</td>\n",
       "      <td>US</td>\n",
       "      <td>AK</td>\n",
       "      <td>NaN</td>\n",
       "      <td>2</td>\n",
       "      <td>NaN</td>\n",
       "      <td>NaN</td>\n",
       "      <td>iso1:us#iso2:us-ak</td>\n",
       "      <td>NaN</td>\n",
       "      <td>NaN</td>\n",
       "      <td>...</td>\n",
       "      <td>NaN</td>\n",
       "      <td>NaN</td>\n",
       "      <td>NaN</td>\n",
       "      <td>NaN</td>\n",
       "      <td>NaN</td>\n",
       "      <td>NaN</td>\n",
       "      <td>NaN</td>\n",
       "      <td>NaN</td>\n",
       "      <td>NaN</td>\n",
       "      <td>NaN</td>\n",
       "    </tr>\n",
       "    <tr>\n",
       "      <th>4</th>\n",
       "      <td>2020-03-05</td>\n",
       "      <td>US</td>\n",
       "      <td>AK</td>\n",
       "      <td>NaN</td>\n",
       "      <td>2</td>\n",
       "      <td>NaN</td>\n",
       "      <td>NaN</td>\n",
       "      <td>iso1:us#iso2:us-ak</td>\n",
       "      <td>NaN</td>\n",
       "      <td>NaN</td>\n",
       "      <td>...</td>\n",
       "      <td>NaN</td>\n",
       "      <td>NaN</td>\n",
       "      <td>NaN</td>\n",
       "      <td>NaN</td>\n",
       "      <td>NaN</td>\n",
       "      <td>NaN</td>\n",
       "      <td>NaN</td>\n",
       "      <td>NaN</td>\n",
       "      <td>NaN</td>\n",
       "      <td>NaN</td>\n",
       "    </tr>\n",
       "  </tbody>\n",
       "</table>\n",
       "<p>5 rows × 61 columns</p>\n",
       "</div>"
      ],
      "text/plain": [
       "         date country state  county  fips  lat  long          locationId  \\\n",
       "0  2020-03-01      US    AK     NaN     2  NaN   NaN  iso1:us#iso2:us-ak   \n",
       "1  2020-03-02      US    AK     NaN     2  NaN   NaN  iso1:us#iso2:us-ak   \n",
       "2  2020-03-03      US    AK     NaN     2  NaN   NaN  iso1:us#iso2:us-ak   \n",
       "3  2020-03-04      US    AK     NaN     2  NaN   NaN  iso1:us#iso2:us-ak   \n",
       "4  2020-03-05      US    AK     NaN     2  NaN   NaN  iso1:us#iso2:us-ak   \n",
       "\n",
       "   actuals.cases  actuals.deaths  ...  actuals.hsaIcuBeds.currentUsageCovid  \\\n",
       "0            NaN             NaN  ...                                   NaN   \n",
       "1            NaN             NaN  ...                                   NaN   \n",
       "2            NaN             NaN  ...                                   NaN   \n",
       "3            NaN             NaN  ...                                   NaN   \n",
       "4            NaN             NaN  ...                                   NaN   \n",
       "\n",
       "   metrics.bedsWithCovidPatientsRatio  hsaName  \\\n",
       "0                                 NaN      NaN   \n",
       "1                                 NaN      NaN   \n",
       "2                                 NaN      NaN   \n",
       "3                                 NaN      NaN   \n",
       "4                                 NaN      NaN   \n",
       "\n",
       "   actuals.hospitalBeds.weeklyCovidAdmissions  \\\n",
       "0                                         NaN   \n",
       "1                                         NaN   \n",
       "2                                         NaN   \n",
       "3                                         NaN   \n",
       "4                                         NaN   \n",
       "\n",
       "   actuals.hsaHospitalBeds.weeklyCovidAdmissions  \\\n",
       "0                                            NaN   \n",
       "1                                            NaN   \n",
       "2                                            NaN   \n",
       "3                                            NaN   \n",
       "4                                            NaN   \n",
       "\n",
       "   metrics.weeklyCovidAdmissionsPer100k  communityLevels.cdcCommunityLevel  \\\n",
       "0                                   NaN                                NaN   \n",
       "1                                   NaN                                NaN   \n",
       "2                                   NaN                                NaN   \n",
       "3                                   NaN                                NaN   \n",
       "4                                   NaN                                NaN   \n",
       "\n",
       "   communityLevels.canCommunityLevel  \\\n",
       "0                                NaN   \n",
       "1                                NaN   \n",
       "2                                NaN   \n",
       "3                                NaN   \n",
       "4                                NaN   \n",
       "\n",
       "   actuals.vaccinationsFall2022BivalentBooster  \\\n",
       "0                                          NaN   \n",
       "1                                          NaN   \n",
       "2                                          NaN   \n",
       "3                                          NaN   \n",
       "4                                          NaN   \n",
       "\n",
       "   metrics.vaccinationsFall2022BivalentBoosterRatio  \n",
       "0                                               NaN  \n",
       "1                                               NaN  \n",
       "2                                               NaN  \n",
       "3                                               NaN  \n",
       "4                                               NaN  \n",
       "\n",
       "[5 rows x 61 columns]"
      ]
     },
     "execution_count": 5,
     "metadata": {},
     "output_type": "execute_result"
    }
   ],
   "source": [
    "state_historical.head(5)"
   ]
  },
  {
   "cell_type": "code",
   "execution_count": 6,
   "metadata": {},
   "outputs": [],
   "source": [
    "%%capture\n",
    "# I created a function that lets me profile the data and observe corelations\n",
    "\n",
    "def file_prof(fileX, htmlX):\n",
    "    filex_profile = ProfileReport(fileX)\n",
    "    html_name = f\"{htmlX}.html\"\n",
    "    filex_profile.to_file(html_name)"
   ]
  },
  {
   "cell_type": "code",
   "execution_count": 6,
   "metadata": {},
   "outputs": [],
   "source": [
    "%%capture\n",
    "\n",
    "#This cell ran, will provile the CSV files to an interactive html\n",
    "'''file_prof(states, 'state_prof')\n",
    "file_prof(cbsas, 'cbsas_prof')\n",
    "file_prof(gmr, 'gmr_prof')\n",
    "file_prof(counties, 'counties_prof')'''\n"
   ]
  },
  {
   "cell_type": "code",
   "execution_count": 7,
   "metadata": {},
   "outputs": [],
   "source": [
    "#convert date column to dtype: datetime. \n",
    "state_historical['date']= state_historical['date'].astype('datetime64[ns]')"
   ]
  },
  {
   "attachments": {},
   "cell_type": "markdown",
   "metadata": {},
   "source": [
    "# Vector AutoRegression"
   ]
  },
  {
   "attachments": {},
   "cell_type": "markdown",
   "metadata": {},
   "source": [
    "##### I used the VAR model due to the  multivariate nature of the curated data\n",
    "\n",
    "* The data used to train is a combination of data from the global modility rate file and the historical state file.\n",
    "* I preprocessed both files, filtered them for the state of colorado and merged them together.\n"
   ]
  },
  {
   "cell_type": "code",
   "execution_count": 8,
   "metadata": {},
   "outputs": [],
   "source": [
    "\n",
    "sample_historical = state_historical[['date', 'country','state','metrics.infectionRate','actuals.newCases']]\n"
   ]
  },
  {
   "cell_type": "code",
   "execution_count": 9,
   "metadata": {},
   "outputs": [],
   "source": [
    "#Here the data is filtered for the dates given\n",
    "\n",
    "sample_historical = sample_historical[(sample_historical['date'] >= '2021-08-30') & (sample_historical['date']<= '2021-09-26')]\n"
   ]
  },
  {
   "cell_type": "code",
   "execution_count": 10,
   "metadata": {},
   "outputs": [],
   "source": [
    "#here the data is filtered for the the state of Colorado\n",
    "sample_historical_co = sample_historical[sample_historical['state']=='CO']"
   ]
  },
  {
   "cell_type": "code",
   "execution_count": 11,
   "metadata": {},
   "outputs": [
    {
     "data": {
      "text/html": [
       "<div>\n",
       "<style scoped>\n",
       "    .dataframe tbody tr th:only-of-type {\n",
       "        vertical-align: middle;\n",
       "    }\n",
       "\n",
       "    .dataframe tbody tr th {\n",
       "        vertical-align: top;\n",
       "    }\n",
       "\n",
       "    .dataframe thead th {\n",
       "        text-align: right;\n",
       "    }\n",
       "</style>\n",
       "<table border=\"1\" class=\"dataframe\">\n",
       "  <thead>\n",
       "    <tr style=\"text-align: right;\">\n",
       "      <th></th>\n",
       "      <th>date</th>\n",
       "      <th>country</th>\n",
       "      <th>state</th>\n",
       "      <th>metrics.infectionRate</th>\n",
       "      <th>actuals.newCases</th>\n",
       "    </tr>\n",
       "  </thead>\n",
       "  <tbody>\n",
       "    <tr>\n",
       "      <th>7109</th>\n",
       "      <td>2021-08-30</td>\n",
       "      <td>US</td>\n",
       "      <td>CO</td>\n",
       "      <td>1.10</td>\n",
       "      <td>3076.0</td>\n",
       "    </tr>\n",
       "    <tr>\n",
       "      <th>7110</th>\n",
       "      <td>2021-08-31</td>\n",
       "      <td>US</td>\n",
       "      <td>CO</td>\n",
       "      <td>1.09</td>\n",
       "      <td>2104.0</td>\n",
       "    </tr>\n",
       "    <tr>\n",
       "      <th>7111</th>\n",
       "      <td>2021-09-01</td>\n",
       "      <td>US</td>\n",
       "      <td>CO</td>\n",
       "      <td>1.08</td>\n",
       "      <td>1604.0</td>\n",
       "    </tr>\n",
       "    <tr>\n",
       "      <th>7112</th>\n",
       "      <td>2021-09-02</td>\n",
       "      <td>US</td>\n",
       "      <td>CO</td>\n",
       "      <td>1.08</td>\n",
       "      <td>2873.0</td>\n",
       "    </tr>\n",
       "    <tr>\n",
       "      <th>7113</th>\n",
       "      <td>2021-09-03</td>\n",
       "      <td>US</td>\n",
       "      <td>CO</td>\n",
       "      <td>1.07</td>\n",
       "      <td>2118.0</td>\n",
       "    </tr>\n",
       "  </tbody>\n",
       "</table>\n",
       "</div>"
      ],
      "text/plain": [
       "           date country state  metrics.infectionRate  actuals.newCases\n",
       "7109 2021-08-30      US    CO                   1.10            3076.0\n",
       "7110 2021-08-31      US    CO                   1.09            2104.0\n",
       "7111 2021-09-01      US    CO                   1.08            1604.0\n",
       "7112 2021-09-02      US    CO                   1.08            2873.0\n",
       "7113 2021-09-03      US    CO                   1.07            2118.0"
      ]
     },
     "execution_count": 11,
     "metadata": {},
     "output_type": "execute_result"
    }
   ],
   "source": [
    "#View of our Data\n",
    "\n",
    "sample_historical_co.head()"
   ]
  },
  {
   "cell_type": "code",
   "execution_count": 12,
   "metadata": {},
   "outputs": [],
   "source": [
    "#Reading the Global Mobility data for 2021\n",
    "gmr_2021 = pd.DataFrame(pd.read_csv('2021_US_Region_Mobility_Report.csv'))"
   ]
  },
  {
   "cell_type": "code",
   "execution_count": 13,
   "metadata": {},
   "outputs": [],
   "source": [
    "#filtering global molity data for the state of Colorado\n",
    "gmr_2021_CO = gmr_2021[gmr_2021['iso_3166_2_code']=='US-CO']"
   ]
  },
  {
   "cell_type": "code",
   "execution_count": 14,
   "metadata": {},
   "outputs": [],
   "source": [
    "%%capture\n",
    "\n",
    "#PReprocessing the column. Changing the sting from 'US-CO to 'CO''\n",
    "gmr_2021_CO['iso_3166_2_code'] = gmr_2021_CO['iso_3166_2_code'].str.split('-').str[-1]"
   ]
  },
  {
   "cell_type": "code",
   "execution_count": 15,
   "metadata": {},
   "outputs": [],
   "source": [
    "#Selecting the features we need\n",
    "gmr_2021_CO = gmr_2021_CO[['country_region_code','iso_3166_2_code','date','retail_and_recreation_percent_change_from_baseline','grocery_and_pharmacy_percent_change_from_baseline','parks_percent_change_from_baseline','transit_stations_percent_change_from_baseline','workplaces_percent_change_from_baseline','residential_percent_change_from_baseline']]"
   ]
  },
  {
   "cell_type": "code",
   "execution_count": 16,
   "metadata": {},
   "outputs": [],
   "source": [
    "%%capture\n",
    "#Converting to dtype: datetime\n",
    "gmr_2021_CO['date'] = gmr_2021_CO['date'].astype('datetime64[ns]')"
   ]
  },
  {
   "cell_type": "code",
   "execution_count": 17,
   "metadata": {},
   "outputs": [],
   "source": [
    "%%capture\n",
    "\n",
    "#Changing the name of a column to prefered one for joinning the data togehter\n",
    "gmr_2021_CO.rename(columns={'iso_3166_2_code':'state'}, inplace=True)"
   ]
  },
  {
   "cell_type": "code",
   "execution_count": 18,
   "metadata": {},
   "outputs": [],
   "source": [
    "#Merge Global mobility data with historical Date\n",
    "\n",
    "CO_data = pd.merge(sample_historical_co,gmr_2021_CO, on=['date','state'])\n",
    "train_data_co = CO_data.copy()\n"
   ]
  },
  {
   "cell_type": "code",
   "execution_count": 19,
   "metadata": {},
   "outputs": [
    {
     "name": "stdout",
     "output_type": "stream",
     "text": [
      "<class 'pandas.core.frame.DataFrame'>\n",
      "RangeIndex: 28 entries, 0 to 27\n",
      "Data columns (total 12 columns):\n",
      " #   Column                                              Non-Null Count  Dtype         \n",
      "---  ------                                              --------------  -----         \n",
      " 0   date                                                28 non-null     datetime64[ns]\n",
      " 1   country                                             28 non-null     object        \n",
      " 2   state                                               28 non-null     object        \n",
      " 3   metrics.infectionRate                               28 non-null     float64       \n",
      " 4   actuals.newCases                                    27 non-null     float64       \n",
      " 5   country_region_code                                 28 non-null     object        \n",
      " 6   retail_and_recreation_percent_change_from_baseline  28 non-null     float64       \n",
      " 7   grocery_and_pharmacy_percent_change_from_baseline   28 non-null     float64       \n",
      " 8   parks_percent_change_from_baseline                  28 non-null     float64       \n",
      " 9   transit_stations_percent_change_from_baseline       28 non-null     float64       \n",
      " 10  workplaces_percent_change_from_baseline             28 non-null     float64       \n",
      " 11  residential_percent_change_from_baseline            28 non-null     float64       \n",
      "dtypes: datetime64[ns](1), float64(8), object(3)\n",
      "memory usage: 2.8+ KB\n"
     ]
    }
   ],
   "source": [
    "#Details on the Feature Engineered dataframe\n",
    "train_data_co.info()"
   ]
  },
  {
   "cell_type": "code",
   "execution_count": 20,
   "metadata": {},
   "outputs": [],
   "source": [
    "#Fixing NaNs\n",
    "train_data_co['actuals.newCases'].fillna(0, inplace=True)"
   ]
  },
  {
   "cell_type": "code",
   "execution_count": 21,
   "metadata": {},
   "outputs": [],
   "source": [
    "#Changing the index to date column\n",
    "train_data_co = train_data_co.set_index('date')"
   ]
  },
  {
   "attachments": {},
   "cell_type": "markdown",
   "metadata": {},
   "source": [
    "### Final Feature engineering\n",
    "\n",
    "###### Columns to predict on :\n",
    "        - retail_and_recreation_percent_change_from_baseline\n",
    "        - grocery_and_pharmacy_percent_change_from_baseline\n",
    "        - parks_percent_change_from_baseline\n",
    "        - transit_stations_percent_change_from_baseline\n",
    "        - workplaces_percent_change_from_baseline\n",
    "        - residential_percent_change_from_baseline\n",
    "        - Infection Rate\n",
    "        - New Cases'"
   ]
  },
  {
   "cell_type": "code",
   "execution_count": 22,
   "metadata": {},
   "outputs": [],
   "source": [
    "#Colorado Data Frame is filtered to keep only continious data\n",
    "co_cont_data = train_data_co[['retail_and_recreation_percent_change_from_baseline','grocery_and_pharmacy_percent_change_from_baseline','parks_percent_change_from_baseline','transit_stations_percent_change_from_baseline','workplaces_percent_change_from_baseline','residential_percent_change_from_baseline','metrics.infectionRate','actuals.newCases']] #All Continious data"
   ]
  },
  {
   "attachments": {},
   "cell_type": "markdown",
   "metadata": {},
   "source": [
    "### A. Model Training with historical data from the period of: Aug. 30, 2021 – Sep. 26, 2021"
   ]
  },
  {
   "cell_type": "code",
   "execution_count": 23,
   "metadata": {},
   "outputs": [],
   "source": [
    "%%capture\n",
    "#Setting Initial Parameters for the VAR Model\n",
    "\n",
    "lag_order = 2 #The lag order is randomly select for a first try\n",
    "var_model = VAR(co_cont_data)\n",
    "trained_var = var_model.fit(lag_order)\n"
   ]
  },
  {
   "attachments": {},
   "cell_type": "markdown",
   "metadata": {},
   "source": [
    "### B. Predicting New Covid Cases for the period of [ Sep. 27, 2021 – Oct. 4, 2021 ]"
   ]
  },
  {
   "cell_type": "code",
   "execution_count": 24,
   "metadata": {},
   "outputs": [],
   "source": [
    "#Forcasting for the 7 day period\n",
    "seven_day_forecast = trained_var.forecast(co_cont_data.values[-lag_order:], steps=7)\n",
    "\n",
    "#slicing and saving the forcated data\n",
    "new_cases_forecasts = seven_day_forecast[:, co_cont_data.columns.get_loc('actuals.newCases')]\n",
    "\n",
    "#round the result to 2 point decimal\n",
    "new_cases_forecasts = np.round(new_cases_forecasts,2)"
   ]
  },
  {
   "attachments": {},
   "cell_type": "markdown",
   "metadata": {},
   "source": [
    "### C. Model Evaluation"
   ]
  },
  {
   "cell_type": "code",
   "execution_count": 25,
   "metadata": {},
   "outputs": [],
   "source": [
    "#Curating an evaluation data set. \n",
    "prediction_test = state_historical[['date', 'country','state','metrics.infectionRate','actuals.newCases']]\n",
    "\n",
    "#Date Filtering\n",
    "prediction_test_date = prediction_test[(prediction_test['date'] >= '2021-09-27') & (prediction_test['date']< '2021-10-04')]\n",
    "\n",
    "#State Filtering\n",
    "prediction_test_date_co = prediction_test_date[prediction_test_date['state']=='CO']\n",
    "\n",
    "#Index Setting\n",
    "prediction_test_date_co = prediction_test_date_co.set_index('date')\n",
    "\n",
    "#Adding predicted Value to the evaluation dataset\n",
    "prediction_test_date_co['predicted']= new_cases_forecasts"
   ]
  },
  {
   "cell_type": "code",
   "execution_count": 26,
   "metadata": {},
   "outputs": [],
   "source": [
    "#prediction_test_date_co.to_csv('prediction.csv')"
   ]
  },
  {
   "attachments": {},
   "cell_type": "markdown",
   "metadata": {},
   "source": [
    "### D. Metrics Calculation"
   ]
  },
  {
   "cell_type": "code",
   "execution_count": 31,
   "metadata": {},
   "outputs": [],
   "source": [
    "pred_rsme = round(np.sqrt(mean_squared_error(prediction_test_date_co['actuals.newCases'],prediction_test_date_co['predicted'])),2)"
   ]
  },
  {
   "cell_type": "markdown",
   "metadata": {},
   "source": [
    "> <b> Root Mean Square Error: </b>"
   ]
  },
  {
   "cell_type": "code",
   "execution_count": 32,
   "metadata": {},
   "outputs": [
    {
     "data": {
      "text/plain": [
       "1023.63"
      ]
     },
     "execution_count": 32,
     "metadata": {},
     "output_type": "execute_result"
    }
   ],
   "source": [
    "pred_rsme"
   ]
  },
  {
   "attachments": {},
   "cell_type": "markdown",
   "metadata": {},
   "source": [
    "> <b> Mean Absolute Error </b>"
   ]
  },
  {
   "cell_type": "code",
   "execution_count": 29,
   "metadata": {},
   "outputs": [],
   "source": [
    "pred_mae = round(mean_absolute_error(prediction_test_date_co['actuals.newCases'],prediction_test_date_co['predicted']),2)"
   ]
  },
  {
   "cell_type": "code",
   "execution_count": 30,
   "metadata": {},
   "outputs": [
    {
     "data": {
      "text/plain": [
       "812.73"
      ]
     },
     "execution_count": 30,
     "metadata": {},
     "output_type": "execute_result"
    }
   ],
   "source": [
    "pred_mae"
   ]
  },
  {
   "attachments": {},
   "cell_type": "markdown",
   "metadata": {},
   "source": [
    "### E. Visualize the Actual and Predicted Values"
   ]
  },
  {
   "cell_type": "code",
   "execution_count": 31,
   "metadata": {},
   "outputs": [
    {
     "data": {
      "image/png": "[encoded data removed]",
      "text/plain": [
       "<Figure size 1200x600 with 1 Axes>"
      ]
     },
     "metadata": {},
     "output_type": "display_data"
    }
   ],
   "source": [
    "plt.figure(figsize=(12,6))\n",
    "\n",
    "plt.plot(prediction_test_date_co['actuals.newCases'], label='Actual')\n",
    "plt.plot(prediction_test_date_co['predicted'], color='red', label='Predicted')\n",
    "plt.legend()\n",
    "plt.show()"
   ]
  },
  {
   "attachments": {},
   "cell_type": "markdown",
   "metadata": {},
   "source": [
    "### F. Lag and VAR Model Optimization"
   ]
  },
  {
   "cell_type": "code",
   "execution_count": 32,
   "metadata": {},
   "outputs": [],
   "source": [
    "%%capture\n",
    "from statsmodels.tools.eval_measures import aic\n",
    "''' We use Akaike Information Criterion (AIC) to determine the most suitable lag order for our VAR model.\n",
    "Bayesian Information Criterion (BIC) can also be used. The choice depends on the user's preference. '''\n",
    "\n",
    "#Defining a function to find the optimal lag for VAR\n",
    "\n",
    "def optimal_lag_var (x,data_x):\n",
    "\n",
    "    aic_final_values = []\n",
    "\n",
    "    for i in range(1, x+1):    \n",
    "\n",
    "        #fitting a VAR model for every number the given range\n",
    "        model_evaluation = VAR(data_x)\n",
    "        model_evaluation_fited = model_evaluation.fit(i)\n",
    "\n",
    "        #calcution of aic for every lag in the given range\n",
    "        aic_score = model_evaluation_fited.aic\n",
    "\n",
    "        #store the lag order with its respective aic value\n",
    "\n",
    "        aic_final_values.append((i, aic_score))\n",
    "    \n",
    "    return aic_final_values\n"
   ]
  },
  {
   "cell_type": "code",
   "execution_count": 33,
   "metadata": {},
   "outputs": [],
   "source": [
    "%%capture\n",
    "#run the function to choose the best lag oder in a range of 1 to 10 incluse\n",
    "\n",
    "aic_results = optimal_lag_var(10,co_cont_data)"
   ]
  },
  {
   "cell_type": "code",
   "execution_count": 34,
   "metadata": {},
   "outputs": [],
   "source": [
    "#Write a function to choose the best lag order\n",
    "def lag_finder(result_x):\n",
    "    b = [] #empty list for storing the lag order we want\n",
    "    for i in result_x:\n",
    "        if i[1]> 0:\n",
    "            b.append(i)\n",
    "    return min(b[1])\n"
   ]
  },
  {
   "cell_type": "code",
   "execution_count": 35,
   "metadata": {},
   "outputs": [
    {
     "data": {
      "text/plain": [
       "2"
      ]
     },
     "execution_count": 35,
     "metadata": {},
     "output_type": "execute_result"
    }
   ],
   "source": [
    "#run the function to give us the lag\n",
    "optimized_lag = lag_finder(aic_results)\n",
    "optimized_lag\n"
   ]
  },
  {
   "attachments": {},
   "cell_type": "markdown",
   "metadata": {},
   "source": [
    "### Observation for 1st Prediction: "
   ]
  },
  {
   "attachments": {},
   "cell_type": "markdown",
   "metadata": {},
   "source": [
    "> The Optimal Lag number in this case is the same as what i used when runing the first prediction. No futher change to the model is required at this point. "
   ]
  },
  {
   "attachments": {},
   "cell_type": "markdown",
   "metadata": {},
   "source": [
    "# <b><u> 2.   7-day average of daily new cases for every 7-day</b></u>"
   ]
  },
  {
   "attachments": {},
   "cell_type": "markdown",
   "metadata": {},
   "source": [
    "> <b> Data Curation: </b>"
   ]
  },
  {
   "cell_type": "code",
   "execution_count": 343,
   "metadata": {},
   "outputs": [],
   "source": [
    "%%capture\n",
    "#Select Relevant Columns\n",
    "sample_historical_1 = state_historical[['date', 'country','state','metrics.infectionRate','actuals.newCases']]\n",
    "\n",
    "#Selecting the Date Range\n",
    "sample_historical_1 = sample_historical_1[(sample_historical_1['date'] >= '2021-08-23') & (sample_historical_1['date']< '2021-10-04')]\n",
    "\n",
    "#Filtering for Colorado State\n",
    "sample_historical_1 = sample_historical_1[sample_historical_1['state']=='CO']\n",
    "\n",
    "#Second Filtering of Columns\n",
    "co_cont_data_1 = sample_historical_1[['date','actuals.newCases']]\n",
    "\n",
    "#Fix NaNs\n",
    "co_cont_data_1['actuals.newCases'].fillna(0, inplace=True)\n",
    "\n",
    "\n",
    "#Make a copy of the the curated data\n",
    "sevenD_avg_data = co_cont_data_1.copy()"
   ]
  },
  {
   "cell_type": "code",
   "execution_count": 344,
   "metadata": {},
   "outputs": [],
   "source": [
    "#Create a 7 day window rolling average. \n",
    "sevenD_avg_data_fltrd = sevenD_avg_data[['date','actuals.newCases']]\n",
    "sevenD_avg_data_fltrd['7day_w_avg'] = sevenD_avg_data_fltrd['actuals.newCases'].rolling(window=7).mean() \n"
   ]
  },
  {
   "cell_type": "code",
   "execution_count": 345,
   "metadata": {},
   "outputs": [],
   "source": [
    "#Round the result to 1 decimal\n",
    "sevenD_avg_data_fltrd['7day_w_avg'] = round(sevenD_avg_data_fltrd['7day_w_avg'],1)"
   ]
  },
  {
   "cell_type": "code",
   "execution_count": 584,
   "metadata": {},
   "outputs": [],
   "source": [
    "#Create a laged column of the 7 day average\n",
    "sevenD_avg_data_fltrd['y_lgd'] = sevenD_avg_data_fltrd['7day_w_avg'].shift(1)"
   ]
  },
  {
   "cell_type": "code",
   "execution_count": 752,
   "metadata": {},
   "outputs": [
    {
     "data": {
      "text/html": [
       "<div>\n",
       "<style scoped>\n",
       "    .dataframe tbody tr th:only-of-type {\n",
       "        vertical-align: middle;\n",
       "    }\n",
       "\n",
       "    .dataframe tbody tr th {\n",
       "        vertical-align: top;\n",
       "    }\n",
       "\n",
       "    .dataframe thead th {\n",
       "        text-align: right;\n",
       "    }\n",
       "</style>\n",
       "<table border=\"1\" class=\"dataframe\">\n",
       "  <thead>\n",
       "    <tr style=\"text-align: right;\">\n",
       "      <th></th>\n",
       "      <th>date</th>\n",
       "      <th>actuals.newCases</th>\n",
       "      <th>7day_w_avg</th>\n",
       "      <th>y_lgd</th>\n",
       "    </tr>\n",
       "  </thead>\n",
       "  <tbody>\n",
       "    <tr>\n",
       "      <th>7102</th>\n",
       "      <td>2021-08-23</td>\n",
       "      <td>3297.0</td>\n",
       "      <td>NaN</td>\n",
       "      <td>NaN</td>\n",
       "    </tr>\n",
       "    <tr>\n",
       "      <th>7103</th>\n",
       "      <td>2021-08-24</td>\n",
       "      <td>985.0</td>\n",
       "      <td>NaN</td>\n",
       "      <td>NaN</td>\n",
       "    </tr>\n",
       "    <tr>\n",
       "      <th>7104</th>\n",
       "      <td>2021-08-25</td>\n",
       "      <td>1623.0</td>\n",
       "      <td>NaN</td>\n",
       "      <td>NaN</td>\n",
       "    </tr>\n",
       "    <tr>\n",
       "      <th>7105</th>\n",
       "      <td>2021-08-26</td>\n",
       "      <td>2235.0</td>\n",
       "      <td>NaN</td>\n",
       "      <td>NaN</td>\n",
       "    </tr>\n",
       "    <tr>\n",
       "      <th>7106</th>\n",
       "      <td>2021-08-27</td>\n",
       "      <td>1426.0</td>\n",
       "      <td>NaN</td>\n",
       "      <td>NaN</td>\n",
       "    </tr>\n",
       "  </tbody>\n",
       "</table>\n",
       "</div>"
      ],
      "text/plain": [
       "           date  actuals.newCases  7day_w_avg  y_lgd\n",
       "7102 2021-08-23            3297.0         NaN    NaN\n",
       "7103 2021-08-24             985.0         NaN    NaN\n",
       "7104 2021-08-25            1623.0         NaN    NaN\n",
       "7105 2021-08-26            2235.0         NaN    NaN\n",
       "7106 2021-08-27            1426.0         NaN    NaN"
      ]
     },
     "execution_count": 752,
     "metadata": {},
     "output_type": "execute_result"
    }
   ],
   "source": [
    "sevenD_avg_data_fltrd.head()"
   ]
  },
  {
   "cell_type": "code",
   "execution_count": 586,
   "metadata": {},
   "outputs": [],
   "source": [
    "#Select the data for training prophet model\n",
    "sevenD_avg_train = sevenD_avg_data_fltrd[(sevenD_avg_data_fltrd['date']>='2021-08-30')&(sevenD_avg_data_fltrd['date']<='2021-09-26')]"
   ]
  },
  {
   "cell_type": "code",
   "execution_count": 753,
   "metadata": {},
   "outputs": [
    {
     "data": {
      "text/html": [
       "<div>\n",
       "<style scoped>\n",
       "    .dataframe tbody tr th:only-of-type {\n",
       "        vertical-align: middle;\n",
       "    }\n",
       "\n",
       "    .dataframe tbody tr th {\n",
       "        vertical-align: top;\n",
       "    }\n",
       "\n",
       "    .dataframe thead th {\n",
       "        text-align: right;\n",
       "    }\n",
       "</style>\n",
       "<table border=\"1\" class=\"dataframe\">\n",
       "  <thead>\n",
       "    <tr style=\"text-align: right;\">\n",
       "      <th></th>\n",
       "      <th>ds</th>\n",
       "      <th>y</th>\n",
       "      <th>y_lgd</th>\n",
       "    </tr>\n",
       "  </thead>\n",
       "  <tbody>\n",
       "    <tr>\n",
       "      <th>7109</th>\n",
       "      <td>2021-08-30</td>\n",
       "      <td>1494.6</td>\n",
       "      <td>1526.1</td>\n",
       "    </tr>\n",
       "    <tr>\n",
       "      <th>7110</th>\n",
       "      <td>2021-08-31</td>\n",
       "      <td>1654.4</td>\n",
       "      <td>1494.6</td>\n",
       "    </tr>\n",
       "    <tr>\n",
       "      <th>7111</th>\n",
       "      <td>2021-09-01</td>\n",
       "      <td>1651.7</td>\n",
       "      <td>1654.4</td>\n",
       "    </tr>\n",
       "    <tr>\n",
       "      <th>7112</th>\n",
       "      <td>2021-09-02</td>\n",
       "      <td>1742.9</td>\n",
       "      <td>1651.7</td>\n",
       "    </tr>\n",
       "    <tr>\n",
       "      <th>7113</th>\n",
       "      <td>2021-09-03</td>\n",
       "      <td>1841.7</td>\n",
       "      <td>1742.9</td>\n",
       "    </tr>\n",
       "  </tbody>\n",
       "</table>\n",
       "</div>"
      ],
      "text/plain": [
       "             ds       y   y_lgd\n",
       "7109 2021-08-30  1494.6  1526.1\n",
       "7110 2021-08-31  1654.4  1494.6\n",
       "7111 2021-09-01  1651.7  1654.4\n",
       "7112 2021-09-02  1742.9  1651.7\n",
       "7113 2021-09-03  1841.7  1742.9"
      ]
     },
     "execution_count": 753,
     "metadata": {},
     "output_type": "execute_result"
    }
   ],
   "source": [
    "# Prepare column names for prophet\n",
    "sevenD_avg_train = sevenD_avg_train[['date','7day_w_avg','y_lgd']]\n",
    "sevenD_avg_train.rename(columns={'date':'ds','7day_w_avg':'y'}, inplace=True)\n",
    "sevenD_avg_train.head()"
   ]
  },
  {
   "cell_type": "code",
   "execution_count": 348,
   "metadata": {},
   "outputs": [],
   "source": [
    "#Select the data to use for testing the acurary of the model\n",
    "sevenD_avg_test = sevenD_avg_data_fltrd.tail(7)"
   ]
  },
  {
   "cell_type": "code",
   "execution_count": 493,
   "metadata": {},
   "outputs": [],
   "source": [
    "#Preparing the test data\n",
    "sevenD_avg_test= sevenD_avg_test[['date','7day_w_avg']]\n",
    "sevenD_avg_test.rename(columns={'date':'ds','7day_w_avg':'y'}, inplace=True)\n",
    "sevenD_avg_test.set_index('ds', inplace=True)"
   ]
  },
  {
   "attachments": {},
   "cell_type": "markdown",
   "metadata": {},
   "source": [
    "> Model Training"
   ]
  },
  {
   "cell_type": "code",
   "execution_count": 745,
   "metadata": {},
   "outputs": [
    {
     "name": "stderr",
     "output_type": "stream",
     "text": [
      "20:03:32 - cmdstanpy - INFO - Chain [1] start processing\n",
      "20:03:32 - cmdstanpy - INFO - Chain [1] done processing\n"
     ]
    },
    {
     "data": {
      "text/html": [
       "<div>\n",
       "<style scoped>\n",
       "    .dataframe tbody tr th:only-of-type {\n",
       "        vertical-align: middle;\n",
       "    }\n",
       "\n",
       "    .dataframe tbody tr th {\n",
       "        vertical-align: top;\n",
       "    }\n",
       "\n",
       "    .dataframe thead th {\n",
       "        text-align: right;\n",
       "    }\n",
       "</style>\n",
       "<table border=\"1\" class=\"dataframe\">\n",
       "  <thead>\n",
       "    <tr style=\"text-align: right;\">\n",
       "      <th></th>\n",
       "      <th>yhat</th>\n",
       "    </tr>\n",
       "    <tr>\n",
       "      <th>ds</th>\n",
       "      <th></th>\n",
       "    </tr>\n",
       "  </thead>\n",
       "  <tbody>\n",
       "    <tr>\n",
       "      <th>2021-09-27</th>\n",
       "      <td>1891.6</td>\n",
       "    </tr>\n",
       "    <tr>\n",
       "      <th>2021-09-28</th>\n",
       "      <td>1914.0</td>\n",
       "    </tr>\n",
       "    <tr>\n",
       "      <th>2021-09-29</th>\n",
       "      <td>1898.4</td>\n",
       "    </tr>\n",
       "    <tr>\n",
       "      <th>2021-09-30</th>\n",
       "      <td>1900.8</td>\n",
       "    </tr>\n",
       "    <tr>\n",
       "      <th>2021-10-01</th>\n",
       "      <td>1901.0</td>\n",
       "    </tr>\n",
       "    <tr>\n",
       "      <th>2021-10-02</th>\n",
       "      <td>1870.6</td>\n",
       "    </tr>\n",
       "    <tr>\n",
       "      <th>2021-10-03</th>\n",
       "      <td>1879.9</td>\n",
       "    </tr>\n",
       "  </tbody>\n",
       "</table>\n",
       "</div>"
      ],
      "text/plain": [
       "              yhat\n",
       "ds                \n",
       "2021-09-27  1891.6\n",
       "2021-09-28  1914.0\n",
       "2021-09-29  1898.4\n",
       "2021-09-30  1900.8\n",
       "2021-10-01  1901.0\n",
       "2021-10-02  1870.6\n",
       "2021-10-03  1879.9"
      ]
     },
     "execution_count": 745,
     "metadata": {},
     "output_type": "execute_result"
    }
   ],
   "source": [
    "''' Model Training. hyperparameters like change point prior scale, seasonlity prior scale, and regressor were tested to get the best model'''\n",
    "model_7dx = Prophet(changepoint_prior_scale=0.05, seasonality_prior_scale=0.151)\n",
    "\n",
    "#model_7dx.add_regressor('y_lgd')\n",
    "                        \n",
    "model_7dx_fit = model_7dx.fit(sevenD_avg_train)\n",
    "\n",
    "pred_len = model_7dx_fit.make_future_dataframe(periods=7)\n",
    "#pred_len['y_lgd'] = sevenD_avg_train['y_lgd'].iloc[-4]\n",
    "model_7dx_fit_frcst = model_7dx_fit.predict(pred_len)\n",
    "\n",
    "model_7dx_results = model_7dx_fit_frcst[['ds','yhat']].tail(7)\n",
    "model_7dx_results['yhat'] = round(model_7dx_results['yhat'],1)\n",
    "model_7dx_results.set_index('ds',inplace=True)\n",
    "model_7dx_results"
   ]
  },
  {
   "attachments": {},
   "cell_type": "markdown",
   "metadata": {},
   "source": [
    "> <b><u>Mean Absolut Error:</b></u>"
   ]
  },
  {
   "cell_type": "code",
   "execution_count": 750,
   "metadata": {},
   "outputs": [
    {
     "data": {
      "text/plain": [
       "100.9"
      ]
     },
     "execution_count": 750,
     "metadata": {},
     "output_type": "execute_result"
    }
   ],
   "source": [
    "pred_7d1 = viz_7dx_df['pred']\n",
    "test_7d1 = viz_7dx_df['y'] \n",
    "\n",
    "mae_7d1 = round(mean_absolute_error(test_7d1,pred_7d1),1)\n",
    "mae_7d1\n"
   ]
  },
  {
   "attachments": {},
   "cell_type": "markdown",
   "metadata": {},
   "source": [
    "> <b><u> Root Mean Squared Error: </b></u>"
   ]
  },
  {
   "cell_type": "code",
   "execution_count": 751,
   "metadata": {},
   "outputs": [
    {
     "data": {
      "text/plain": [
       "127.1495"
      ]
     },
     "execution_count": 751,
     "metadata": {},
     "output_type": "execute_result"
    }
   ],
   "source": [
    "rmse_7d1 = round(np.sqrt(mean_squared_error(test_7d1,pred_7d1)),4)\n",
    "rmse_7d1"
   ]
  },
  {
   "attachments": {},
   "cell_type": "markdown",
   "metadata": {},
   "source": [
    "> <b><u> Result Visualization: </b></u>"
   ]
  },
  {
   "cell_type": "code",
   "execution_count": 748,
   "metadata": {},
   "outputs": [],
   "source": [
    "viz_7dx_df = sevenD_avg_test.copy()\n",
    "viz_7dx_df['pred'] = model_7dx_results['yhat']\n",
    "#viz_7dx_df"
   ]
  },
  {
   "cell_type": "code",
   "execution_count": 1234,
   "metadata": {},
   "outputs": [],
   "source": [
    "#send result to excel\n",
    "viz_7dx_df.to_csv('Q2.csv')"
   ]
  },
  {
   "cell_type": "code",
   "execution_count": 747,
   "metadata": {},
   "outputs": [
    {
     "data": {
      "image/png": "[encoded data removed]",
      "text/plain": [
       "<Figure size 1200x600 with 1 Axes>"
      ]
     },
     "metadata": {},
     "output_type": "display_data"
    }
   ],
   "source": [
    "plt.figure(figsize=(12,6))\n",
    "\n",
    "plt.plot(viz_7dx_df['y'], label='Actual')\n",
    "plt.plot(viz_7dx_df['pred'], color='red', label='Predicted')\n",
    "plt.legend()\n",
    "plt.show()"
   ]
  },
  {
   "cell_type": "markdown",
   "metadata": {},
   "source": []
  },
  {
   "attachments": {},
   "cell_type": "markdown",
   "metadata": {},
   "source": [
    "# <b><u>3. Predicting Positivity Rate for the 7 Days: </b></u>"
   ]
  },
  {
   "attachments": {},
   "cell_type": "markdown",
   "metadata": {},
   "source": [
    "### A. Preprocessing and Feature Engineering"
   ]
  },
  {
   "cell_type": "code",
   "execution_count": 36,
   "metadata": {},
   "outputs": [],
   "source": [
    "# Featured Engineered Historical Data\n",
    "new_colorado_data = state_historical[['date','state','metrics.testPositivityRatio']]\n"
   ]
  },
  {
   "cell_type": "code",
   "execution_count": 37,
   "metadata": {},
   "outputs": [],
   "source": [
    "#historical data filtered by state to extract colorado data\n",
    "fltrd_co_data = new_colorado_data[new_colorado_data['state']=='CO']\n",
    "\n",
    "#historical data filtered by date for the required period\n",
    "fltrd_co_data = fltrd_co_data[(fltrd_co_data['date']>= '2021-08-30')&(fltrd_co_data['date']<= '2021-09-26')]\n",
    "\n"
   ]
  },
  {
   "cell_type": "code",
   "execution_count": 256,
   "metadata": {},
   "outputs": [],
   "source": [
    "#Change the index for box data sets\n",
    "\n",
    "#fltrd_co_data.set_index('date',inplace=True)"
   ]
  },
  {
   "cell_type": "code",
   "execution_count": 40,
   "metadata": {},
   "outputs": [],
   "source": [
    "#Get Rid of non continious data\n",
    "fltrd_co_data.drop( 'state', inplace=True, axis=1)"
   ]
  },
  {
   "cell_type": "code",
   "execution_count": 47,
   "metadata": {},
   "outputs": [],
   "source": [
    "#Create copy of data for training\n",
    "prophet_train_data = fltrd_co_data.copy()\n",
    "\n",
    "#change the name of columns in preparing for training with prophet model\n",
    "prophet_train_data.rename(columns={'date':'ds', 'metrics.testPositivityRatio':'y'},inplace=True)"
   ]
  },
  {
   "attachments": {},
   "cell_type": "markdown",
   "metadata": {},
   "source": [
    "### B. Train The Model"
   ]
  },
  {
   "attachments": {},
   "cell_type": "markdown",
   "metadata": {},
   "source": [
    "##### Training with prohet"
   ]
  },
  {
   "cell_type": "markdown",
   "metadata": {},
   "source": []
  },
  {
   "cell_type": "code",
   "execution_count": 42,
   "metadata": {},
   "outputs": [],
   "source": [
    "%%capture\n",
    "from prophet import Prophet"
   ]
  },
  {
   "attachments": {},
   "cell_type": "markdown",
   "metadata": {},
   "source": [
    "> Model Instance"
   ]
  },
  {
   "cell_type": "code",
   "execution_count": 894,
   "metadata": {},
   "outputs": [
    {
     "name": "stderr",
     "output_type": "stream",
     "text": [
      "21:23:46 - cmdstanpy - INFO - Chain [1] start processing\n",
      "21:23:48 - cmdstanpy - INFO - Chain [1] done processing\n"
     ]
    },
    {
     "data": {
      "text/plain": [
       "<prophet.forecaster.Prophet at 0x13775c0a0>"
      ]
     },
     "execution_count": 894,
     "metadata": {},
     "output_type": "execute_result"
    }
   ],
   "source": [
    "#Create an insance of prophet model\n",
    "prophet_model = Prophet(changepoint_prior_scale=2, seasonality_prior_scale=1, seasonality_mode='multiplicative', holidays=None)\n",
    "\n",
    "#train the model \n",
    "prophet_model.fit(prophet_train_data)\n"
   ]
  },
  {
   "attachments": {},
   "cell_type": "markdown",
   "metadata": {},
   "source": [
    "> Prediction"
   ]
  },
  {
   "cell_type": "code",
   "execution_count": 895,
   "metadata": {},
   "outputs": [],
   "source": [
    "#define how many days we're predicting for \n",
    "prediction_len = prophet_model.make_future_dataframe(periods=7)\n",
    "\n",
    "#make the prediction\n",
    "prophet_forcast = prophet_model.predict(prediction_len)\n",
    "\n",
    "#select the two columns needed\n",
    "filtered_forcast = prophet_forcast[['ds','yhat']]\n",
    "\n",
    "#select the dates we predicted\n",
    "forcasted_dates = filtered_forcast.iloc[28:, :]\n",
    "\n",
    "#rounding\n",
    "forcasted_dates.iloc[:,1:] = round(forcasted_dates.iloc[:,1:],3)"
   ]
  },
  {
   "attachments": {},
   "cell_type": "markdown",
   "metadata": {},
   "source": [
    "### C. Model Evaluation"
   ]
  },
  {
   "attachments": {},
   "cell_type": "markdown",
   "metadata": {},
   "source": [
    "> create dataset from actual data"
   ]
  },
  {
   "cell_type": "code",
   "execution_count": 888,
   "metadata": {},
   "outputs": [],
   "source": [
    "%%capture\n",
    "#Itinial Data\n",
    "eval_data = state_historical[['date','state','metrics.testPositivityRatio']]\n",
    "\n",
    "#historical data filtered by state to extract colorado data\n",
    "fltrd_eval_data = new_colorado_data[new_colorado_data['state']=='CO']\n",
    "\n",
    "#historical data filtered by date for the required period\n",
    "fltrd_eval_data = fltrd_eval_data[(fltrd_eval_data['date']>='2021-09-27')&(fltrd_eval_data['date']<= '2021-10-03')]\n",
    "\n",
    "#drop state column\n",
    "fltrd_eval_data.drop( 'state', inplace=True, axis=1)\n",
    "\n",
    "#change column name\n",
    "fltrd_eval_data.rename(columns = {'date':'ds','metrics.testPositivityRatio':'true_values'}, inplace =True)\n",
    "\n",
    "\n"
   ]
  },
  {
   "cell_type": "code",
   "execution_count": 896,
   "metadata": {},
   "outputs": [
    {
     "data": {
      "text/html": [
       "<div>\n",
       "<style scoped>\n",
       "    .dataframe tbody tr th:only-of-type {\n",
       "        vertical-align: middle;\n",
       "    }\n",
       "\n",
       "    .dataframe tbody tr th {\n",
       "        vertical-align: top;\n",
       "    }\n",
       "\n",
       "    .dataframe thead th {\n",
       "        text-align: right;\n",
       "    }\n",
       "</style>\n",
       "<table border=\"1\" class=\"dataframe\">\n",
       "  <thead>\n",
       "    <tr style=\"text-align: right;\">\n",
       "      <th></th>\n",
       "      <th>ds</th>\n",
       "      <th>yhat</th>\n",
       "    </tr>\n",
       "  </thead>\n",
       "  <tbody>\n",
       "    <tr>\n",
       "      <th>28</th>\n",
       "      <td>2021-09-27</td>\n",
       "      <td>0.074</td>\n",
       "    </tr>\n",
       "    <tr>\n",
       "      <th>29</th>\n",
       "      <td>2021-09-28</td>\n",
       "      <td>0.074</td>\n",
       "    </tr>\n",
       "    <tr>\n",
       "      <th>30</th>\n",
       "      <td>2021-09-29</td>\n",
       "      <td>0.073</td>\n",
       "    </tr>\n",
       "    <tr>\n",
       "      <th>31</th>\n",
       "      <td>2021-09-30</td>\n",
       "      <td>0.072</td>\n",
       "    </tr>\n",
       "    <tr>\n",
       "      <th>32</th>\n",
       "      <td>2021-10-01</td>\n",
       "      <td>0.071</td>\n",
       "    </tr>\n",
       "    <tr>\n",
       "      <th>33</th>\n",
       "      <td>2021-10-02</td>\n",
       "      <td>0.071</td>\n",
       "    </tr>\n",
       "    <tr>\n",
       "      <th>34</th>\n",
       "      <td>2021-10-03</td>\n",
       "      <td>0.071</td>\n",
       "    </tr>\n",
       "  </tbody>\n",
       "</table>\n",
       "</div>"
      ],
      "text/plain": [
       "           ds   yhat\n",
       "28 2021-09-27  0.074\n",
       "29 2021-09-28  0.074\n",
       "30 2021-09-29  0.073\n",
       "31 2021-09-30  0.072\n",
       "32 2021-10-01  0.071\n",
       "33 2021-10-02  0.071\n",
       "34 2021-10-03  0.071"
      ]
     },
     "execution_count": 896,
     "metadata": {},
     "output_type": "execute_result"
    }
   ],
   "source": [
    "forcasted_dates"
   ]
  },
  {
   "attachments": {},
   "cell_type": "markdown",
   "metadata": {},
   "source": [
    "> #Set index for evaluation data and prediction results"
   ]
  },
  {
   "cell_type": "code",
   "execution_count": 899,
   "metadata": {},
   "outputs": [],
   "source": [
    "#Prediction data \n",
    "forcasted_dates.set_index('ds', inplace=True)\n",
    "\n",
    "#Evaluation data\n",
    "fltrd_eval_data.set_index('ds', inplace=True)\n"
   ]
  },
  {
   "attachments": {},
   "cell_type": "markdown",
   "metadata": {},
   "source": [
    "> Create a data frame containing both predicted values and true values"
   ]
  },
  {
   "cell_type": "code",
   "execution_count": 900,
   "metadata": {},
   "outputs": [],
   "source": [
    "fltrd_eval_data['prediction'] = forcasted_dates['yhat']"
   ]
  },
  {
   "cell_type": "code",
   "execution_count": 901,
   "metadata": {},
   "outputs": [
    {
     "data": {
      "text/html": [
       "<div>\n",
       "<style scoped>\n",
       "    .dataframe tbody tr th:only-of-type {\n",
       "        vertical-align: middle;\n",
       "    }\n",
       "\n",
       "    .dataframe tbody tr th {\n",
       "        vertical-align: top;\n",
       "    }\n",
       "\n",
       "    .dataframe thead th {\n",
       "        text-align: right;\n",
       "    }\n",
       "</style>\n",
       "<table border=\"1\" class=\"dataframe\">\n",
       "  <thead>\n",
       "    <tr style=\"text-align: right;\">\n",
       "      <th></th>\n",
       "      <th>true_values</th>\n",
       "      <th>prediction</th>\n",
       "    </tr>\n",
       "    <tr>\n",
       "      <th>ds</th>\n",
       "      <th></th>\n",
       "      <th></th>\n",
       "    </tr>\n",
       "  </thead>\n",
       "  <tbody>\n",
       "    <tr>\n",
       "      <th>2021-09-27</th>\n",
       "      <td>0.068</td>\n",
       "      <td>0.074</td>\n",
       "    </tr>\n",
       "    <tr>\n",
       "      <th>2021-09-28</th>\n",
       "      <td>0.069</td>\n",
       "      <td>0.074</td>\n",
       "    </tr>\n",
       "    <tr>\n",
       "      <th>2021-09-29</th>\n",
       "      <td>0.072</td>\n",
       "      <td>0.073</td>\n",
       "    </tr>\n",
       "    <tr>\n",
       "      <th>2021-09-30</th>\n",
       "      <td>0.073</td>\n",
       "      <td>0.072</td>\n",
       "    </tr>\n",
       "    <tr>\n",
       "      <th>2021-10-01</th>\n",
       "      <td>0.076</td>\n",
       "      <td>0.071</td>\n",
       "    </tr>\n",
       "    <tr>\n",
       "      <th>2021-10-02</th>\n",
       "      <td>0.076</td>\n",
       "      <td>0.071</td>\n",
       "    </tr>\n",
       "    <tr>\n",
       "      <th>2021-10-03</th>\n",
       "      <td>0.076</td>\n",
       "      <td>0.071</td>\n",
       "    </tr>\n",
       "  </tbody>\n",
       "</table>\n",
       "</div>"
      ],
      "text/plain": [
       "            true_values  prediction\n",
       "ds                                 \n",
       "2021-09-27        0.068       0.074\n",
       "2021-09-28        0.069       0.074\n",
       "2021-09-29        0.072       0.073\n",
       "2021-09-30        0.073       0.072\n",
       "2021-10-01        0.076       0.071\n",
       "2021-10-02        0.076       0.071\n",
       "2021-10-03        0.076       0.071"
      ]
     },
     "execution_count": 901,
     "metadata": {},
     "output_type": "execute_result"
    }
   ],
   "source": [
    "fltrd_eval_data"
   ]
  },
  {
   "attachments": {},
   "cell_type": "markdown",
   "metadata": {},
   "source": [
    "> Mean Asbsolute Error"
   ]
  },
  {
   "cell_type": "code",
   "execution_count": 906,
   "metadata": {},
   "outputs": [],
   "source": [
    "metrics_mae = round(mean_absolute_error(fltrd_eval_data['true_values'], fltrd_eval_data['prediction']),4)\n"
   ]
  },
  {
   "cell_type": "code",
   "execution_count": 907,
   "metadata": {},
   "outputs": [
    {
     "data": {
      "text/plain": [
       "0.004"
      ]
     },
     "execution_count": 907,
     "metadata": {},
     "output_type": "execute_result"
    }
   ],
   "source": [
    "metrics_mae"
   ]
  },
  {
   "attachments": {},
   "cell_type": "markdown",
   "metadata": {},
   "source": [
    "> Mean Squared Error"
   ]
  },
  {
   "cell_type": "code",
   "execution_count": 910,
   "metadata": {},
   "outputs": [],
   "source": [
    "metrics_rmse = round(np.sqrt(mean_squared_error(fltrd_eval_data['true_values'], fltrd_eval_data['prediction'])),4)"
   ]
  },
  {
   "cell_type": "code",
   "execution_count": 911,
   "metadata": {},
   "outputs": [
    {
     "data": {
      "text/plain": [
       "0.0044"
      ]
     },
     "execution_count": 911,
     "metadata": {},
     "output_type": "execute_result"
    }
   ],
   "source": [
    "metrics_rmse"
   ]
  },
  {
   "cell_type": "code",
   "execution_count": 912,
   "metadata": {},
   "outputs": [
    {
     "data": {
      "text/plain": [
       "2.0"
      ]
     },
     "execution_count": 912,
     "metadata": {},
     "output_type": "execute_result"
    }
   ],
   "source": [
    "prophet_model.changepoint_prior_scale"
   ]
  },
  {
   "cell_type": "code",
   "execution_count": 913,
   "metadata": {},
   "outputs": [
    {
     "data": {
      "text/html": [
       "<div>\n",
       "<style scoped>\n",
       "    .dataframe tbody tr th:only-of-type {\n",
       "        vertical-align: middle;\n",
       "    }\n",
       "\n",
       "    .dataframe tbody tr th {\n",
       "        vertical-align: top;\n",
       "    }\n",
       "\n",
       "    .dataframe thead th {\n",
       "        text-align: right;\n",
       "    }\n",
       "</style>\n",
       "<table border=\"1\" class=\"dataframe\">\n",
       "  <thead>\n",
       "    <tr style=\"text-align: right;\">\n",
       "      <th></th>\n",
       "      <th>true_values</th>\n",
       "      <th>prediction</th>\n",
       "    </tr>\n",
       "    <tr>\n",
       "      <th>ds</th>\n",
       "      <th></th>\n",
       "      <th></th>\n",
       "    </tr>\n",
       "  </thead>\n",
       "  <tbody>\n",
       "    <tr>\n",
       "      <th>2021-09-27</th>\n",
       "      <td>0.068</td>\n",
       "      <td>0.074</td>\n",
       "    </tr>\n",
       "    <tr>\n",
       "      <th>2021-09-28</th>\n",
       "      <td>0.069</td>\n",
       "      <td>0.074</td>\n",
       "    </tr>\n",
       "    <tr>\n",
       "      <th>2021-09-29</th>\n",
       "      <td>0.072</td>\n",
       "      <td>0.073</td>\n",
       "    </tr>\n",
       "    <tr>\n",
       "      <th>2021-09-30</th>\n",
       "      <td>0.073</td>\n",
       "      <td>0.072</td>\n",
       "    </tr>\n",
       "    <tr>\n",
       "      <th>2021-10-01</th>\n",
       "      <td>0.076</td>\n",
       "      <td>0.071</td>\n",
       "    </tr>\n",
       "    <tr>\n",
       "      <th>2021-10-02</th>\n",
       "      <td>0.076</td>\n",
       "      <td>0.071</td>\n",
       "    </tr>\n",
       "    <tr>\n",
       "      <th>2021-10-03</th>\n",
       "      <td>0.076</td>\n",
       "      <td>0.071</td>\n",
       "    </tr>\n",
       "  </tbody>\n",
       "</table>\n",
       "</div>"
      ],
      "text/plain": [
       "            true_values  prediction\n",
       "ds                                 \n",
       "2021-09-27        0.068       0.074\n",
       "2021-09-28        0.069       0.074\n",
       "2021-09-29        0.072       0.073\n",
       "2021-09-30        0.073       0.072\n",
       "2021-10-01        0.076       0.071\n",
       "2021-10-02        0.076       0.071\n",
       "2021-10-03        0.076       0.071"
      ]
     },
     "execution_count": 913,
     "metadata": {},
     "output_type": "execute_result"
    }
   ],
   "source": [
    "fltrd_eval_data"
   ]
  },
  {
   "cell_type": "code",
   "execution_count": 1235,
   "metadata": {},
   "outputs": [],
   "source": [
    "#result to excel\n",
    "fltrd_eval_data.to_csv('Q3.csv')"
   ]
  },
  {
   "attachments": {},
   "cell_type": "markdown",
   "metadata": {},
   "source": [
    "### D. Visualization of Result"
   ]
  },
  {
   "cell_type": "code",
   "execution_count": 914,
   "metadata": {},
   "outputs": [
    {
     "data": {
      "image/png": "[encoded data removed]",
      "text/plain": [
       "<Figure size 1200x600 with 1 Axes>"
      ]
     },
     "metadata": {},
     "output_type": "display_data"
    }
   ],
   "source": [
    "plt.figure(figsize=(12,6))\n",
    "\n",
    "plt.plot(fltrd_eval_data['prediction'], label='Predicted')\n",
    "plt.plot(fltrd_eval_data['true_values'], color='red', label='Actual')\n",
    "plt.legend()\n",
    "plt.show()"
   ]
  },
  {
   "attachments": {},
   "cell_type": "markdown",
   "metadata": {},
   "source": [
    "### E. Model Optimization"
   ]
  },
  {
   "attachments": {},
   "cell_type": "markdown",
   "metadata": {},
   "source": [
    "> Finding optimal parameters"
   ]
  },
  {
   "cell_type": "code",
   "execution_count": 229,
   "metadata": {},
   "outputs": [],
   "source": [
    "#Experiment data\n",
    "test_dx = fltrd_eval_data['true_values']\n",
    "train_d = prophet_train_data"
   ]
  },
  {
   "cell_type": "code",
   "execution_count": 259,
   "metadata": {},
   "outputs": [],
   "source": [
    "#Change point prior scale\n",
    "\n",
    "def optimal_prophet_params(cpps,snps):\n",
    "    \n",
    "    exp_model = Prophet(changepoint_prior_scale=cpps, seasonality_prior_scale=snps)            #set params\n",
    "    exp_model_fit = exp_model.fit(train_d)                       #fit the data\n",
    "\n",
    "    exp_days = exp_model.make_future_dataframe(periods=7)        #set number of day predicting for \n",
    "    exp_forecast = exp_model_fit.predict(exp_days)               #make the forecast\n",
    "\n",
    "    pred_d = exp_forecast['yhat'].tail(7)                        #selected predicted data\n",
    "\n",
    "    rmse = np.sqrt(mean_squared_error(pred_d,test_dx))           #caluclate the mse\n",
    "\n",
    "    return rmse                                                  #Return rMSE value"
   ]
  },
  {
   "cell_type": "code",
   "execution_count": 915,
   "metadata": {},
   "outputs": [
    {
     "name": "stderr",
     "output_type": "stream",
     "text": [
      "15:26:48 - cmdstanpy - INFO - Chain [1] start processing\n",
      "15:26:48 - cmdstanpy - INFO - Chain [1] done processing\n",
      "15:26:49 - cmdstanpy - INFO - Chain [1] start processing\n",
      "15:26:49 - cmdstanpy - INFO - Chain [1] done processing\n",
      "15:26:49 - cmdstanpy - INFO - Chain [1] start processing\n",
      "15:26:49 - cmdstanpy - INFO - Chain [1] done processing\n",
      "15:26:49 - cmdstanpy - INFO - Chain [1] start processing\n",
      "15:26:50 - cmdstanpy - INFO - Chain [1] done processing\n",
      "15:26:50 - cmdstanpy - INFO - Chain [1] start processing\n",
      "15:26:50 - cmdstanpy - INFO - Chain [1] done processing\n",
      "15:26:50 - cmdstanpy - INFO - Chain [1] start processing\n",
      "15:26:50 - cmdstanpy - INFO - Chain [1] done processing\n",
      "15:26:50 - cmdstanpy - INFO - Chain [1] start processing\n",
      "15:26:50 - cmdstanpy - INFO - Chain [1] done processing\n",
      "15:26:50 - cmdstanpy - INFO - Chain [1] start processing\n",
      "15:26:51 - cmdstanpy - INFO - Chain [1] done processing\n",
      "15:26:51 - cmdstanpy - INFO - Chain [1] start processing\n",
      "15:26:51 - cmdstanpy - INFO - Chain [1] done processing\n",
      "15:26:51 - cmdstanpy - INFO - Chain [1] start processing\n",
      "15:26:51 - cmdstanpy - INFO - Chain [1] done processing\n",
      "15:26:51 - cmdstanpy - INFO - Chain [1] start processing\n",
      "15:26:51 - cmdstanpy - INFO - Chain [1] done processing\n",
      "15:26:51 - cmdstanpy - INFO - Chain [1] start processing\n",
      "15:26:51 - cmdstanpy - INFO - Chain [1] done processing\n",
      "15:26:52 - cmdstanpy - INFO - Chain [1] start processing\n",
      "15:26:52 - cmdstanpy - INFO - Chain [1] done processing\n",
      "15:26:52 - cmdstanpy - INFO - Chain [1] start processing\n",
      "15:26:52 - cmdstanpy - INFO - Chain [1] done processing\n",
      "15:26:52 - cmdstanpy - INFO - Chain [1] start processing\n",
      "15:26:52 - cmdstanpy - INFO - Chain [1] done processing\n",
      "15:26:52 - cmdstanpy - INFO - Chain [1] start processing\n",
      "15:26:52 - cmdstanpy - INFO - Chain [1] done processing\n",
      "15:26:53 - cmdstanpy - INFO - Chain [1] start processing\n",
      "15:26:53 - cmdstanpy - INFO - Chain [1] done processing\n",
      "15:26:53 - cmdstanpy - INFO - Chain [1] start processing\n",
      "15:26:53 - cmdstanpy - INFO - Chain [1] done processing\n",
      "15:26:53 - cmdstanpy - INFO - Chain [1] start processing\n",
      "15:26:53 - cmdstanpy - INFO - Chain [1] done processing\n",
      "15:26:53 - cmdstanpy - INFO - Chain [1] start processing\n",
      "15:26:54 - cmdstanpy - INFO - Chain [1] done processing\n",
      "15:26:54 - cmdstanpy - INFO - Chain [1] start processing\n",
      "15:26:54 - cmdstanpy - INFO - Chain [1] done processing\n",
      "15:26:54 - cmdstanpy - INFO - Chain [1] start processing\n",
      "15:26:54 - cmdstanpy - INFO - Chain [1] done processing\n",
      "15:26:54 - cmdstanpy - INFO - Chain [1] start processing\n",
      "15:26:55 - cmdstanpy - INFO - Chain [1] done processing\n",
      "15:26:55 - cmdstanpy - INFO - Chain [1] start processing\n",
      "15:26:55 - cmdstanpy - INFO - Chain [1] done processing\n",
      "15:26:55 - cmdstanpy - INFO - Chain [1] start processing\n",
      "15:26:55 - cmdstanpy - INFO - Chain [1] done processing\n",
      "15:26:55 - cmdstanpy - INFO - Chain [1] start processing\n",
      "15:26:56 - cmdstanpy - INFO - Chain [1] done processing\n",
      "15:26:56 - cmdstanpy - INFO - Chain [1] start processing\n",
      "15:26:56 - cmdstanpy - INFO - Chain [1] done processing\n",
      "15:26:56 - cmdstanpy - INFO - Chain [1] start processing\n",
      "15:26:56 - cmdstanpy - INFO - Chain [1] done processing\n",
      "15:26:56 - cmdstanpy - INFO - Chain [1] start processing\n",
      "15:26:56 - cmdstanpy - INFO - Chain [1] done processing\n",
      "15:26:56 - cmdstanpy - INFO - Chain [1] start processing\n",
      "15:26:56 - cmdstanpy - INFO - Chain [1] done processing\n",
      "15:26:57 - cmdstanpy - INFO - Chain [1] start processing\n",
      "15:26:57 - cmdstanpy - INFO - Chain [1] done processing\n",
      "15:26:57 - cmdstanpy - INFO - Chain [1] start processing\n",
      "15:26:57 - cmdstanpy - INFO - Chain [1] done processing\n",
      "15:26:57 - cmdstanpy - INFO - Chain [1] start processing\n",
      "15:26:57 - cmdstanpy - INFO - Chain [1] done processing\n",
      "15:26:57 - cmdstanpy - INFO - Chain [1] start processing\n",
      "15:26:57 - cmdstanpy - INFO - Chain [1] done processing\n",
      "15:26:58 - cmdstanpy - INFO - Chain [1] start processing\n",
      "15:26:58 - cmdstanpy - INFO - Chain [1] done processing\n",
      "15:26:58 - cmdstanpy - INFO - Chain [1] start processing\n",
      "15:26:58 - cmdstanpy - INFO - Chain [1] done processing\n",
      "15:26:58 - cmdstanpy - INFO - Chain [1] start processing\n",
      "15:26:58 - cmdstanpy - INFO - Chain [1] done processing\n",
      "15:26:58 - cmdstanpy - INFO - Chain [1] start processing\n",
      "15:26:58 - cmdstanpy - INFO - Chain [1] done processing\n",
      "15:26:59 - cmdstanpy - INFO - Chain [1] start processing\n",
      "15:26:59 - cmdstanpy - INFO - Chain [1] done processing\n",
      "15:26:59 - cmdstanpy - INFO - Chain [1] start processing\n",
      "15:26:59 - cmdstanpy - INFO - Chain [1] done processing\n",
      "15:26:59 - cmdstanpy - INFO - Chain [1] start processing\n",
      "15:26:59 - cmdstanpy - INFO - Chain [1] done processing\n",
      "15:26:59 - cmdstanpy - INFO - Chain [1] start processing\n",
      "15:26:59 - cmdstanpy - INFO - Chain [1] done processing\n",
      "15:27:00 - cmdstanpy - INFO - Chain [1] start processing\n",
      "15:27:00 - cmdstanpy - INFO - Chain [1] done processing\n",
      "15:27:00 - cmdstanpy - INFO - Chain [1] start processing\n",
      "15:27:00 - cmdstanpy - INFO - Chain [1] done processing\n",
      "15:27:00 - cmdstanpy - INFO - Chain [1] start processing\n",
      "15:27:00 - cmdstanpy - INFO - Chain [1] done processing\n",
      "15:27:00 - cmdstanpy - INFO - Chain [1] start processing\n",
      "15:27:00 - cmdstanpy - INFO - Chain [1] done processing\n",
      "15:27:00 - cmdstanpy - INFO - Chain [1] start processing\n",
      "15:27:01 - cmdstanpy - INFO - Chain [1] done processing\n",
      "15:27:01 - cmdstanpy - INFO - Chain [1] start processing\n",
      "15:27:01 - cmdstanpy - INFO - Chain [1] done processing\n",
      "15:27:01 - cmdstanpy - INFO - Chain [1] start processing\n",
      "15:27:01 - cmdstanpy - INFO - Chain [1] done processing\n",
      "15:27:01 - cmdstanpy - INFO - Chain [1] start processing\n",
      "15:27:01 - cmdstanpy - INFO - Chain [1] done processing\n",
      "15:27:01 - cmdstanpy - INFO - Chain [1] start processing\n",
      "15:27:02 - cmdstanpy - INFO - Chain [1] done processing\n",
      "15:27:02 - cmdstanpy - INFO - Chain [1] start processing\n",
      "15:27:02 - cmdstanpy - INFO - Chain [1] done processing\n",
      "15:27:02 - cmdstanpy - INFO - Chain [1] start processing\n",
      "15:27:02 - cmdstanpy - INFO - Chain [1] done processing\n",
      "15:27:02 - cmdstanpy - INFO - Chain [1] start processing\n",
      "15:27:02 - cmdstanpy - INFO - Chain [1] done processing\n",
      "15:27:03 - cmdstanpy - INFO - Chain [1] start processing\n",
      "15:27:03 - cmdstanpy - INFO - Chain [1] done processing\n",
      "15:27:03 - cmdstanpy - INFO - Chain [1] start processing\n",
      "15:27:03 - cmdstanpy - INFO - Chain [1] done processing\n",
      "15:27:03 - cmdstanpy - INFO - Chain [1] start processing\n",
      "15:27:05 - cmdstanpy - INFO - Chain [1] done processing\n",
      "15:27:06 - cmdstanpy - INFO - Chain [1] start processing\n",
      "15:27:07 - cmdstanpy - INFO - Chain [1] done processing\n",
      "15:27:07 - cmdstanpy - INFO - Chain [1] start processing\n",
      "15:27:09 - cmdstanpy - INFO - Chain [1] done processing\n",
      "15:27:09 - cmdstanpy - INFO - Chain [1] start processing\n",
      "15:27:11 - cmdstanpy - INFO - Chain [1] done processing\n",
      "15:27:11 - cmdstanpy - INFO - Chain [1] start processing\n",
      "15:27:12 - cmdstanpy - INFO - Chain [1] done processing\n",
      "15:27:13 - cmdstanpy - INFO - Chain [1] start processing\n",
      "15:27:14 - cmdstanpy - INFO - Chain [1] done processing\n",
      "15:27:14 - cmdstanpy - INFO - Chain [1] start processing\n",
      "15:27:15 - cmdstanpy - INFO - Chain [1] done processing\n",
      "15:27:15 - cmdstanpy - INFO - Chain [1] start processing\n",
      "15:27:18 - cmdstanpy - INFO - Chain [1] done processing\n",
      "15:27:18 - cmdstanpy - INFO - Chain [1] start processing\n",
      "15:27:19 - cmdstanpy - INFO - Chain [1] done processing\n",
      "15:27:19 - cmdstanpy - INFO - Chain [1] start processing\n",
      "15:27:20 - cmdstanpy - INFO - Chain [1] done processing\n",
      "15:27:20 - cmdstanpy - INFO - Chain [1] start processing\n",
      "15:27:21 - cmdstanpy - INFO - Chain [1] done processing\n",
      "15:27:22 - cmdstanpy - INFO - Chain [1] start processing\n",
      "15:27:22 - cmdstanpy - INFO - Chain [1] done processing\n",
      "15:27:22 - cmdstanpy - INFO - Chain [1] start processing\n",
      "15:27:23 - cmdstanpy - INFO - Chain [1] done processing\n",
      "15:27:23 - cmdstanpy - INFO - Chain [1] start processing\n",
      "15:27:24 - cmdstanpy - INFO - Chain [1] done processing\n",
      "15:27:24 - cmdstanpy - INFO - Chain [1] start processing\n",
      "15:27:26 - cmdstanpy - INFO - Chain [1] done processing\n",
      "15:27:26 - cmdstanpy - INFO - Chain [1] start processing\n",
      "15:27:28 - cmdstanpy - INFO - Chain [1] done processing\n",
      "15:27:28 - cmdstanpy - INFO - Chain [1] start processing\n",
      "15:27:30 - cmdstanpy - INFO - Chain [1] done processing\n",
      "15:27:30 - cmdstanpy - INFO - Chain [1] start processing\n",
      "15:27:32 - cmdstanpy - INFO - Chain [1] done processing\n",
      "15:27:32 - cmdstanpy - INFO - Chain [1] start processing\n",
      "15:27:33 - cmdstanpy - INFO - Chain [1] done processing\n",
      "15:27:33 - cmdstanpy - INFO - Chain [1] start processing\n",
      "15:27:34 - cmdstanpy - INFO - Chain [1] done processing\n",
      "15:27:34 - cmdstanpy - INFO - Chain [1] start processing\n",
      "15:27:36 - cmdstanpy - INFO - Chain [1] done processing\n",
      "15:27:36 - cmdstanpy - INFO - Chain [1] start processing\n",
      "15:27:38 - cmdstanpy - INFO - Chain [1] done processing\n",
      "15:27:38 - cmdstanpy - INFO - Chain [1] start processing\n",
      "15:27:39 - cmdstanpy - INFO - Chain [1] done processing\n",
      "15:27:39 - cmdstanpy - INFO - Chain [1] start processing\n",
      "15:27:41 - cmdstanpy - INFO - Chain [1] done processing\n",
      "15:27:41 - cmdstanpy - INFO - Chain [1] start processing\n",
      "15:27:43 - cmdstanpy - INFO - Chain [1] done processing\n",
      "15:27:43 - cmdstanpy - INFO - Chain [1] start processing\n",
      "15:27:44 - cmdstanpy - INFO - Chain [1] done processing\n",
      "15:27:44 - cmdstanpy - INFO - Chain [1] start processing\n",
      "15:27:46 - cmdstanpy - INFO - Chain [1] done processing\n",
      "15:27:46 - cmdstanpy - INFO - Chain [1] start processing\n",
      "15:27:47 - cmdstanpy - INFO - Chain [1] done processing\n",
      "15:27:47 - cmdstanpy - INFO - Chain [1] start processing\n",
      "15:27:49 - cmdstanpy - INFO - Chain [1] done processing\n",
      "15:27:49 - cmdstanpy - INFO - Chain [1] start processing\n",
      "15:27:52 - cmdstanpy - INFO - Chain [1] done processing\n",
      "15:27:52 - cmdstanpy - INFO - Chain [1] start processing\n",
      "15:27:54 - cmdstanpy - INFO - Chain [1] done processing\n",
      "15:27:54 - cmdstanpy - INFO - Chain [1] start processing\n",
      "15:27:55 - cmdstanpy - INFO - Chain [1] done processing\n",
      "15:27:55 - cmdstanpy - INFO - Chain [1] start processing\n",
      "15:27:57 - cmdstanpy - INFO - Chain [1] done processing\n",
      "15:27:57 - cmdstanpy - INFO - Chain [1] start processing\n",
      "15:27:57 - cmdstanpy - INFO - Chain [1] done processing\n",
      "15:27:57 - cmdstanpy - INFO - Chain [1] start processing\n",
      "15:27:58 - cmdstanpy - INFO - Chain [1] done processing\n",
      "15:27:58 - cmdstanpy - INFO - Chain [1] start processing\n",
      "15:27:59 - cmdstanpy - INFO - Chain [1] done processing\n",
      "15:27:59 - cmdstanpy - INFO - Chain [1] start processing\n",
      "15:28:02 - cmdstanpy - INFO - Chain [1] done processing\n",
      "15:28:02 - cmdstanpy - INFO - Chain [1] start processing\n",
      "15:28:04 - cmdstanpy - INFO - Chain [1] done processing\n",
      "15:28:04 - cmdstanpy - INFO - Chain [1] start processing\n",
      "15:28:06 - cmdstanpy - INFO - Chain [1] done processing\n",
      "15:28:06 - cmdstanpy - INFO - Chain [1] start processing\n",
      "15:28:07 - cmdstanpy - INFO - Chain [1] done processing\n",
      "15:28:07 - cmdstanpy - INFO - Chain [1] start processing\n",
      "15:28:10 - cmdstanpy - INFO - Chain [1] done processing\n",
      "15:28:10 - cmdstanpy - INFO - Chain [1] start processing\n",
      "15:28:11 - cmdstanpy - INFO - Chain [1] done processing\n",
      "15:28:11 - cmdstanpy - INFO - Chain [1] start processing\n",
      "15:28:13 - cmdstanpy - INFO - Chain [1] done processing\n",
      "15:28:13 - cmdstanpy - INFO - Chain [1] start processing\n",
      "15:28:15 - cmdstanpy - INFO - Chain [1] done processing\n",
      "15:28:15 - cmdstanpy - INFO - Chain [1] start processing\n",
      "15:28:17 - cmdstanpy - INFO - Chain [1] done processing\n",
      "15:28:17 - cmdstanpy - INFO - Chain [1] start processing\n",
      "15:28:19 - cmdstanpy - INFO - Chain [1] done processing\n",
      "15:28:19 - cmdstanpy - INFO - Chain [1] start processing\n",
      "15:28:21 - cmdstanpy - INFO - Chain [1] done processing\n",
      "15:28:21 - cmdstanpy - INFO - Chain [1] start processing\n",
      "15:28:22 - cmdstanpy - INFO - Chain [1] done processing\n",
      "15:28:22 - cmdstanpy - INFO - Chain [1] start processing\n",
      "15:28:24 - cmdstanpy - INFO - Chain [1] done processing\n",
      "15:28:24 - cmdstanpy - INFO - Chain [1] start processing\n",
      "15:28:26 - cmdstanpy - INFO - Chain [1] done processing\n",
      "15:28:26 - cmdstanpy - INFO - Chain [1] start processing\n",
      "15:28:27 - cmdstanpy - INFO - Chain [1] done processing\n",
      "15:28:27 - cmdstanpy - INFO - Chain [1] start processing\n",
      "15:28:29 - cmdstanpy - INFO - Chain [1] done processing\n",
      "15:28:29 - cmdstanpy - INFO - Chain [1] start processing\n",
      "15:28:31 - cmdstanpy - INFO - Chain [1] done processing\n",
      "15:28:32 - cmdstanpy - INFO - Chain [1] start processing\n",
      "15:28:33 - cmdstanpy - INFO - Chain [1] done processing\n",
      "15:28:33 - cmdstanpy - INFO - Chain [1] start processing\n",
      "15:28:34 - cmdstanpy - INFO - Chain [1] done processing\n",
      "15:28:34 - cmdstanpy - INFO - Chain [1] start processing\n",
      "15:28:35 - cmdstanpy - INFO - Chain [1] done processing\n",
      "15:28:35 - cmdstanpy - INFO - Chain [1] start processing\n",
      "15:28:38 - cmdstanpy - INFO - Chain [1] done processing\n",
      "15:28:38 - cmdstanpy - INFO - Chain [1] start processing\n",
      "15:28:39 - cmdstanpy - INFO - Chain [1] done processing\n",
      "15:28:39 - cmdstanpy - INFO - Chain [1] start processing\n",
      "15:28:41 - cmdstanpy - INFO - Chain [1] done processing\n",
      "15:28:41 - cmdstanpy - INFO - Chain [1] start processing\n",
      "15:28:42 - cmdstanpy - INFO - Chain [1] done processing\n",
      "15:28:42 - cmdstanpy - INFO - Chain [1] start processing\n",
      "15:28:43 - cmdstanpy - INFO - Chain [1] done processing\n",
      "15:28:43 - cmdstanpy - INFO - Chain [1] start processing\n",
      "15:28:46 - cmdstanpy - INFO - Chain [1] done processing\n",
      "15:28:46 - cmdstanpy - INFO - Chain [1] start processing\n",
      "15:28:49 - cmdstanpy - INFO - Chain [1] done processing\n",
      "15:28:49 - cmdstanpy - INFO - Chain [1] start processing\n",
      "15:28:51 - cmdstanpy - INFO - Chain [1] done processing\n",
      "15:28:51 - cmdstanpy - INFO - Chain [1] start processing\n",
      "15:28:52 - cmdstanpy - INFO - Chain [1] done processing\n",
      "15:28:52 - cmdstanpy - INFO - Chain [1] start processing\n",
      "15:28:53 - cmdstanpy - INFO - Chain [1] done processing\n",
      "15:28:54 - cmdstanpy - INFO - Chain [1] start processing\n",
      "15:28:55 - cmdstanpy - INFO - Chain [1] done processing\n",
      "15:28:55 - cmdstanpy - INFO - Chain [1] start processing\n",
      "15:28:56 - cmdstanpy - INFO - Chain [1] done processing\n",
      "15:28:56 - cmdstanpy - INFO - Chain [1] start processing\n",
      "15:28:58 - cmdstanpy - INFO - Chain [1] done processing\n",
      "15:28:58 - cmdstanpy - INFO - Chain [1] start processing\n",
      "15:28:59 - cmdstanpy - INFO - Chain [1] done processing\n",
      "15:28:59 - cmdstanpy - INFO - Chain [1] start processing\n",
      "15:28:59 - cmdstanpy - INFO - Chain [1] done processing\n",
      "15:29:00 - cmdstanpy - INFO - Chain [1] start processing\n",
      "15:29:00 - cmdstanpy - INFO - Chain [1] done processing\n",
      "15:29:00 - cmdstanpy - INFO - Chain [1] start processing\n",
      "15:29:01 - cmdstanpy - INFO - Chain [1] done processing\n",
      "15:29:01 - cmdstanpy - INFO - Chain [1] start processing\n",
      "15:29:03 - cmdstanpy - INFO - Chain [1] done processing\n",
      "15:29:03 - cmdstanpy - INFO - Chain [1] start processing\n",
      "15:29:04 - cmdstanpy - INFO - Chain [1] done processing\n",
      "15:29:04 - cmdstanpy - INFO - Chain [1] start processing\n",
      "15:29:06 - cmdstanpy - INFO - Chain [1] done processing\n",
      "15:29:06 - cmdstanpy - INFO - Chain [1] start processing\n",
      "15:29:09 - cmdstanpy - INFO - Chain [1] done processing\n",
      "15:29:09 - cmdstanpy - INFO - Chain [1] start processing\n",
      "15:29:13 - cmdstanpy - INFO - Chain [1] done processing\n",
      "15:29:13 - cmdstanpy - INFO - Chain [1] start processing\n",
      "15:29:14 - cmdstanpy - INFO - Chain [1] done processing\n",
      "15:29:14 - cmdstanpy - INFO - Chain [1] start processing\n",
      "15:29:16 - cmdstanpy - INFO - Chain [1] done processing\n",
      "15:29:16 - cmdstanpy - INFO - Chain [1] start processing\n",
      "15:29:17 - cmdstanpy - INFO - Chain [1] done processing\n",
      "15:29:17 - cmdstanpy - INFO - Chain [1] start processing\n",
      "15:29:17 - cmdstanpy - INFO - Chain [1] done processing\n",
      "15:29:17 - cmdstanpy - INFO - Chain [1] start processing\n",
      "15:29:21 - cmdstanpy - INFO - Chain [1] done processing\n",
      "15:29:21 - cmdstanpy - INFO - Chain [1] start processing\n",
      "15:29:22 - cmdstanpy - INFO - Chain [1] done processing\n",
      "15:29:22 - cmdstanpy - INFO - Chain [1] start processing\n",
      "15:29:24 - cmdstanpy - INFO - Chain [1] done processing\n",
      "15:29:24 - cmdstanpy - INFO - Chain [1] start processing\n",
      "15:29:25 - cmdstanpy - INFO - Chain [1] done processing\n",
      "15:29:25 - cmdstanpy - INFO - Chain [1] start processing\n",
      "15:29:26 - cmdstanpy - INFO - Chain [1] done processing\n",
      "15:29:26 - cmdstanpy - INFO - Chain [1] start processing\n",
      "15:29:27 - cmdstanpy - INFO - Chain [1] done processing\n",
      "15:29:27 - cmdstanpy - INFO - Chain [1] start processing\n",
      "15:29:29 - cmdstanpy - INFO - Chain [1] done processing\n",
      "15:29:29 - cmdstanpy - INFO - Chain [1] start processing\n",
      "15:29:30 - cmdstanpy - INFO - Chain [1] done processing\n",
      "15:29:30 - cmdstanpy - INFO - Chain [1] start processing\n",
      "15:29:31 - cmdstanpy - INFO - Chain [1] done processing\n",
      "15:29:31 - cmdstanpy - INFO - Chain [1] start processing\n",
      "15:29:33 - cmdstanpy - INFO - Chain [1] done processing\n",
      "15:29:33 - cmdstanpy - INFO - Chain [1] start processing\n",
      "15:29:34 - cmdstanpy - INFO - Chain [1] done processing\n",
      "15:29:34 - cmdstanpy - INFO - Chain [1] start processing\n",
      "15:29:35 - cmdstanpy - INFO - Chain [1] done processing\n",
      "15:29:35 - cmdstanpy - INFO - Chain [1] start processing\n",
      "15:29:36 - cmdstanpy - INFO - Chain [1] done processing\n",
      "15:29:36 - cmdstanpy - INFO - Chain [1] start processing\n",
      "15:29:39 - cmdstanpy - INFO - Chain [1] done processing\n",
      "15:29:40 - cmdstanpy - INFO - Chain [1] start processing\n",
      "15:29:41 - cmdstanpy - INFO - Chain [1] done processing\n",
      "15:29:41 - cmdstanpy - INFO - Chain [1] start processing\n",
      "15:29:43 - cmdstanpy - INFO - Chain [1] done processing\n",
      "15:29:43 - cmdstanpy - INFO - Chain [1] start processing\n",
      "15:29:44 - cmdstanpy - INFO - Chain [1] done processing\n",
      "15:29:44 - cmdstanpy - INFO - Chain [1] start processing\n",
      "15:29:46 - cmdstanpy - INFO - Chain [1] done processing\n",
      "15:29:46 - cmdstanpy - INFO - Chain [1] start processing\n",
      "15:29:47 - cmdstanpy - INFO - Chain [1] done processing\n",
      "15:29:47 - cmdstanpy - INFO - Chain [1] start processing\n",
      "15:29:48 - cmdstanpy - INFO - Chain [1] done processing\n",
      "15:29:49 - cmdstanpy - INFO - Chain [1] start processing\n",
      "15:29:51 - cmdstanpy - INFO - Chain [1] done processing\n",
      "15:29:51 - cmdstanpy - INFO - Chain [1] start processing\n",
      "15:29:53 - cmdstanpy - INFO - Chain [1] done processing\n",
      "15:29:54 - cmdstanpy - INFO - Chain [1] start processing\n",
      "15:29:55 - cmdstanpy - INFO - Chain [1] done processing\n",
      "15:29:55 - cmdstanpy - INFO - Chain [1] start processing\n",
      "15:29:57 - cmdstanpy - INFO - Chain [1] done processing\n",
      "15:29:57 - cmdstanpy - INFO - Chain [1] start processing\n",
      "15:29:59 - cmdstanpy - INFO - Chain [1] done processing\n",
      "15:29:59 - cmdstanpy - INFO - Chain [1] start processing\n",
      "15:30:00 - cmdstanpy - INFO - Chain [1] done processing\n",
      "15:30:00 - cmdstanpy - INFO - Chain [1] start processing\n",
      "15:30:04 - cmdstanpy - INFO - Chain [1] done processing\n",
      "15:30:04 - cmdstanpy - INFO - Chain [1] start processing\n",
      "15:30:05 - cmdstanpy - INFO - Chain [1] done processing\n",
      "15:30:06 - cmdstanpy - INFO - Chain [1] start processing\n",
      "15:30:06 - cmdstanpy - INFO - Chain [1] done processing\n",
      "15:30:06 - cmdstanpy - INFO - Chain [1] start processing\n",
      "15:30:07 - cmdstanpy - INFO - Chain [1] done processing\n",
      "15:30:07 - cmdstanpy - INFO - Chain [1] start processing\n",
      "15:30:08 - cmdstanpy - INFO - Chain [1] done processing\n",
      "15:30:08 - cmdstanpy - INFO - Chain [1] start processing\n",
      "15:30:11 - cmdstanpy - INFO - Chain [1] done processing\n",
      "15:30:11 - cmdstanpy - INFO - Chain [1] start processing\n",
      "15:30:12 - cmdstanpy - INFO - Chain [1] done processing\n",
      "15:30:12 - cmdstanpy - INFO - Chain [1] start processing\n",
      "15:30:15 - cmdstanpy - INFO - Chain [1] done processing\n",
      "15:30:15 - cmdstanpy - INFO - Chain [1] start processing\n",
      "15:30:16 - cmdstanpy - INFO - Chain [1] done processing\n",
      "15:30:16 - cmdstanpy - INFO - Chain [1] start processing\n",
      "15:30:17 - cmdstanpy - INFO - Chain [1] done processing\n",
      "15:30:17 - cmdstanpy - INFO - Chain [1] start processing\n",
      "15:30:20 - cmdstanpy - INFO - Chain [1] done processing\n",
      "15:30:21 - cmdstanpy - INFO - Chain [1] start processing\n",
      "15:30:22 - cmdstanpy - INFO - Chain [1] done processing\n",
      "15:30:22 - cmdstanpy - INFO - Chain [1] start processing\n",
      "15:30:23 - cmdstanpy - INFO - Chain [1] done processing\n",
      "15:30:23 - cmdstanpy - INFO - Chain [1] start processing\n",
      "15:30:24 - cmdstanpy - INFO - Chain [1] done processing\n",
      "15:30:24 - cmdstanpy - INFO - Chain [1] start processing\n",
      "15:30:26 - cmdstanpy - INFO - Chain [1] done processing\n",
      "15:30:26 - cmdstanpy - INFO - Chain [1] start processing\n",
      "15:30:27 - cmdstanpy - INFO - Chain [1] done processing\n",
      "15:30:27 - cmdstanpy - INFO - Chain [1] start processing\n",
      "15:30:29 - cmdstanpy - INFO - Chain [1] done processing\n",
      "15:30:29 - cmdstanpy - INFO - Chain [1] start processing\n",
      "15:30:30 - cmdstanpy - INFO - Chain [1] done processing\n",
      "15:30:30 - cmdstanpy - INFO - Chain [1] start processing\n",
      "15:30:31 - cmdstanpy - INFO - Chain [1] done processing\n",
      "15:30:31 - cmdstanpy - INFO - Chain [1] start processing\n",
      "15:30:32 - cmdstanpy - INFO - Chain [1] done processing\n",
      "15:30:32 - cmdstanpy - INFO - Chain [1] start processing\n",
      "15:30:33 - cmdstanpy - INFO - Chain [1] done processing\n",
      "15:30:33 - cmdstanpy - INFO - Chain [1] start processing\n",
      "15:30:34 - cmdstanpy - INFO - Chain [1] done processing\n",
      "15:30:34 - cmdstanpy - INFO - Chain [1] start processing\n",
      "15:30:36 - cmdstanpy - INFO - Chain [1] done processing\n",
      "15:30:36 - cmdstanpy - INFO - Chain [1] start processing\n",
      "15:30:37 - cmdstanpy - INFO - Chain [1] done processing\n",
      "15:30:37 - cmdstanpy - INFO - Chain [1] start processing\n",
      "15:30:39 - cmdstanpy - INFO - Chain [1] done processing\n",
      "15:30:39 - cmdstanpy - INFO - Chain [1] start processing\n",
      "15:30:41 - cmdstanpy - INFO - Chain [1] done processing\n",
      "15:30:41 - cmdstanpy - INFO - Chain [1] start processing\n",
      "15:30:43 - cmdstanpy - INFO - Chain [1] done processing\n",
      "15:30:43 - cmdstanpy - INFO - Chain [1] start processing\n",
      "15:30:46 - cmdstanpy - INFO - Chain [1] done processing\n",
      "15:30:46 - cmdstanpy - INFO - Chain [1] start processing\n",
      "15:30:47 - cmdstanpy - INFO - Chain [1] done processing\n",
      "15:30:47 - cmdstanpy - INFO - Chain [1] start processing\n",
      "15:30:48 - cmdstanpy - INFO - Chain [1] done processing\n",
      "15:30:48 - cmdstanpy - INFO - Chain [1] start processing\n",
      "15:30:49 - cmdstanpy - INFO - Chain [1] done processing\n",
      "15:30:49 - cmdstanpy - INFO - Chain [1] start processing\n",
      "15:30:50 - cmdstanpy - INFO - Chain [1] done processing\n"
     ]
    }
   ],
   "source": [
    "%%capture\n",
    "from sklearn.model_selection import ParameterGrid\n",
    "\n",
    "# run function and search for optiomal param\n",
    "\n",
    "#optimal_change_pt = None\n",
    "#optimal_seasonality = None\n",
    "best_params = None\n",
    "optimal_rmse = float('inf')\n",
    "\n",
    "parameter_grid = {\n",
    "\n",
    "    'cpps':[0.01, 0.05, 0.07, 0.1, 0.15, 0.2, 0.25, 0.35, 0.5, 0.7, 0.75, 1.0, 1.25, 1.5],\n",
    "    'snps':[0.01, 0.05, 0.07, 0.1, 0.15, 0.2, 0.25, 0.35, 0.5, 0.7, 0.75, 1.0, 1.25, 1.5]\n",
    "}\n",
    "for b_params in ParameterGrid(parameter_grid):\n",
    "    exp_rmse =optimal_prophet_params(**b_params)\n",
    "\n",
    "    if exp_rmse < optimal_rmse:\n",
    "        optimal_rmse = round(exp_rmse,4)\n",
    "        best_params = b_params"
   ]
  },
  {
   "attachments": {},
   "cell_type": "markdown",
   "metadata": {},
   "source": [
    "> Retrain and predict with final model using optimal params"
   ]
  },
  {
   "cell_type": "code",
   "execution_count": 916,
   "metadata": {},
   "outputs": [
    {
     "name": "stderr",
     "output_type": "stream",
     "text": [
      "15:32:48 - cmdstanpy - INFO - Chain [1] start processing\n",
      "15:32:49 - cmdstanpy - INFO - Chain [1] done processing\n"
     ]
    }
   ],
   "source": [
    "final_prophet_model = Prophet(changepoint_prior_scale=b_params['cpps'], seasonality_prior_scale=b_params['snps'])\n",
    "final_prophet_model_fit = final_prophet_model.fit(prophet_train_data)\n",
    "\n",
    "final_future_days = final_prophet_model.make_future_dataframe(periods=7)\n",
    "final_prophet_prediction = final_prophet_model_fit.predict(final_future_days)"
   ]
  },
  {
   "cell_type": "code",
   "execution_count": 917,
   "metadata": {},
   "outputs": [
    {
     "data": {
      "text/plain": [
       "1.5"
      ]
     },
     "execution_count": 917,
     "metadata": {},
     "output_type": "execute_result"
    }
   ],
   "source": [
    "final_prophet_model_fit.seasonality_prior_scale"
   ]
  },
  {
   "attachments": {},
   "cell_type": "markdown",
   "metadata": {},
   "source": [
    "> Final R-Mean Squared Error Metric:"
   ]
  },
  {
   "cell_type": "code",
   "execution_count": 918,
   "metadata": {},
   "outputs": [
    {
     "data": {
      "text/plain": [
       "0.0199"
      ]
     },
     "execution_count": 918,
     "metadata": {},
     "output_type": "execute_result"
    }
   ],
   "source": [
    "final_rmse = round(np.sqrt(mean_squared_error(test_dx, final_prophet_prediction['yhat'].tail(7))),4)\n",
    "final_rmse"
   ]
  },
  {
   "attachments": {},
   "cell_type": "markdown",
   "metadata": {},
   "source": [
    "> Final Mean Absolute Error Metric:"
   ]
  },
  {
   "cell_type": "code",
   "execution_count": 919,
   "metadata": {},
   "outputs": [
    {
     "data": {
      "text/plain": [
       "0.14"
      ]
     },
     "execution_count": 919,
     "metadata": {},
     "output_type": "execute_result"
    }
   ],
   "source": [
    "final_mae = round(np.sqrt(mean_absolute_error(test_dx, final_prophet_prediction['yhat'].tail(7))),2)\n",
    "final_mae"
   ]
  },
  {
   "cell_type": "code",
   "execution_count": 920,
   "metadata": {},
   "outputs": [],
   "source": [
    "#create data for visualization\n",
    "pred_viz_data = final_prophet_prediction[['ds','yhat']].tail(7)"
   ]
  },
  {
   "cell_type": "code",
   "execution_count": 921,
   "metadata": {},
   "outputs": [
    {
     "data": {
      "text/html": [
       "<div>\n",
       "<style scoped>\n",
       "    .dataframe tbody tr th:only-of-type {\n",
       "        vertical-align: middle;\n",
       "    }\n",
       "\n",
       "    .dataframe tbody tr th {\n",
       "        vertical-align: top;\n",
       "    }\n",
       "\n",
       "    .dataframe thead th {\n",
       "        text-align: right;\n",
       "    }\n",
       "</style>\n",
       "<table border=\"1\" class=\"dataframe\">\n",
       "  <thead>\n",
       "    <tr style=\"text-align: right;\">\n",
       "      <th></th>\n",
       "      <th>ds</th>\n",
       "      <th>yhat</th>\n",
       "    </tr>\n",
       "  </thead>\n",
       "  <tbody>\n",
       "    <tr>\n",
       "      <th>28</th>\n",
       "      <td>2021-09-27</td>\n",
       "      <td>0.055168</td>\n",
       "    </tr>\n",
       "    <tr>\n",
       "      <th>29</th>\n",
       "      <td>2021-09-28</td>\n",
       "      <td>0.055168</td>\n",
       "    </tr>\n",
       "    <tr>\n",
       "      <th>30</th>\n",
       "      <td>2021-09-29</td>\n",
       "      <td>0.054168</td>\n",
       "    </tr>\n",
       "    <tr>\n",
       "      <th>31</th>\n",
       "      <td>2021-09-30</td>\n",
       "      <td>0.053168</td>\n",
       "    </tr>\n",
       "    <tr>\n",
       "      <th>32</th>\n",
       "      <td>2021-10-01</td>\n",
       "      <td>0.052168</td>\n",
       "    </tr>\n",
       "    <tr>\n",
       "      <th>33</th>\n",
       "      <td>2021-10-02</td>\n",
       "      <td>0.052168</td>\n",
       "    </tr>\n",
       "    <tr>\n",
       "      <th>34</th>\n",
       "      <td>2021-10-03</td>\n",
       "      <td>0.052168</td>\n",
       "    </tr>\n",
       "  </tbody>\n",
       "</table>\n",
       "</div>"
      ],
      "text/plain": [
       "           ds      yhat\n",
       "28 2021-09-27  0.055168\n",
       "29 2021-09-28  0.055168\n",
       "30 2021-09-29  0.054168\n",
       "31 2021-09-30  0.053168\n",
       "32 2021-10-01  0.052168\n",
       "33 2021-10-02  0.052168\n",
       "34 2021-10-03  0.052168"
      ]
     },
     "execution_count": 921,
     "metadata": {},
     "output_type": "execute_result"
    }
   ],
   "source": [
    "pred_viz_data"
   ]
  },
  {
   "cell_type": "code",
   "execution_count": 922,
   "metadata": {},
   "outputs": [
    {
     "ename": "KeyError",
     "evalue": "\"None of ['ds'] are in the columns\"",
     "output_type": "error",
     "traceback": [
      "\u001b[0;31m---------------------------------------------------------------------------\u001b[0m",
      "\u001b[0;31mKeyError\u001b[0m                                  Traceback (most recent call last)",
      "\u001b[0;32m/var/folders/z4/0zc_fp8s00797jjzvfgyv__40000gn/T/ipykernel_13074/4268053566.py\u001b[0m in \u001b[0;36m?\u001b[0;34m()\u001b[0m\n\u001b[1;32m      2\u001b[0m \u001b[0mpred_viz_data\u001b[0m\u001b[0;34m[\u001b[0m\u001b[0;34m'yhat'\u001b[0m\u001b[0;34m]\u001b[0m\u001b[0;34m=\u001b[0m\u001b[0mround\u001b[0m\u001b[0;34m(\u001b[0m\u001b[0mpred_viz_data\u001b[0m\u001b[0;34m[\u001b[0m\u001b[0;34m'yhat'\u001b[0m\u001b[0;34m]\u001b[0m\u001b[0;34m,\u001b[0m\u001b[0;36m4\u001b[0m\u001b[0;34m)\u001b[0m\u001b[0;34m\u001b[0m\u001b[0;34m\u001b[0m\u001b[0m\n\u001b[1;32m      3\u001b[0m \u001b[0mpred_viz_data\u001b[0m\u001b[0;34m.\u001b[0m\u001b[0mset_index\u001b[0m\u001b[0;34m(\u001b[0m\u001b[0;34m'ds'\u001b[0m\u001b[0;34m,\u001b[0m \u001b[0minplace\u001b[0m\u001b[0;34m=\u001b[0m\u001b[0;32mTrue\u001b[0m\u001b[0;34m)\u001b[0m\u001b[0;34m\u001b[0m\u001b[0;34m\u001b[0m\u001b[0m\n\u001b[1;32m      4\u001b[0m \u001b[0;34m\u001b[0m\u001b[0m\n\u001b[1;32m      5\u001b[0m \u001b[0mtrue_viz_data\u001b[0m\u001b[0;34m=\u001b[0m \u001b[0mfltrd_eval_data\u001b[0m\u001b[0;34m\u001b[0m\u001b[0;34m\u001b[0m\u001b[0m\n\u001b[0;32m----> 6\u001b[0;31m \u001b[0mtrue_viz_data\u001b[0m\u001b[0;34m.\u001b[0m\u001b[0mset_index\u001b[0m\u001b[0;34m(\u001b[0m\u001b[0;34m'ds'\u001b[0m\u001b[0;34m,\u001b[0m \u001b[0minplace\u001b[0m\u001b[0;34m=\u001b[0m\u001b[0;32mTrue\u001b[0m\u001b[0;34m)\u001b[0m\u001b[0;34m\u001b[0m\u001b[0;34m\u001b[0m\u001b[0m\n\u001b[0m",
      "\u001b[0;32m/Library/Frameworks/Python.framework/Versions/3.10/lib/python3.10/site-packages/pandas/core/frame.py\u001b[0m in \u001b[0;36m?\u001b[0;34m(self, keys, drop, append, inplace, verify_integrity)\u001b[0m\n\u001b[1;32m   5855\u001b[0m                     \u001b[0;32mif\u001b[0m \u001b[0;32mnot\u001b[0m \u001b[0mfound\u001b[0m\u001b[0;34m:\u001b[0m\u001b[0;34m\u001b[0m\u001b[0;34m\u001b[0m\u001b[0m\n\u001b[1;32m   5856\u001b[0m                         \u001b[0mmissing\u001b[0m\u001b[0;34m.\u001b[0m\u001b[0mappend\u001b[0m\u001b[0;34m(\u001b[0m\u001b[0mcol\u001b[0m\u001b[0;34m)\u001b[0m\u001b[0;34m\u001b[0m\u001b[0;34m\u001b[0m\u001b[0m\n\u001b[1;32m   5857\u001b[0m \u001b[0;34m\u001b[0m\u001b[0m\n\u001b[1;32m   5858\u001b[0m         \u001b[0;32mif\u001b[0m \u001b[0mmissing\u001b[0m\u001b[0;34m:\u001b[0m\u001b[0;34m\u001b[0m\u001b[0;34m\u001b[0m\u001b[0m\n\u001b[0;32m-> 5859\u001b[0;31m             \u001b[0;32mraise\u001b[0m \u001b[0mKeyError\u001b[0m\u001b[0;34m(\u001b[0m\u001b[0;34mf\"None of {missing} are in the columns\"\u001b[0m\u001b[0;34m)\u001b[0m\u001b[0;34m\u001b[0m\u001b[0;34m\u001b[0m\u001b[0m\n\u001b[0m\u001b[1;32m   5860\u001b[0m \u001b[0;34m\u001b[0m\u001b[0m\n\u001b[1;32m   5861\u001b[0m         \u001b[0;32mif\u001b[0m \u001b[0minplace\u001b[0m\u001b[0;34m:\u001b[0m\u001b[0;34m\u001b[0m\u001b[0;34m\u001b[0m\u001b[0m\n\u001b[1;32m   5862\u001b[0m             \u001b[0mframe\u001b[0m \u001b[0;34m=\u001b[0m \u001b[0mself\u001b[0m\u001b[0;34m\u001b[0m\u001b[0;34m\u001b[0m\u001b[0m\n",
      "\u001b[0;31mKeyError\u001b[0m: \"None of ['ds'] are in the columns\""
     ]
    }
   ],
   "source": [
    "#prepare data for vizualization\n",
    "pred_viz_data['yhat']=round(pred_viz_data['yhat'],4)\n",
    "pred_viz_data.set_index('ds', inplace=True)\n",
    "\n",
    "true_viz_data= fltrd_eval_data\n",
    "true_viz_data.set_index('ds', inplace=True)"
   ]
  },
  {
   "cell_type": "code",
   "execution_count": 923,
   "metadata": {},
   "outputs": [
    {
     "data": {
      "image/png": "[encoded data removed]",
      "text/plain": [
       "<Figure size 1200x600 with 1 Axes>"
      ]
     },
     "metadata": {},
     "output_type": "display_data"
    }
   ],
   "source": [
    "plt.figure(figsize=(12,6))\n",
    "\n",
    "plt.plot(pred_viz_data['yhat'], label='Predicted')\n",
    "plt.plot(true_viz_data['true_values'], color='red', label='Actual')\n",
    "plt.legend()\n",
    "plt.show()"
   ]
  },
  {
   "cell_type": "code",
   "execution_count": 252,
   "metadata": {},
   "outputs": [
    {
     "data": {
      "text/html": [
       "<div>\n",
       "<style scoped>\n",
       "    .dataframe tbody tr th:only-of-type {\n",
       "        vertical-align: middle;\n",
       "    }\n",
       "\n",
       "    .dataframe tbody tr th {\n",
       "        vertical-align: top;\n",
       "    }\n",
       "\n",
       "    .dataframe thead th {\n",
       "        text-align: right;\n",
       "    }\n",
       "</style>\n",
       "<table border=\"1\" class=\"dataframe\">\n",
       "  <thead>\n",
       "    <tr style=\"text-align: right;\">\n",
       "      <th></th>\n",
       "      <th>yhat</th>\n",
       "    </tr>\n",
       "    <tr>\n",
       "      <th>ds</th>\n",
       "      <th></th>\n",
       "    </tr>\n",
       "  </thead>\n",
       "  <tbody>\n",
       "    <tr>\n",
       "      <th>2021-09-27</th>\n",
       "      <td>0.0702</td>\n",
       "    </tr>\n",
       "    <tr>\n",
       "      <th>2021-09-28</th>\n",
       "      <td>0.0702</td>\n",
       "    </tr>\n",
       "    <tr>\n",
       "      <th>2021-09-29</th>\n",
       "      <td>0.0697</td>\n",
       "    </tr>\n",
       "    <tr>\n",
       "      <th>2021-09-30</th>\n",
       "      <td>0.0700</td>\n",
       "    </tr>\n",
       "    <tr>\n",
       "      <th>2021-10-01</th>\n",
       "      <td>0.0692</td>\n",
       "    </tr>\n",
       "    <tr>\n",
       "      <th>2021-10-02</th>\n",
       "      <td>0.0697</td>\n",
       "    </tr>\n",
       "    <tr>\n",
       "      <th>2021-10-03</th>\n",
       "      <td>0.0697</td>\n",
       "    </tr>\n",
       "  </tbody>\n",
       "</table>\n",
       "</div>"
      ],
      "text/plain": [
       "              yhat\n",
       "ds                \n",
       "2021-09-27  0.0702\n",
       "2021-09-28  0.0702\n",
       "2021-09-29  0.0697\n",
       "2021-09-30  0.0700\n",
       "2021-10-01  0.0692\n",
       "2021-10-02  0.0697\n",
       "2021-10-03  0.0697"
      ]
     },
     "execution_count": 252,
     "metadata": {},
     "output_type": "execute_result"
    }
   ],
   "source": [
    "pred_viz_data"
   ]
  },
  {
   "attachments": {},
   "cell_type": "markdown",
   "metadata": {},
   "source": [
    "# <b><u> 4. 7-day average of the positivity rate </b></u>"
   ]
  },
  {
   "attachments": {},
   "cell_type": "markdown",
   "metadata": {},
   "source": [
    "> Data Curation"
   ]
  },
  {
   "cell_type": "code",
   "execution_count": 935,
   "metadata": {},
   "outputs": [],
   "source": [
    "%%capture\n",
    "\n",
    "#Initial Data\n",
    "sample_historical_2 = state_historical[['date', 'country','state','metrics.infectionRate','metrics.testPositivityRatio']]\n",
    "\n",
    "#Selecting the Date Range\n",
    "sample_historical_2 = sample_historical_2[(sample_historical_1['date'] >= '2021-08-23') & (sample_historical_2['date']< '2021-10-04')]\n",
    "\n",
    "#Filtering for Colorado State\n",
    "sample_historical_2 = sample_historical_2[sample_historical_1['state']=='CO']\n",
    "\n",
    "#Second Filtering of Columns\n",
    "co_cont_data_2 = sample_historical_2[['date','metrics.testPositivityRatio']]\n",
    "\n",
    "#Fix NaNs\n",
    "co_cont_data_2['metrics.testPositivityRatio'].fillna(0, inplace=True)\n",
    "\n",
    "\n",
    "#Make a copy of the the curated data\n",
    "sevenD_Positivity_data = co_cont_data_2.copy()"
   ]
  },
  {
   "attachments": {},
   "cell_type": "markdown",
   "metadata": {},
   "source": [
    ">  7 Day rolling average Calculation"
   ]
  },
  {
   "cell_type": "code",
   "execution_count": 941,
   "metadata": {},
   "outputs": [],
   "source": [
    "#The seven day average of daily positivity for each day is calculate here, rounded to 3 decimal points \n",
    "sevenD_Positivity_data['7day_window'] = sevenD_Positivity_data['metrics.testPositivityRatio'].rolling(window=7).mean()\n",
    "sevenD_Positivity_data['7day_window'] = round(sevenD_Positivity_data['7day_window'],3)"
   ]
  },
  {
   "attachments": {},
   "cell_type": "markdown",
   "metadata": {},
   "source": [
    "> Training Data Selection"
   ]
  },
  {
   "cell_type": "code",
   "execution_count": 1225,
   "metadata": {},
   "outputs": [],
   "source": [
    "# Selecting data for training. Here 80 percent of the data ( the four weeks)is selected for training here. \n",
    "pos_train_data = sevenD_Positivity_data[(sevenD_Positivity_data['date'] >= '2021-08-30') & (sevenD_Positivity_data['date']<= '2021-09-20')]"
   ]
  },
  {
   "cell_type": "code",
   "execution_count": 1226,
   "metadata": {},
   "outputs": [],
   "source": [
    "#column name preparation for prophet\n",
    "%%capture\n",
    "pos_train_data.rename(columns={'date':'ds','7day_window':'y'}, inplace=True)"
   ]
  },
  {
   "attachments": {},
   "cell_type": "markdown",
   "metadata": {},
   "source": [
    "> Test Data Selection"
   ]
  },
  {
   "cell_type": "code",
   "execution_count": 1222,
   "metadata": {},
   "outputs": [],
   "source": [
    "#selecting data for testing\n",
    "pos_test_data = sevenD_Positivity_data.tail(7)"
   ]
  },
  {
   "cell_type": "code",
   "execution_count": 1223,
   "metadata": {},
   "outputs": [],
   "source": [
    "# Set the date column as index. \n",
    "pos_test_data.set_index('date', inplace=True)"
   ]
  },
  {
   "cell_type": "code",
   "execution_count": 960,
   "metadata": {},
   "outputs": [
    {
     "data": {
      "text/html": [
       "<div>\n",
       "<style scoped>\n",
       "    .dataframe tbody tr th:only-of-type {\n",
       "        vertical-align: middle;\n",
       "    }\n",
       "\n",
       "    .dataframe tbody tr th {\n",
       "        vertical-align: top;\n",
       "    }\n",
       "\n",
       "    .dataframe thead th {\n",
       "        text-align: right;\n",
       "    }\n",
       "</style>\n",
       "<table border=\"1\" class=\"dataframe\">\n",
       "  <thead>\n",
       "    <tr style=\"text-align: right;\">\n",
       "      <th></th>\n",
       "      <th>metrics.testPositivityRatio</th>\n",
       "      <th>7day_window</th>\n",
       "    </tr>\n",
       "    <tr>\n",
       "      <th>date</th>\n",
       "      <th></th>\n",
       "      <th></th>\n",
       "    </tr>\n",
       "  </thead>\n",
       "  <tbody>\n",
       "    <tr>\n",
       "      <th>2021-09-27</th>\n",
       "      <td>0.068</td>\n",
       "      <td>0.069</td>\n",
       "    </tr>\n",
       "    <tr>\n",
       "      <th>2021-09-28</th>\n",
       "      <td>0.069</td>\n",
       "      <td>0.069</td>\n",
       "    </tr>\n",
       "    <tr>\n",
       "      <th>2021-09-29</th>\n",
       "      <td>0.072</td>\n",
       "      <td>0.069</td>\n",
       "    </tr>\n",
       "    <tr>\n",
       "      <th>2021-09-30</th>\n",
       "      <td>0.073</td>\n",
       "      <td>0.069</td>\n",
       "    </tr>\n",
       "    <tr>\n",
       "      <th>2021-10-01</th>\n",
       "      <td>0.076</td>\n",
       "      <td>0.071</td>\n",
       "    </tr>\n",
       "    <tr>\n",
       "      <th>2021-10-02</th>\n",
       "      <td>0.076</td>\n",
       "      <td>0.072</td>\n",
       "    </tr>\n",
       "    <tr>\n",
       "      <th>2021-10-03</th>\n",
       "      <td>0.076</td>\n",
       "      <td>0.073</td>\n",
       "    </tr>\n",
       "  </tbody>\n",
       "</table>\n",
       "</div>"
      ],
      "text/plain": [
       "            metrics.testPositivityRatio  7day_window\n",
       "date                                                \n",
       "2021-09-27                        0.068        0.069\n",
       "2021-09-28                        0.069        0.069\n",
       "2021-09-29                        0.072        0.069\n",
       "2021-09-30                        0.073        0.069\n",
       "2021-10-01                        0.076        0.071\n",
       "2021-10-02                        0.076        0.072\n",
       "2021-10-03                        0.076        0.073"
      ]
     },
     "execution_count": 960,
     "metadata": {},
     "output_type": "execute_result"
    }
   ],
   "source": [
    "pos_test_data"
   ]
  },
  {
   "attachments": {},
   "cell_type": "markdown",
   "metadata": {},
   "source": [
    "> Model Training"
   ]
  },
  {
   "cell_type": "code",
   "execution_count": 1224,
   "metadata": {},
   "outputs": [
    {
     "name": "stderr",
     "output_type": "stream",
     "text": [
      "18:33:05 - cmdstanpy - INFO - Chain [1] start processing\n",
      "18:33:12 - cmdstanpy - INFO - Chain [1] done processing\n"
     ]
    },
    {
     "data": {
      "text/html": [
       "<div>\n",
       "<style scoped>\n",
       "    .dataframe tbody tr th:only-of-type {\n",
       "        vertical-align: middle;\n",
       "    }\n",
       "\n",
       "    .dataframe tbody tr th {\n",
       "        vertical-align: top;\n",
       "    }\n",
       "\n",
       "    .dataframe thead th {\n",
       "        text-align: right;\n",
       "    }\n",
       "</style>\n",
       "<table border=\"1\" class=\"dataframe\">\n",
       "  <thead>\n",
       "    <tr style=\"text-align: right;\">\n",
       "      <th></th>\n",
       "      <th>ds</th>\n",
       "      <th>yhat</th>\n",
       "    </tr>\n",
       "  </thead>\n",
       "  <tbody>\n",
       "    <tr>\n",
       "      <th>28</th>\n",
       "      <td>2021-09-27</td>\n",
       "      <td>0.068</td>\n",
       "    </tr>\n",
       "    <tr>\n",
       "      <th>29</th>\n",
       "      <td>2021-09-28</td>\n",
       "      <td>0.068</td>\n",
       "    </tr>\n",
       "    <tr>\n",
       "      <th>30</th>\n",
       "      <td>2021-09-29</td>\n",
       "      <td>0.068</td>\n",
       "    </tr>\n",
       "    <tr>\n",
       "      <th>31</th>\n",
       "      <td>2021-09-30</td>\n",
       "      <td>0.068</td>\n",
       "    </tr>\n",
       "    <tr>\n",
       "      <th>32</th>\n",
       "      <td>2021-10-01</td>\n",
       "      <td>0.068</td>\n",
       "    </tr>\n",
       "    <tr>\n",
       "      <th>33</th>\n",
       "      <td>2021-10-02</td>\n",
       "      <td>0.068</td>\n",
       "    </tr>\n",
       "    <tr>\n",
       "      <th>34</th>\n",
       "      <td>2021-10-03</td>\n",
       "      <td>0.067</td>\n",
       "    </tr>\n",
       "  </tbody>\n",
       "</table>\n",
       "</div>"
      ],
      "text/plain": [
       "           ds   yhat\n",
       "28 2021-09-27  0.068\n",
       "29 2021-09-28  0.068\n",
       "30 2021-09-29  0.068\n",
       "31 2021-09-30  0.068\n",
       "32 2021-10-01  0.068\n",
       "33 2021-10-02  0.068\n",
       "34 2021-10-03  0.067"
      ]
     },
     "execution_count": 1224,
     "metadata": {},
     "output_type": "execute_result"
    }
   ],
   "source": [
    "#define model hyper parameters\n",
    "model_7dx2 = Prophet(changepoint_prior_scale= 0.152, seasonality_prior_scale=0.01, seasonality_mode='multiplicative')\n",
    "\n",
    "#fitting the model with the training data\n",
    "model_7dx2_fit = model_7dx2.fit(pos_train_data)\n",
    "\n",
    "#set the number of prediction we're making\n",
    "pos_days = model_7dx2_fit.make_future_dataframe(periods=13)\n",
    "\n",
    "#Making the prediction\n",
    "pos_forcast = model_7dx2_fit.predict(pos_days)\n",
    "\n",
    "#Selecting the result we're looking for \n",
    "pos_result = pos_forcast.tail(7)[['ds','yhat']]\n",
    "\n",
    "#Format the result\n",
    "pos_result['yhat'] = round(pos_result['yhat'],3)\n",
    "\n",
    "#sample view of the result\n",
    "pos_result"
   ]
  },
  {
   "attachments": {},
   "cell_type": "markdown",
   "metadata": {},
   "source": [
    "> Result Visualization"
   ]
  },
  {
   "cell_type": "code",
   "execution_count": 1218,
   "metadata": {},
   "outputs": [
    {
     "data": {
      "text/html": [
       "<div>\n",
       "<style scoped>\n",
       "    .dataframe tbody tr th:only-of-type {\n",
       "        vertical-align: middle;\n",
       "    }\n",
       "\n",
       "    .dataframe tbody tr th {\n",
       "        vertical-align: top;\n",
       "    }\n",
       "\n",
       "    .dataframe thead th {\n",
       "        text-align: right;\n",
       "    }\n",
       "</style>\n",
       "<table border=\"1\" class=\"dataframe\">\n",
       "  <thead>\n",
       "    <tr style=\"text-align: right;\">\n",
       "      <th></th>\n",
       "      <th>yhat</th>\n",
       "      <th>true_val</th>\n",
       "    </tr>\n",
       "    <tr>\n",
       "      <th>ds</th>\n",
       "      <th></th>\n",
       "      <th></th>\n",
       "    </tr>\n",
       "  </thead>\n",
       "  <tbody>\n",
       "    <tr>\n",
       "      <th>2021-09-27</th>\n",
       "      <td>0.069</td>\n",
       "      <td>0.069</td>\n",
       "    </tr>\n",
       "    <tr>\n",
       "      <th>2021-09-28</th>\n",
       "      <td>0.069</td>\n",
       "      <td>0.069</td>\n",
       "    </tr>\n",
       "    <tr>\n",
       "      <th>2021-09-29</th>\n",
       "      <td>0.069</td>\n",
       "      <td>0.069</td>\n",
       "    </tr>\n",
       "    <tr>\n",
       "      <th>2021-09-30</th>\n",
       "      <td>0.069</td>\n",
       "      <td>0.069</td>\n",
       "    </tr>\n",
       "    <tr>\n",
       "      <th>2021-10-01</th>\n",
       "      <td>0.068</td>\n",
       "      <td>0.071</td>\n",
       "    </tr>\n",
       "    <tr>\n",
       "      <th>2021-10-02</th>\n",
       "      <td>0.067</td>\n",
       "      <td>0.072</td>\n",
       "    </tr>\n",
       "    <tr>\n",
       "      <th>2021-10-03</th>\n",
       "      <td>0.067</td>\n",
       "      <td>0.073</td>\n",
       "    </tr>\n",
       "  </tbody>\n",
       "</table>\n",
       "</div>"
      ],
      "text/plain": [
       "             yhat  true_val\n",
       "ds                         \n",
       "2021-09-27  0.069     0.069\n",
       "2021-09-28  0.069     0.069\n",
       "2021-09-29  0.069     0.069\n",
       "2021-09-30  0.069     0.069\n",
       "2021-10-01  0.068     0.071\n",
       "2021-10-02  0.067     0.072\n",
       "2021-10-03  0.067     0.073"
      ]
     },
     "execution_count": 1218,
     "metadata": {},
     "output_type": "execute_result"
    }
   ],
   "source": [
    "#Copy the result to a new variable\n",
    "pos_viz_data = pos_result.copy()\n",
    "\n",
    "#formating the dataframe columns, seting ds as index\n",
    "pos_viz_data.set_index('ds', inplace=True)\n",
    "\n",
    "#adding the test data to the visualization data frame\n",
    "pos_viz_data['true_val']=pos_test_data['7day_window']\n",
    "\n",
    "#Sample Data view \n",
    "pos_viz_data"
   ]
  },
  {
   "cell_type": "code",
   "execution_count": 1236,
   "metadata": {},
   "outputs": [],
   "source": [
    "#result to excel\n",
    "pos_viz_data.to_csv('Q4.csv')"
   ]
  },
  {
   "cell_type": "code",
   "execution_count": 1219,
   "metadata": {},
   "outputs": [
    {
     "data": {
      "image/png": "[encoded data removed]",
      "text/plain": [
       "<Figure size 1200x600 with 1 Axes>"
      ]
     },
     "metadata": {},
     "output_type": "display_data"
    }
   ],
   "source": [
    "\n",
    "plt.figure(figsize=(12,6)) #set figure size\n",
    "\n",
    "plt.plot(pos_viz_data['yhat'], label='Predicted') #select the predicted value\n",
    "\n",
    "plt.plot(pos_viz_data['true_val'], color='red', label='Actual') #select the test data\n",
    "\n",
    "plt.legend() #show legends\n",
    "\n",
    "plt.show()"
   ]
  },
  {
   "attachments": {},
   "cell_type": "markdown",
   "metadata": {},
   "source": [
    "> Metrics Evaluation: Mean Absolute Error"
   ]
  },
  {
   "cell_type": "code",
   "execution_count": 1229,
   "metadata": {},
   "outputs": [
    {
     "data": {
      "text/plain": [
       "0.002"
      ]
     },
     "execution_count": 1229,
     "metadata": {},
     "output_type": "execute_result"
    }
   ],
   "source": [
    "#Calculation of mean MAE\n",
    "\n",
    "pos_mae = round(mean_absolute_error(pos_viz_data['true_val'], pos_viz_data['yhat']),4)\n",
    "\n",
    "#print MAE\n",
    "pos_mae"
   ]
  },
  {
   "attachments": {},
   "cell_type": "markdown",
   "metadata": {},
   "source": [
    ">Metrics Evaluation: Root Mean Squared Error"
   ]
  },
  {
   "cell_type": "code",
   "execution_count": 1233,
   "metadata": {},
   "outputs": [
    {
     "data": {
      "text/plain": [
       "0.0032"
      ]
     },
     "execution_count": 1233,
     "metadata": {},
     "output_type": "execute_result"
    }
   ],
   "source": [
    "#calculation\n",
    "pos_rmse = round(np.sqrt(mean_squared_error(pos_viz_data['true_val'], pos_viz_data['yhat'])),4)\n",
    "\n",
    "#print result\n",
    "pos_rmse"
   ]
  }
 ],
 "metadata": {
  "kernelspec": {
   "display_name": "Python 3",
   "language": "python",
   "name": "python3"
  },
  "language_info": {
   "codemirror_mode": {
    "name": "ipython",
    "version": 3
   },
   "file_extension": ".py",
   "mimetype": "text/x-python",
   "name": "python",
   "nbconvert_exporter": "python",
   "pygments_lexer": "ipython3",
   "version": "3.10.0"
  },
  "orig_nbformat": 4,
  "vscode": {
   "interpreter": {
    "hash": "7e1998ff7f8aa20ada591c520b972326324e5ea05489af9e422744c7c09f6dad"
   }
  }
 },
 "nbformat": 4,
 "nbformat_minor": 2
}
